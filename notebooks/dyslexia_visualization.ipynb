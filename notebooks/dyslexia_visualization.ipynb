{
 "cells": [
  {
   "cell_type": "code",
   "id": "initial_id",
   "metadata": {
    "collapsed": true,
    "ExecuteTime": {
     "end_time": "2024-12-19T14:48:57.568701Z",
     "start_time": "2024-12-19T14:48:54.522540Z"
    }
   },
   "source": [
    "import os\n",
    "from os.path import join\n",
    "import mlflow\n",
    "\n",
    "import torch\n",
    "import numpy as np\n",
    "import pandas as pd\n",
    "import matplotlib.pyplot as plt\n",
    "import pytorch_lightning as pl\n",
    "\n",
    "from src.dyslexia_dataloader import DyslexiaDataModule\n",
    "from src.dyslexia_training_module import DyslexiaTrainingModule\n",
    "\n",
    "from pytorch_lightning.callbacks import ModelCheckpoint\n",
    "from pytorch_lightning.callbacks.early_stopping import EarlyStopping"
   ],
   "outputs": [],
   "execution_count": 1
  },
  {
   "metadata": {
    "ExecuteTime": {
     "end_time": "2024-12-19T14:48:57.587256Z",
     "start_time": "2024-12-19T14:48:57.583963Z"
    }
   },
   "cell_type": "code",
   "source": [
    "DATA_PATH = join(\"..\", \"data\")\n",
    "IMAGES_DIR_NAME = \"dyslexia_images_big\""
   ],
   "id": "1dbb2f86635159cd",
   "outputs": [],
   "execution_count": 2
  },
  {
   "metadata": {
    "ExecuteTime": {
     "end_time": "2024-12-19T14:48:57.662154Z",
     "start_time": "2024-12-19T14:48:57.644611Z"
    }
   },
   "cell_type": "code",
   "source": [
    "device = torch.device('cuda' if torch.cuda.is_available() else 'cpu')\n",
    "device"
   ],
   "id": "520158b182f76965",
   "outputs": [
    {
     "data": {
      "text/plain": [
       "device(type='cuda')"
      ]
     },
     "execution_count": 3,
     "metadata": {},
     "output_type": "execute_result"
    }
   ],
   "execution_count": 3
  },
  {
   "metadata": {},
   "cell_type": "markdown",
   "source": "### Utility Functions",
   "id": "7becd39d7cfaca18"
  },
  {
   "metadata": {
    "ExecuteTime": {
     "end_time": "2024-12-19T14:48:57.704421Z",
     "start_time": "2024-12-19T14:48:57.700993Z"
    }
   },
   "cell_type": "code",
   "source": [
    "def show_loss_graph(experiment_id, run_id, save_path: str = join(\"..\", \"logging\", \"plots\")):\n",
    "    metrics_path = join(\"mlruns\", str(experiment_id), run_id, \"metrics\")\n",
    "    \n",
    "    fig, ax = plt.subplots(figsize=(10, 6))\n",
    "    stages = (\"train\", \"val\")\n",
    "    losses = (\"loss\",)\n",
    "    for stage in stages:\n",
    "        for loss in losses:\n",
    "            name = f'{stage}_{loss}_epoch'\n",
    "            path = join(metrics_path, name)\n",
    "            values = pd.read_csv(path, delimiter=' ').to_numpy()\n",
    "            \n",
    "            ax.plot(values[:, 2].flatten(), values[:, 1].flatten(), label=name)\n",
    "        \n",
    "    ax.legend()\n",
    "    ax.set(title=\"Model performance\", xlabel=\"Epoch\", ylabel=\"Loss\")\n",
    "    \n",
    "    if not os.path.exists(save_path):\n",
    "        os.mkdir(save_path)  \n",
    "    fig.savefig(os.path.join(save_path, f\"training_plot_{experiment_id}_{run_id}\"))"
   ],
   "id": "53a062f1199d4376",
   "outputs": [],
   "execution_count": 4
  },
  {
   "metadata": {
    "ExecuteTime": {
     "end_time": "2024-12-19T14:48:57.751047Z",
     "start_time": "2024-12-19T14:48:57.748234Z"
    }
   },
   "cell_type": "code",
   "source": [
    "def reverse_transform(inp):\n",
    "    inp = inp.numpy().transpose((1, 2, 0))\n",
    "    mean = np.array([0.485, 0.456, 0.406])\n",
    "    std = np.array([0.229, 0.224, 0.225])\n",
    "    inp = std * inp + mean\n",
    "    inp = np.clip(inp, 0, 1)\n",
    "    inp = (inp * 255).astype(np.uint8)\n",
    "    return inp"
   ],
   "id": "81d6daba45bc558d",
   "outputs": [],
   "execution_count": 5
  },
  {
   "metadata": {},
   "cell_type": "markdown",
   "source": "### MLFLOW Setup",
   "id": "c23b8f42b90b6db5"
  },
  {
   "metadata": {
    "ExecuteTime": {
     "end_time": "2024-12-19T14:48:57.813091Z",
     "start_time": "2024-12-19T14:48:57.796057Z"
    }
   },
   "cell_type": "code",
   "source": [
    "run = None\n",
    "\n",
    "EXPERIMENT_NAME = \"dyslexia_cnn\"\n",
    "RUN_ID = None\n",
    "MLFLOW_LOGGING_PATH = join(\"..\", \"logging\", \"mlruns\")\n",
    "\n",
    "if mlflow.get_experiment_by_name(EXPERIMENT_NAME) is None:\n",
    "    EXPERIMENT_ID = mlflow.create_experiment(EXPERIMENT_NAME, artifact_location=MLFLOW_LOGGING_PATH)\n",
    "else:\n",
    "    EXPERIMENT_ID = mlflow.get_experiment_by_name(EXPERIMENT_NAME).experiment_id"
   ],
   "id": "3e502130ff9e1d58",
   "outputs": [],
   "execution_count": 6
  },
  {
   "metadata": {},
   "cell_type": "markdown",
   "source": "### Hyperparameters",
   "id": "16c824a19cdf045b"
  },
  {
   "metadata": {
    "ExecuteTime": {
     "end_time": "2024-12-19T14:48:57.846739Z",
     "start_time": "2024-12-19T14:48:57.843482Z"
    }
   },
   "cell_type": "code",
   "source": [
    "BATCH_SIZE  = 64\n",
    "MAX_EPOCHS  = 30\n",
    "NUM_CLASSES = 2\n",
    "PATIENCE    = 10\n",
    "\n",
    "WIDTH = HEIGHT = IMG_SIZE = 50"
   ],
   "id": "efeb3eb9da1af5e2",
   "outputs": [],
   "execution_count": 7
  },
  {
   "metadata": {},
   "cell_type": "markdown",
   "source": "### Dataset",
   "id": "e7ba8f8430b953f1"
  },
  {
   "metadata": {
    "ExecuteTime": {
     "end_time": "2024-12-19T14:48:57.893845Z",
     "start_time": "2024-12-19T14:48:57.890487Z"
    }
   },
   "cell_type": "code",
   "source": "IMAGE_ID = 1",
   "id": "feb7b8bdc69bd03b",
   "outputs": [],
   "execution_count": 8
  },
  {
   "metadata": {
    "ExecuteTime": {
     "end_time": "2024-12-19T14:48:57.965438Z",
     "start_time": "2024-12-19T14:48:57.939601Z"
    }
   },
   "cell_type": "code",
   "source": [
    "data_module_small = DyslexiaDataModule(\n",
    "    batch_size=BATCH_SIZE,\n",
    "    data_path=DATA_PATH,\n",
    "    train_frac=0.85,\n",
    "    val_frac=0.10,\n",
    "    width=WIDTH,\n",
    "    height=HEIGHT,\n",
    "    images_dir_name=\"dyslexia_images_small\"\n",
    ")"
   ],
   "id": "82af1a02f6a8a0b",
   "outputs": [],
   "execution_count": 9
  },
  {
   "metadata": {
    "ExecuteTime": {
     "end_time": "2024-12-19T14:48:58.005007Z",
     "start_time": "2024-12-19T14:48:57.985844Z"
    }
   },
   "cell_type": "code",
   "source": [
    "data_module_big = DyslexiaDataModule(\n",
    "    batch_size=BATCH_SIZE,\n",
    "    data_path=DATA_PATH,\n",
    "    train_frac=0.85,\n",
    "    val_frac=0.10,\n",
    "    width=WIDTH,\n",
    "    height=HEIGHT,\n",
    "    images_dir_name=\"dyslexia_images_big\"\n",
    ")"
   ],
   "id": "5200ca9539aa1fb2",
   "outputs": [],
   "execution_count": 10
  },
  {
   "metadata": {
    "ExecuteTime": {
     "end_time": "2024-12-19T14:48:58.042515Z",
     "start_time": "2024-12-19T14:48:58.035021Z"
    }
   },
   "cell_type": "code",
   "source": [
    "import cv2\n",
    "\n",
    "def get_image(path: str):\n",
    "    img = cv2.imread(path)\n",
    "    img = cv2.cvtColor(img, cv2.COLOR_BGR2RGB)\n",
    "    return img\n",
    "\n",
    "def show_images(image_id: int = IMAGE_ID):\n",
    "    image_name       = data_module_small.ds_train.group_ids[image_id] + \".png\"\n",
    "    image_path_small = join(DATA_PATH, \"dyslexia_images_small\", image_name)\n",
    "    image_path_big   = join(DATA_PATH, \"dyslexia_images_big\", image_name)\n",
    "    image_real_small = get_image(image_path_small)\n",
    "    image_real_big   = get_image(image_path_big)\n",
    "    image_res_small  = data_module_small.ds_train[image_id][0]\n",
    "    image_res_big    = data_module_big.ds_train[image_id][0]\n",
    "\n",
    "    fig, axes = plt.subplots(ncols=2, nrows=2, figsize=(10, 6))\n",
    "    axes[0, 0].imshow(image_real_small)\n",
    "    axes[0, 0].set(title=\"Real scanpath    ('small' paths)\")\n",
    "    axes[0, 1].imshow(image_real_big)\n",
    "    axes[0, 1].set(title=\"Real scanpath    ('big' paths)\")\n",
    "    axes[1, 0].imshow(reverse_transform(image_res_small))\n",
    "    axes[1, 0].set(title=\"Resized scanpath ('small' paths)\")\n",
    "    axes[1, 1].imshow(reverse_transform(image_res_big))\n",
    "    axes[1, 1].set(title=\"Resized scanpath ('big' paths)\")\n",
    "    fig.tight_layout()"
   ],
   "id": "fe049cde43b4d6ce",
   "outputs": [],
   "execution_count": 11
  },
  {
   "metadata": {
    "ExecuteTime": {
     "end_time": "2024-12-19T14:48:58.536746Z",
     "start_time": "2024-12-19T14:48:58.086928Z"
    }
   },
   "cell_type": "code",
   "source": "show_images(3)",
   "id": "559fea8f5a42ed3e",
   "outputs": [
    {
     "data": {
      "text/plain": [
       "<Figure size 1000x600 with 4 Axes>"
      ],
      "image/png": "[encoded data removed]"
     },
     "metadata": {},
     "output_type": "display_data"
    }
   ],
   "execution_count": 12
  },
  {
   "metadata": {
    "ExecuteTime": {
     "end_time": "2024-12-19T14:52:11.663646Z",
     "start_time": "2024-12-19T14:52:11.651734Z"
    }
   },
   "cell_type": "code",
   "source": [
    "pd.DataFrame(data={\n",
    "    \"ResNet\": {\n",
    "        \"f1\": 0.67,\n",
    "        \"precision\": 0.70,\n",
    "        \"recall\": 0.67\n",
    "    },\n",
    "    \"CNN\": {\n",
    "        \"f1\": 0.61,\n",
    "        \"precision\": 0.67,\n",
    "        \"recall\": 0.61\n",
    "    }\n",
    "}).T"
   ],
   "id": "eb8960d33d814a28",
   "outputs": [
    {
     "data": {
      "text/plain": [
       "          f1  precision  recall\n",
       "ResNet  0.67       0.70    0.67\n",
       "CNN     0.61       0.67    0.61"
      ],
      "text/html": [
       "<div>\n",
       "<style scoped>\n",
       "    .dataframe tbody tr th:only-of-type {\n",
       "        vertical-align: middle;\n",
       "    }\n",
       "\n",
       "    .dataframe tbody tr th {\n",
       "        vertical-align: top;\n",
       "    }\n",
       "\n",
       "    .dataframe thead th {\n",
       "        text-align: right;\n",
       "    }\n",
       "</style>\n",
       "<table border=\"1\" class=\"dataframe\">\n",
       "  <thead>\n",
       "    <tr style=\"text-align: right;\">\n",
       "      <th></th>\n",
       "      <th>f1</th>\n",
       "      <th>precision</th>\n",
       "      <th>recall</th>\n",
       "    </tr>\n",
       "  </thead>\n",
       "  <tbody>\n",
       "    <tr>\n",
       "      <th>ResNet</th>\n",
       "      <td>0.67</td>\n",
       "      <td>0.70</td>\n",
       "      <td>0.67</td>\n",
       "    </tr>\n",
       "    <tr>\n",
       "      <th>CNN</th>\n",
       "      <td>0.61</td>\n",
       "      <td>0.67</td>\n",
       "      <td>0.61</td>\n",
       "    </tr>\n",
       "  </tbody>\n",
       "</table>\n",
       "</div>"
      ]
     },
     "execution_count": 14,
     "metadata": {},
     "output_type": "execute_result"
    }
   ],
   "execution_count": 14
  }
 ],
 "metadata": {
  "kernelspec": {
   "display_name": "Python 3",
   "language": "python",
   "name": "python3"
  },
  "language_info": {
   "codemirror_mode": {
    "name": "ipython",
    "version": 2
   },
   "file_extension": ".py",
   "mimetype": "text/x-python",
   "name": "python",
   "nbconvert_exporter": "python",
   "pygments_lexer": "ipython2",
   "version": "2.7.6"
  }
 },
 "nbformat": 4,
 "nbformat_minor": 5
}
