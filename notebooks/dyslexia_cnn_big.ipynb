{
 "cells": [
  {
   "cell_type": "code",
   "id": "initial_id",
   "metadata": {
    "collapsed": true,
    "ExecuteTime": {
     "end_time": "2024-12-18T21:13:04.307090Z",
     "start_time": "2024-12-18T21:13:00.264817Z"
    }
   },
   "source": [
    "import os\n",
    "from os.path import join\n",
    "import mlflow\n",
    "\n",
    "import torch\n",
    "import numpy as np\n",
    "import pandas as pd\n",
    "import matplotlib.pyplot as plt\n",
    "import pytorch_lightning as pl\n",
    "\n",
    "from src.dyslexia_dataloader import DyslexiaDataModule\n",
    "from src.dyslexia_training_module import DyslexiaTrainingModule\n",
    "\n",
    "from pytorch_lightning.callbacks import ModelCheckpoint\n",
    "from pytorch_lightning.callbacks.early_stopping import EarlyStopping"
   ],
   "outputs": [],
   "execution_count": 1
  },
  {
   "metadata": {
    "ExecuteTime": {
     "end_time": "2024-12-18T21:13:04.314165Z",
     "start_time": "2024-12-18T21:13:04.311529Z"
    }
   },
   "cell_type": "code",
   "source": "DATA_PATH = join(\"..\", \"data\")",
   "id": "1dbb2f86635159cd",
   "outputs": [],
   "execution_count": 2
  },
  {
   "metadata": {
    "ExecuteTime": {
     "end_time": "2024-12-18T21:13:04.383910Z",
     "start_time": "2024-12-18T21:13:04.366149Z"
    }
   },
   "cell_type": "code",
   "source": [
    "device = torch.device('cuda' if torch.cuda.is_available() else 'cpu')\n",
    "device"
   ],
   "id": "520158b182f76965",
   "outputs": [
    {
     "data": {
      "text/plain": [
       "device(type='cuda')"
      ]
     },
     "execution_count": 3,
     "metadata": {},
     "output_type": "execute_result"
    }
   ],
   "execution_count": 3
  },
  {
   "metadata": {},
   "cell_type": "markdown",
   "source": "### Utility Functions",
   "id": "7becd39d7cfaca18"
  },
  {
   "metadata": {
    "ExecuteTime": {
     "end_time": "2024-12-18T21:13:04.418374Z",
     "start_time": "2024-12-18T21:13:04.415349Z"
    }
   },
   "cell_type": "code",
   "source": [
    "def show_loss_graph(experiment_id, run_id, save_path: str = join(\"..\", \"logging\", \"plots\")):\n",
    "    metrics_path = join(\"mlruns\", str(experiment_id), run_id, \"metrics\")\n",
    "    \n",
    "    fig, ax = plt.subplots(figsize=(10, 6))\n",
    "    stages = (\"train\", \"val\")\n",
    "    losses = (\"loss\",)\n",
    "    for stage in stages:\n",
    "        for loss in losses:\n",
    "            name = f'{stage}_{loss}_epoch'\n",
    "            path = join(metrics_path, name)\n",
    "            values = pd.read_csv(path, delimiter=' ').to_numpy()\n",
    "            \n",
    "            ax.plot(values[:, 2].flatten(), values[:, 1].flatten(), label=name)\n",
    "        \n",
    "    ax.legend()\n",
    "    ax.set(title=\"Model performance\", xlabel=\"Epoch\", ylabel=\"Loss\")\n",
    "    \n",
    "    if not os.path.exists(save_path):\n",
    "        os.mkdir(save_path)  \n",
    "    fig.savefig(os.path.join(save_path, f\"training_plot_{experiment_id}_{run_id}\"))"
   ],
   "id": "53a062f1199d4376",
   "outputs": [],
   "execution_count": 4
  },
  {
   "metadata": {
    "ExecuteTime": {
     "end_time": "2024-12-18T21:13:04.466649Z",
     "start_time": "2024-12-18T21:13:04.463441Z"
    }
   },
   "cell_type": "code",
   "source": [
    "def reverse_transform(inp):\n",
    "    inp = inp.numpy().transpose((1, 2, 0))\n",
    "    mean = np.array([0.485, 0.456, 0.406])\n",
    "    std = np.array([0.229, 0.224, 0.225])\n",
    "    inp = std * inp + mean\n",
    "    inp = np.clip(inp, 0, 1)\n",
    "    inp = (inp * 255).astype(np.uint8)\n",
    "    return inp"
   ],
   "id": "81d6daba45bc558d",
   "outputs": [],
   "execution_count": 5
  },
  {
   "metadata": {},
   "cell_type": "markdown",
   "source": "### MLFLOW Setup",
   "id": "c23b8f42b90b6db5"
  },
  {
   "metadata": {
    "ExecuteTime": {
     "end_time": "2024-12-18T21:13:04.527108Z",
     "start_time": "2024-12-18T21:13:04.511414Z"
    }
   },
   "cell_type": "code",
   "source": [
    "run = None\n",
    "\n",
    "EXPERIMENT_NAME = \"dyslexia_cnn\"\n",
    "RUN_ID = None\n",
    "MLFLOW_LOGGING_PATH = join(\"..\", \"logging\", \"mlruns\")\n",
    "\n",
    "if mlflow.get_experiment_by_name(EXPERIMENT_NAME) is None:\n",
    "    EXPERIMENT_ID = mlflow.create_experiment(EXPERIMENT_NAME, artifact_location=MLFLOW_LOGGING_PATH)\n",
    "else:\n",
    "    EXPERIMENT_ID = mlflow.get_experiment_by_name(EXPERIMENT_NAME).experiment_id"
   ],
   "id": "3e502130ff9e1d58",
   "outputs": [],
   "execution_count": 6
  },
  {
   "metadata": {},
   "cell_type": "markdown",
   "source": "### Hyperparameters",
   "id": "16c824a19cdf045b"
  },
  {
   "metadata": {
    "ExecuteTime": {
     "end_time": "2024-12-18T21:13:04.562109Z",
     "start_time": "2024-12-18T21:13:04.558670Z"
    }
   },
   "cell_type": "code",
   "source": [
    "BATCH_SIZE  = 64\n",
    "MAX_EPOCHS  = 30\n",
    "NUM_CLASSES = 2\n",
    "PATIENCE    = 10\n",
    "\n",
    "WIDTH = HEIGHT = IMG_SIZE = 50"
   ],
   "id": "efeb3eb9da1af5e2",
   "outputs": [],
   "execution_count": 7
  },
  {
   "metadata": {},
   "cell_type": "markdown",
   "source": "### Dataset",
   "id": "e7ba8f8430b953f1"
  },
  {
   "metadata": {
    "ExecuteTime": {
     "end_time": "2024-12-18T21:13:04.609108Z",
     "start_time": "2024-12-18T21:13:04.606201Z"
    }
   },
   "cell_type": "code",
   "source": "IMAGE_ID = 300",
   "id": "feb7b8bdc69bd03b",
   "outputs": [],
   "execution_count": 8
  },
  {
   "metadata": {
    "ExecuteTime": {
     "end_time": "2024-12-18T21:13:04.665209Z",
     "start_time": "2024-12-18T21:13:04.652465Z"
    }
   },
   "cell_type": "code",
   "source": [
    "data_module = DyslexiaDataModule(\n",
    "    batch_size=BATCH_SIZE,\n",
    "    data_path=DATA_PATH,\n",
    "    train_frac=0.85,\n",
    "    val_frac=0.10,\n",
    "    width=WIDTH,\n",
    "    height=HEIGHT\n",
    ")"
   ],
   "id": "82af1a02f6a8a0b",
   "outputs": [],
   "execution_count": 9
  },
  {
   "metadata": {
    "ExecuteTime": {
     "end_time": "2024-12-18T21:13:04.780716Z",
     "start_time": "2024-12-18T21:13:04.700049Z"
    }
   },
   "cell_type": "code",
   "source": [
    "image, grade = data_module.ds_train[IMAGE_ID]\n",
    "print(f\"Grade: {grade}\")\n",
    "plt.imshow(reverse_transform(image));"
   ],
   "id": "cd4939967df475ac",
   "outputs": [
    {
     "name": "stdout",
     "output_type": "stream",
     "text": [
      "Grade: 0\n"
     ]
    },
    {
     "data": {
      "text/plain": [
       "<Figure size 640x480 with 1 Axes>"
      ],
      "image/png": "[encoded data removed]"
     },
     "metadata": {},
     "output_type": "display_data"
    }
   ],
   "execution_count": 10
  },
  {
   "metadata": {},
   "cell_type": "markdown",
   "source": "### Callbacks",
   "id": "cf4476626cd45d3f"
  },
  {
   "metadata": {
    "ExecuteTime": {
     "end_time": "2024-12-18T21:13:04.788866Z",
     "start_time": "2024-12-18T21:13:04.786556Z"
    }
   },
   "cell_type": "code",
   "source": [
    "# Save the model periodically by monitoring a quantity.\n",
    "ModelCheckpoint = ModelCheckpoint(\n",
    "    dirpath=join(\"..\", \"logging\", \"runs\", \"dyslexia_classification\"),\n",
    "    filename=\"{epoch}-{train_loss:.3f}-{val_loss:.3f}\",\n",
    "    monitor=\"val_loss\",\n",
    "    mode=\"min\",\n",
    "    save_top_k=1,\n",
    ")\n",
    "\n",
    "# Monitor a metric and stop training when it stops improving.\n",
    "EarlyStopping = EarlyStopping(\n",
    "    monitor=\"val_loss\",\n",
    "    mode=\"min\",\n",
    "    patience=PATIENCE,\n",
    "    verbose=True,\n",
    ")"
   ],
   "id": "2a204d5b6a27a88c",
   "outputs": [],
   "execution_count": 11
  },
  {
   "metadata": {},
   "cell_type": "markdown",
   "source": "### Training",
   "id": "dc7afe528eb9c9b7"
  },
  {
   "metadata": {
    "ExecuteTime": {
     "end_time": "2024-12-18T21:13:04.856250Z",
     "start_time": "2024-12-18T21:13:04.830606Z"
    }
   },
   "cell_type": "code",
   "source": [
    "torch.set_float32_matmul_precision('high')\n",
    "trainer = pl.Trainer(\n",
    "    max_epochs=MAX_EPOCHS,\n",
    "    callbacks=[EarlyStopping, ModelCheckpoint],\n",
    "    enable_progress_bar=False\n",
    ")\n",
    "\n",
    "model = DyslexiaTrainingModule(num_classes=NUM_CLASSES, model_name=\"cnn\", img_size=IMG_SIZE)"
   ],
   "id": "dd69a4047ec3965e",
   "outputs": [
    {
     "name": "stderr",
     "output_type": "stream",
     "text": [
      "GPU available: True (cuda), used: True\n",
      "TPU available: False, using: 0 TPU cores\n",
      "HPU available: False, using: 0 HPUs\n"
     ]
    }
   ],
   "execution_count": 12
  },
  {
   "metadata": {
    "ExecuteTime": {
     "end_time": "2024-12-18T21:15:09.407784Z",
     "start_time": "2024-12-18T21:13:04.953663Z"
    }
   },
   "cell_type": "code",
   "source": [
    "os.environ[\"CUDA_LAUNCH_BLOCKING\"] = \"1\"\n",
    "\n",
    "mlflow.pytorch.autolog()\n",
    "\n",
    "with mlflow.start_run(experiment_id=EXPERIMENT_ID) as run:\n",
    "    trainer.fit(model, data_module)"
   ],
   "id": "104b694ee9ef459",
   "outputs": [
    {
     "name": "stderr",
     "output_type": "stream",
     "text": [
      "2024/12/19 00:13:04 WARNING mlflow.utils.autologging_utils: MLflow pytorch autologging is known to be compatible with 1.9.0 <= torch <= 2.5.1, but the installed version is 2.5.1+cu124. If you encounter errors during autologging, try upgrading / downgrading torch to a compatible version, or try upgrading MLflow.\n",
      "/home/vagiz/Desktop/desktop_vagiz/HSE/Programming/sna-project/.venv/lib/python3.12/site-packages/pytorch_lightning/callbacks/model_checkpoint.py:654: Checkpoint directory /home/vagiz/Desktop/desktop_vagiz/HSE/Programming/sna-project/logging/runs/dyslexia_classification exists and is not empty.\n",
      "LOCAL_RANK: 0 - CUDA_VISIBLE_DEVICES: [0]\n"
     ]
    },
    {
     "name": "stdout",
     "output_type": "stream",
     "text": [
      "Stage: TrainerFn.FITTING\n",
      "Train: 7401 images\n",
      "Validation: 870 images\n",
      "Test: 435 images\n",
      "\n"
     ]
    },
    {
     "name": "stderr",
     "output_type": "stream",
     "text": [
      "\n",
      "  | Name  | Type        | Params | Mode \n",
      "----------------------------------------------\n",
      "0 | model | DyslexiaCNN | 3.0 M  | train\n",
      "----------------------------------------------\n",
      "3.0 M     Trainable params\n",
      "0         Non-trainable params\n",
      "3.0 M     Total params\n",
      "11.891    Total estimated model params size (MB)\n",
      "23        Modules in train mode\n",
      "0         Modules in eval mode\n",
      "Metric val_loss improved. New best score: 0.619\n",
      "Metric val_loss improved by 0.001 >= min_delta = 0.0. New best score: 0.618\n",
      "Metric val_loss improved by 0.002 >= min_delta = 0.0. New best score: 0.616\n",
      "Monitored metric val_loss did not improve in the last 10 records. Best score: 0.616. Signaling Trainer to stop.\n",
      "\u001B[31m2024/12/19 00:15:09 WARNING mlflow.models.model: Model logged without a signature and input example. Please set `input_example` parameter when logging the model to auto infer the model signature.\u001B[0m\n"
     ]
    }
   ],
   "execution_count": 13
  },
  {
   "metadata": {
    "ExecuteTime": {
     "end_time": "2024-12-18T21:15:09.415219Z",
     "start_time": "2024-12-18T21:15:09.412585Z"
    }
   },
   "cell_type": "code",
   "source": "RUN_ID = run.info.run_id if run is not None else RUN_ID",
   "id": "e0612e812c87f06c",
   "outputs": [],
   "execution_count": 14
  },
  {
   "metadata": {
    "ExecuteTime": {
     "end_time": "2024-12-18T21:15:09.632176Z",
     "start_time": "2024-12-18T21:15:09.459779Z"
    }
   },
   "cell_type": "code",
   "source": "show_loss_graph(EXPERIMENT_ID, RUN_ID)",
   "id": "303ba2e94fc59d",
   "outputs": [
    {
     "data": {
      "text/plain": [
       "<Figure size 1000x600 with 1 Axes>"
      ],
      "image/png": "[encoded data removed]"
     },
     "metadata": {},
     "output_type": "display_data"
    }
   ],
   "execution_count": 15
  },
  {
   "metadata": {},
   "cell_type": "markdown",
   "source": "### Metrics",
   "id": "ad47ee0d073097cc"
  },
  {
   "metadata": {
    "ExecuteTime": {
     "end_time": "2024-12-18T21:15:10.773441Z",
     "start_time": "2024-12-18T21:15:09.640148Z"
    }
   },
   "cell_type": "code",
   "source": "trainer.test(model, data_module);",
   "id": "49e7435f41e1c8d9",
   "outputs": [
    {
     "name": "stderr",
     "output_type": "stream",
     "text": [
      "LOCAL_RANK: 0 - CUDA_VISIBLE_DEVICES: [0]\n"
     ]
    },
    {
     "name": "stdout",
     "output_type": "stream",
     "text": [
      "Stage: TrainerFn.TESTING\n",
      "Train: 7401 images\n",
      "Validation: 870 images\n",
      "Test: 435 images\n",
      "\n"
     ]
    },
    {
     "data": {
      "text/plain": [
       "┏━━━━━━━━━━━━━━━━━━━━━━━━━━━━┳━━━━━━━━━━━━━━━━━━━━━━━━━━━━┓\n",
       "┃\u001B[1m \u001B[0m\u001B[1m       Test metric        \u001B[0m\u001B[1m \u001B[0m┃\u001B[1m \u001B[0m\u001B[1m       DataLoader 0       \u001B[0m\u001B[1m \u001B[0m┃\n",
       "┡━━━━━━━━━━━━━━━━━━━━━━━━━━━━╇━━━━━━━━━━━━━━━━━━━━━━━━━━━━┩\n",
       "│\u001B[36m \u001B[0m\u001B[36m     test_f1_0_epoch      \u001B[0m\u001B[36m \u001B[0m│\u001B[35m \u001B[0m\u001B[35m   0.33696621656417847    \u001B[0m\u001B[35m \u001B[0m│\n",
       "│\u001B[36m \u001B[0m\u001B[36m     test_f1_1_epoch      \u001B[0m\u001B[36m \u001B[0m│\u001B[35m \u001B[0m\u001B[35m    0.7361423373222351    \u001B[0m\u001B[35m \u001B[0m│\n",
       "│\u001B[36m \u001B[0m\u001B[36m   test_f1_macro_epoch    \u001B[0m\u001B[36m \u001B[0m│\u001B[35m \u001B[0m\u001B[35m    0.536554217338562     \u001B[0m\u001B[35m \u001B[0m│\n",
       "│\u001B[36m \u001B[0m\u001B[36m     test_loss_epoch      \u001B[0m\u001B[36m \u001B[0m│\u001B[35m \u001B[0m\u001B[35m    0.6452900767326355    \u001B[0m\u001B[35m \u001B[0m│\n",
       "│\u001B[36m \u001B[0m\u001B[36m    test_prec_0_epoch     \u001B[0m\u001B[36m \u001B[0m│\u001B[35m \u001B[0m\u001B[35m    0.4704423248767853    \u001B[0m\u001B[35m \u001B[0m│\n",
       "│\u001B[36m \u001B[0m\u001B[36m    test_prec_1_epoch     \u001B[0m\u001B[36m \u001B[0m│\u001B[35m \u001B[0m\u001B[35m    0.6626149415969849    \u001B[0m\u001B[35m \u001B[0m│\n",
       "│\u001B[36m \u001B[0m\u001B[36mtest_precision_macro_epoch\u001B[0m\u001B[36m \u001B[0m│\u001B[35m \u001B[0m\u001B[35m    0.5665286183357239    \u001B[0m\u001B[35m \u001B[0m│\n",
       "│\u001B[36m \u001B[0m\u001B[36m   test_recall_0_epoch    \u001B[0m\u001B[36m \u001B[0m│\u001B[35m \u001B[0m\u001B[35m    0.2681499421596527    \u001B[0m\u001B[35m \u001B[0m│\n",
       "│\u001B[36m \u001B[0m\u001B[36m   test_recall_1_epoch    \u001B[0m\u001B[36m \u001B[0m│\u001B[35m \u001B[0m\u001B[35m    0.8316816687583923    \u001B[0m\u001B[35m \u001B[0m│\n",
       "│\u001B[36m \u001B[0m\u001B[36m test_recall_macro_epoch  \u001B[0m\u001B[36m \u001B[0m│\u001B[35m \u001B[0m\u001B[35m    0.5499157905578613    \u001B[0m\u001B[35m \u001B[0m│\n",
       "└────────────────────────────┴────────────────────────────┘\n"
      ],
      "text/html": [
       "<pre style=\"white-space:pre;overflow-x:auto;line-height:normal;font-family:Menlo,'DejaVu Sans Mono',consolas,'Courier New',monospace\">┏━━━━━━━━━━━━━━━━━━━━━━━━━━━━┳━━━━━━━━━━━━━━━━━━━━━━━━━━━━┓\n",
       "┃<span style=\"font-weight: bold\">        Test metric         </span>┃<span style=\"font-weight: bold\">        DataLoader 0        </span>┃\n",
       "┡━━━━━━━━━━━━━━━━━━━━━━━━━━━━╇━━━━━━━━━━━━━━━━━━━━━━━━━━━━┩\n",
       "│<span style=\"color: #008080; text-decoration-color: #008080\">      test_f1_0_epoch       </span>│<span style=\"color: #800080; text-decoration-color: #800080\">    0.33696621656417847     </span>│\n",
       "│<span style=\"color: #008080; text-decoration-color: #008080\">      test_f1_1_epoch       </span>│<span style=\"color: #800080; text-decoration-color: #800080\">     0.7361423373222351     </span>│\n",
       "│<span style=\"color: #008080; text-decoration-color: #008080\">    test_f1_macro_epoch     </span>│<span style=\"color: #800080; text-decoration-color: #800080\">     0.536554217338562      </span>│\n",
       "│<span style=\"color: #008080; text-decoration-color: #008080\">      test_loss_epoch       </span>│<span style=\"color: #800080; text-decoration-color: #800080\">     0.6452900767326355     </span>│\n",
       "│<span style=\"color: #008080; text-decoration-color: #008080\">     test_prec_0_epoch      </span>│<span style=\"color: #800080; text-decoration-color: #800080\">     0.4704423248767853     </span>│\n",
       "│<span style=\"color: #008080; text-decoration-color: #008080\">     test_prec_1_epoch      </span>│<span style=\"color: #800080; text-decoration-color: #800080\">     0.6626149415969849     </span>│\n",
       "│<span style=\"color: #008080; text-decoration-color: #008080\"> test_precision_macro_epoch </span>│<span style=\"color: #800080; text-decoration-color: #800080\">     0.5665286183357239     </span>│\n",
       "│<span style=\"color: #008080; text-decoration-color: #008080\">    test_recall_0_epoch     </span>│<span style=\"color: #800080; text-decoration-color: #800080\">     0.2681499421596527     </span>│\n",
       "│<span style=\"color: #008080; text-decoration-color: #008080\">    test_recall_1_epoch     </span>│<span style=\"color: #800080; text-decoration-color: #800080\">     0.8316816687583923     </span>│\n",
       "│<span style=\"color: #008080; text-decoration-color: #008080\">  test_recall_macro_epoch   </span>│<span style=\"color: #800080; text-decoration-color: #800080\">     0.5499157905578613     </span>│\n",
       "└────────────────────────────┴────────────────────────────┘\n",
       "</pre>\n"
      ]
     },
     "metadata": {},
     "output_type": "display_data"
    }
   ],
   "execution_count": 16
  }
 ],
 "metadata": {
  "kernelspec": {
   "display_name": "Python 3",
   "language": "python",
   "name": "python3"
  },
  "language_info": {
   "codemirror_mode": {
    "name": "ipython",
    "version": 2
   },
   "file_extension": ".py",
   "mimetype": "text/x-python",
   "name": "python",
   "nbconvert_exporter": "python",
   "pygments_lexer": "ipython2",
   "version": "2.7.6"
  }
 },
 "nbformat": 4,
 "nbformat_minor": 5
}
