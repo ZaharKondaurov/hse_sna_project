{
 "cells": [
  {
   "cell_type": "code",
   "id": "initial_id",
   "metadata": {
    "collapsed": true,
    "ExecuteTime": {
     "end_time": "2024-12-15T10:37:34.797115Z",
     "start_time": "2024-12-15T10:37:33.579938Z"
    }
   },
   "source": [
    "import os\n",
    "\n",
    "import matplotlib.pyplot as plt\n",
    "import numpy as np\n",
    "import pandas as pd\n",
    "import seaborn as sns\n",
    "from typing import List, Tuple\n",
    "from tqdm import tqdm\n",
    "\n",
    "from src.read_data import plot_image, describe_scanpaths, collect_scanpaths\n",
    "from src.similarity_2_graph import get_similarity_matrix, make_adjacency_from_similarity, find_threshold_for_size, adjacency2edgelist, make_graph_from_adjacency, make_graph_from_similarity, calc_inter, get_distance_matrix\n",
    "from os.path import join\n",
    "import os\n",
    "from typing import Callable, Dict, List\n",
    "\n",
    "import torch\n",
    "from torch import nn\n",
    "from torch import optim\n",
    "\n",
    "from node2vec.node2vec import Node2Vec\n",
    "\n",
    "import eyefeatures.features.scanpath_dist as eye_dist\n",
    "\n",
    "from sklearn.model_selection import train_test_split"
   ],
   "outputs": [],
   "execution_count": 1
  },
  {
   "metadata": {
    "ExecuteTime": {
     "end_time": "2024-12-15T10:37:34.801034Z",
     "start_time": "2024-12-15T10:37:34.798104Z"
    }
   },
   "cell_type": "code",
   "source": [
    "DATA_PATH = join(\"..\", \"data\", \"TrainingDataset\", \"TrainingData\")\n",
    "ASD_PATH  = join(DATA_PATH, \"ASD\")\n",
    "TD_PATH   = join(DATA_PATH, \"TD\")\n",
    "\n",
    "ADDITIONAL_PATH = join(\"..\", \"data\", \"TrainingDataset\", \"AdditionalData\")\n",
    "META_PATH = join(ADDITIONAL_PATH, \"ImageAnnotations.csv\")"
   ],
   "id": "dd4d177c6a29c9a1",
   "outputs": [],
   "execution_count": 2
  },
  {
   "metadata": {
    "ExecuteTime": {
     "end_time": "2024-12-15T10:37:35.214662Z",
     "start_time": "2024-12-15T10:37:34.801903Z"
    }
   },
   "cell_type": "code",
   "source": "info = describe_scanpaths(ASD_PATH, TD_PATH)",
   "id": "7f8c3225bd609b37",
   "outputs": [],
   "execution_count": 3
  },
  {
   "metadata": {
    "ExecuteTime": {
     "end_time": "2024-12-15T10:37:35.222460Z",
     "start_time": "2024-12-15T10:37:35.215744Z"
    }
   },
   "cell_type": "code",
   "source": "info.head()",
   "id": "caab415aa4ed2ee6",
   "outputs": [
    {
     "data": {
      "text/plain": [
       "              file_name  image_id  is_asd  min  median  max  n_participants\n",
       "0   ASD_scanpath_32.txt        32    True    2    11.5   19              12\n",
       "1  ASD_scanpath_206.txt       206    True    1     7.0   10              13\n",
       "2  ASD_scanpath_296.txt       296    True    1     8.0   12              13\n",
       "3  ASD_scanpath_240.txt       240    True    4     8.5   13               8\n",
       "4  ASD_scanpath_210.txt       210    True    1     8.5   12              12"
      ],
      "text/html": [
       "<div>\n",
       "<style scoped>\n",
       "    .dataframe tbody tr th:only-of-type {\n",
       "        vertical-align: middle;\n",
       "    }\n",
       "\n",
       "    .dataframe tbody tr th {\n",
       "        vertical-align: top;\n",
       "    }\n",
       "\n",
       "    .dataframe thead th {\n",
       "        text-align: right;\n",
       "    }\n",
       "</style>\n",
       "<table border=\"1\" class=\"dataframe\">\n",
       "  <thead>\n",
       "    <tr style=\"text-align: right;\">\n",
       "      <th></th>\n",
       "      <th>file_name</th>\n",
       "      <th>image_id</th>\n",
       "      <th>is_asd</th>\n",
       "      <th>min</th>\n",
       "      <th>median</th>\n",
       "      <th>max</th>\n",
       "      <th>n_participants</th>\n",
       "    </tr>\n",
       "  </thead>\n",
       "  <tbody>\n",
       "    <tr>\n",
       "      <th>0</th>\n",
       "      <td>ASD_scanpath_32.txt</td>\n",
       "      <td>32</td>\n",
       "      <td>True</td>\n",
       "      <td>2</td>\n",
       "      <td>11.5</td>\n",
       "      <td>19</td>\n",
       "      <td>12</td>\n",
       "    </tr>\n",
       "    <tr>\n",
       "      <th>1</th>\n",
       "      <td>ASD_scanpath_206.txt</td>\n",
       "      <td>206</td>\n",
       "      <td>True</td>\n",
       "      <td>1</td>\n",
       "      <td>7.0</td>\n",
       "      <td>10</td>\n",
       "      <td>13</td>\n",
       "    </tr>\n",
       "    <tr>\n",
       "      <th>2</th>\n",
       "      <td>ASD_scanpath_296.txt</td>\n",
       "      <td>296</td>\n",
       "      <td>True</td>\n",
       "      <td>1</td>\n",
       "      <td>8.0</td>\n",
       "      <td>12</td>\n",
       "      <td>13</td>\n",
       "    </tr>\n",
       "    <tr>\n",
       "      <th>3</th>\n",
       "      <td>ASD_scanpath_240.txt</td>\n",
       "      <td>240</td>\n",
       "      <td>True</td>\n",
       "      <td>4</td>\n",
       "      <td>8.5</td>\n",
       "      <td>13</td>\n",
       "      <td>8</td>\n",
       "    </tr>\n",
       "    <tr>\n",
       "      <th>4</th>\n",
       "      <td>ASD_scanpath_210.txt</td>\n",
       "      <td>210</td>\n",
       "      <td>True</td>\n",
       "      <td>1</td>\n",
       "      <td>8.5</td>\n",
       "      <td>12</td>\n",
       "      <td>12</td>\n",
       "    </tr>\n",
       "  </tbody>\n",
       "</table>\n",
       "</div>"
      ]
     },
     "execution_count": 4,
     "metadata": {},
     "output_type": "execute_result"
    }
   ],
   "execution_count": 4
  },
  {
   "metadata": {
    "ExecuteTime": {
     "end_time": "2024-12-15T10:37:35.244275Z",
     "start_time": "2024-12-15T10:37:35.222938Z"
    }
   },
   "cell_type": "code",
   "source": [
    "df = info[(info[\"n_participants\"] == 14) & (info[\"min\"] >= 3)]\n",
    "file_names = df[\"file_name\"].values"
   ],
   "id": "2eb3b7a28ab38d9c",
   "outputs": [],
   "execution_count": 5
  },
  {
   "metadata": {
    "ExecuteTime": {
     "end_time": "2024-12-15T10:37:35.349048Z",
     "start_time": "2024-12-15T10:37:35.245256Z"
    }
   },
   "cell_type": "code",
   "source": [
    "meta_file = pd.read_csv(META_PATH, header=None)\n",
    "meta_file.rename(columns={meta_file.columns[0]: \"file_name\", meta_file.columns[-1]: \"label\"}, inplace=True)\n",
    "meta_file[\"file_name\"] = meta_file[\"file_name\"].apply(lambda x: int(x.split(\"/\")[-1][:-4]))\n",
    "print(meta_file[\"label\"].unique())\n",
    "new_labels = {\"people\": \"people\", \"face\": \"people\", \"people group\": \"people\", \"people background\": \"people\", \"hand\": \"people\", \"text\": \"text\", \"animal\": \"animal\", }\n",
    "for label in meta_file[\"label\"].unique():\n",
    "    if label not in new_labels.keys():\n",
    "        new_labels[label] = \"object\"\n",
    "\n",
    "meta_file[\"label\"] = meta_file[\"label\"].map(new_labels)\n",
    "\n",
    "plt.tight_layout()\n",
    "sns.countplot(x=meta_file[\"label\"]);\n",
    "# plt.hist(meta_file[\"label\"]);"
   ],
   "id": "46a42a78115f2818",
   "outputs": [
    {
     "name": "stdout",
     "output_type": "stream",
     "text": [
      "['face' 'people' 'people background' 'text' 'hand' 'animal' 'plant'\n",
      " 'people group' 'building' 'object' 'car' 'train' 'ship' 'food' 'plane']\n"
     ]
    },
    {
     "data": {
      "text/plain": [
       "<Figure size 640x480 with 1 Axes>"
      ],
      "image/png": "[encoded data removed]"
     },
     "metadata": {},
     "output_type": "display_data"
    }
   ],
   "execution_count": 6
  },
  {
   "metadata": {
    "ExecuteTime": {
     "end_time": "2024-12-15T16:56:38.180484Z",
     "start_time": "2024-12-15T16:56:38.069980Z"
    }
   },
   "cell_type": "code",
   "source": [
    "df = collect_scanpaths(file_names, ASD_PATH, TD_PATH)\n",
    "\n",
    "meta_file = meta_file.groupby(\"file_name\")[\"label\"].agg(set).reset_index()\n",
    "df[\"labels\"] = df[\"image_id\"].map(lambda x: meta_file[meta_file[\"file_name\"] == x][\"label\"].values.squeeze())\n",
    "\n",
    "df"
   ],
   "id": "23bd0282430b6a62",
   "outputs": [
    {
     "ename": "NameError",
     "evalue": "name 'collect_scanpaths' is not defined",
     "output_type": "error",
     "traceback": [
      "\u001B[0;31m---------------------------------------------------------------------------\u001B[0m",
      "\u001B[0;31mNameError\u001B[0m                                 Traceback (most recent call last)",
      "Cell \u001B[0;32mIn[1], line 1\u001B[0m\n\u001B[0;32m----> 1\u001B[0m df \u001B[38;5;241m=\u001B[39m \u001B[43mcollect_scanpaths\u001B[49m(file_names, ASD_PATH, TD_PATH)\n\u001B[1;32m      3\u001B[0m meta_file \u001B[38;5;241m=\u001B[39m meta_file\u001B[38;5;241m.\u001B[39mgroupby(\u001B[38;5;124m\"\u001B[39m\u001B[38;5;124mfile_name\u001B[39m\u001B[38;5;124m\"\u001B[39m)[\u001B[38;5;124m\"\u001B[39m\u001B[38;5;124mlabel\u001B[39m\u001B[38;5;124m\"\u001B[39m]\u001B[38;5;241m.\u001B[39magg(\u001B[38;5;28mset\u001B[39m)\u001B[38;5;241m.\u001B[39mreset_index()\n\u001B[1;32m      4\u001B[0m df[\u001B[38;5;124m\"\u001B[39m\u001B[38;5;124mlabels\u001B[39m\u001B[38;5;124m\"\u001B[39m] \u001B[38;5;241m=\u001B[39m df[\u001B[38;5;124m\"\u001B[39m\u001B[38;5;124mimage_id\u001B[39m\u001B[38;5;124m\"\u001B[39m]\u001B[38;5;241m.\u001B[39mmap(\u001B[38;5;28;01mlambda\u001B[39;00m x: meta_file[meta_file[\u001B[38;5;124m\"\u001B[39m\u001B[38;5;124mfile_name\u001B[39m\u001B[38;5;124m\"\u001B[39m] \u001B[38;5;241m==\u001B[39m x][\u001B[38;5;124m\"\u001B[39m\u001B[38;5;124mlabel\u001B[39m\u001B[38;5;124m\"\u001B[39m]\u001B[38;5;241m.\u001B[39mvalues\u001B[38;5;241m.\u001B[39msqueeze())\n",
      "\u001B[0;31mNameError\u001B[0m: name 'collect_scanpaths' is not defined"
     ]
    }
   ],
   "execution_count": 1
  },
  {
   "metadata": {
    "ExecuteTime": {
     "end_time": "2024-12-15T10:37:36.575594Z",
     "start_time": "2024-12-15T10:37:36.563304Z"
    }
   },
   "cell_type": "code",
   "source": [
    "instances = np.unique(df.loc[:, [\"participant_id\", \"image_id\"]].values, axis=0)\n",
    "\n",
    "instances_train, instances_test = train_test_split(instances, test_size=0.3, random_state=42)"
   ],
   "id": "87a222d5454817b4",
   "outputs": [],
   "execution_count": 8
  },
  {
   "metadata": {
    "ExecuteTime": {
     "end_time": "2024-12-15T10:37:36.603755Z",
     "start_time": "2024-12-15T10:37:36.577435Z"
    }
   },
   "cell_type": "code",
   "source": [
    "df_train = df.merge(pd.DataFrame(instances_train, columns=['participant_id', 'image_id']), on=['participant_id', 'image_id'])\n",
    "df_test = df.merge(pd.DataFrame(instances_test, columns=['participant_id', 'image_id']), on=['participant_id', 'image_id'])"
   ],
   "id": "30203d1acbb40d8d",
   "outputs": [],
   "execution_count": 9
  },
  {
   "metadata": {
    "ExecuteTime": {
     "end_time": "2024-12-15T10:37:36.609522Z",
     "start_time": "2024-12-15T10:37:36.605583Z"
    }
   },
   "cell_type": "code",
   "source": "# sim_matrix, max_dist = get_similarity_matrix(df_train, eye_dist.calc_dtw_dist, return_max_dist=True)",
   "id": "32d3daf3ceef384c",
   "outputs": [],
   "execution_count": 10
  },
  {
   "metadata": {
    "ExecuteTime": {
     "end_time": "2024-12-15T11:30:15.053286Z",
     "start_time": "2024-12-15T11:29:04.275574Z"
    }
   },
   "cell_type": "code",
   "source": [
    "import eyefeatures.features.scanpath_complex as eye_complex\n",
    "dist_matrix = np.zeros((len(instances_train) + 1, len(instances_train) + 1))\n",
    "dist_matrix[:-1, :-1], object_ids = get_distance_matrix(df_train, eye_dist.calc_dtw_dist)"
   ],
   "id": "507d18a6a73ae80f",
   "outputs": [
    {
     "name": "stderr",
     "output_type": "stream",
     "text": [
      "100%|██████████| 558/558 [01:10<00:00,  7.91it/s]\n"
     ]
    }
   ],
   "execution_count": 56
  },
  {
   "metadata": {
    "ExecuteTime": {
     "end_time": "2024-12-15T10:57:54.917120Z",
     "start_time": "2024-12-15T10:57:54.914006Z"
    }
   },
   "cell_type": "code",
   "source": "dist_matrix.shape, len(object_ids)",
   "id": "398b52507bbfab73",
   "outputs": [
    {
     "data": {
      "text/plain": [
       "((559, 559), 558)"
      ]
     },
     "execution_count": 33,
     "metadata": {},
     "output_type": "execute_result"
    }
   ],
   "execution_count": 33
  },
  {
   "metadata": {
    "ExecuteTime": {
     "end_time": "2024-12-15T10:58:13.541243Z",
     "start_time": "2024-12-15T10:58:13.537397Z"
    }
   },
   "cell_type": "code",
   "source": [
    "# inst = instances_test[0]\n",
    "# object_ids.append((inst[0], inst[1]))"
   ],
   "id": "a4bff749c6298b6d",
   "outputs": [],
   "execution_count": 34
  },
  {
   "metadata": {},
   "cell_type": "code",
   "outputs": [
    {
     "data": {
      "text/plain": [
       "             (1, 2)    (1, 7)   (1, 17)   (1, 20)   (1, 21)   (1, 32)  \\\n",
       "(1, 2)     1.000000  0.094167  0.008036  0.014289  0.043737  0.008600   \n",
       "(1, 7)     0.094167  1.000000  0.007969  0.015854  0.043430  0.013386   \n",
       "(1, 17)    0.008036  0.007969  1.000000  0.002874  0.003676  0.001885   \n",
       "(1, 20)    0.014289  0.015854  0.002874  1.000000  0.006765  0.005434   \n",
       "(1, 21)    0.043737  0.043430  0.003676  0.006765  1.000000  0.003710   \n",
       "...             ...       ...       ...       ...       ...       ...   \n",
       "(14, 258)  0.010082  0.013133  0.004566  0.004373  0.014877  0.003511   \n",
       "(14, 260)  0.043558  0.053296  0.003137  0.006062  0.004817  0.012001   \n",
       "(14, 279)  0.013220  0.018255  0.002409  0.005925  0.004829  0.007126   \n",
       "(14, 297)  0.012236  0.013266  0.003841  0.008733  0.016190  0.004276   \n",
       "(13, 39)   0.001835  0.001723  0.000924  0.003201  0.002084  0.004623   \n",
       "\n",
       "            (1, 37)   (1, 40)   (1, 42)   (1, 43)  ...  (14, 195)  (14, 200)  \\\n",
       "(1, 2)     0.012602  0.011295  0.019371  0.028137  ...   0.005480   0.015516   \n",
       "(1, 7)     0.013647  0.012341  0.024859  0.028565  ...   0.007836   0.012064   \n",
       "(1, 17)    0.002492  0.007920  0.002801  0.003136  ...   0.005671   0.003414   \n",
       "(1, 20)    0.009184  0.004935  0.009069  0.007776  ...   0.003591   0.006543   \n",
       "(1, 21)    0.008077  0.008067  0.015681  0.006428  ...   0.007926   0.009131   \n",
       "...             ...       ...       ...       ...  ...        ...        ...   \n",
       "(14, 258)  0.001376  0.007651  0.007261  0.004559  ...   0.019073   0.009709   \n",
       "(14, 260)  0.003405  0.006504  0.006733  0.009643  ...   0.005893   0.008443   \n",
       "(14, 279)  0.002639  0.005088  0.005132  0.014239  ...   0.004239   0.011010   \n",
       "(14, 297)  0.001957  0.007028  0.013749  0.014987  ...   0.006234   0.010555   \n",
       "(13, 39)   0.003913  0.002247  0.003188  0.004582  ...   0.001645   0.003137   \n",
       "\n",
       "           (14, 238)  (14, 240)  (14, 251)  (14, 258)  (14, 260)  (14, 279)  \\\n",
       "(1, 2)      0.035234   0.072240   0.032891   0.010082   0.043558   0.013220   \n",
       "(1, 7)      0.025266   0.041083   0.028688   0.013133   0.053296   0.018255   \n",
       "(1, 17)     0.004243   0.006465   0.005173   0.004566   0.003137   0.002409   \n",
       "(1, 20)     0.007120   0.006006   0.007629   0.004373   0.006062   0.005925   \n",
       "(1, 21)     0.014041   0.008696   0.013742   0.014877   0.004817   0.004829   \n",
       "...              ...        ...        ...        ...        ...        ...   \n",
       "(14, 258)   0.012862   0.016170   0.062053   1.000000   0.008140   0.008215   \n",
       "(14, 260)   0.004993   0.017338   0.025709   0.008140   1.000000   0.017860   \n",
       "(14, 279)   0.004732   0.009208   0.014362   0.008215   0.017860   1.000000   \n",
       "(14, 297)   0.012225   0.014928   0.036131   0.018404   0.012110   0.008265   \n",
       "(13, 39)    0.002360   0.001948   0.002184   0.001859   0.003976   0.004103   \n",
       "\n",
       "           (14, 297)  (13, 39)  \n",
       "(1, 2)      0.012236  0.001835  \n",
       "(1, 7)      0.013266  0.001723  \n",
       "(1, 17)     0.003841  0.000924  \n",
       "(1, 20)     0.008733  0.003201  \n",
       "(1, 21)     0.016190  0.002084  \n",
       "...              ...       ...  \n",
       "(14, 258)   0.018404  0.001859  \n",
       "(14, 260)   0.012110  0.003976  \n",
       "(14, 279)   0.008265  0.004103  \n",
       "(14, 297)   1.000000  0.003728  \n",
       "(13, 39)    0.003728  1.000000  \n",
       "\n",
       "[559 rows x 559 columns]"
      ],
      "text/html": [
       "<div>\n",
       "<style scoped>\n",
       "    .dataframe tbody tr th:only-of-type {\n",
       "        vertical-align: middle;\n",
       "    }\n",
       "\n",
       "    .dataframe tbody tr th {\n",
       "        vertical-align: top;\n",
       "    }\n",
       "\n",
       "    .dataframe thead th {\n",
       "        text-align: right;\n",
       "    }\n",
       "</style>\n",
       "<table border=\"1\" class=\"dataframe\">\n",
       "  <thead>\n",
       "    <tr style=\"text-align: right;\">\n",
       "      <th></th>\n",
       "      <th>(1, 2)</th>\n",
       "      <th>(1, 7)</th>\n",
       "      <th>(1, 17)</th>\n",
       "      <th>(1, 20)</th>\n",
       "      <th>(1, 21)</th>\n",
       "      <th>(1, 32)</th>\n",
       "      <th>(1, 37)</th>\n",
       "      <th>(1, 40)</th>\n",
       "      <th>(1, 42)</th>\n",
       "      <th>(1, 43)</th>\n",
       "      <th>...</th>\n",
       "      <th>(14, 195)</th>\n",
       "      <th>(14, 200)</th>\n",
       "      <th>(14, 238)</th>\n",
       "      <th>(14, 240)</th>\n",
       "      <th>(14, 251)</th>\n",
       "      <th>(14, 258)</th>\n",
       "      <th>(14, 260)</th>\n",
       "      <th>(14, 279)</th>\n",
       "      <th>(14, 297)</th>\n",
       "      <th>(13, 39)</th>\n",
       "    </tr>\n",
       "  </thead>\n",
       "  <tbody>\n",
       "    <tr>\n",
       "      <th>(1, 2)</th>\n",
       "      <td>1.000000</td>\n",
       "      <td>0.094167</td>\n",
       "      <td>0.008036</td>\n",
       "      <td>0.014289</td>\n",
       "      <td>0.043737</td>\n",
       "      <td>0.008600</td>\n",
       "      <td>0.012602</td>\n",
       "      <td>0.011295</td>\n",
       "      <td>0.019371</td>\n",
       "      <td>0.028137</td>\n",
       "      <td>...</td>\n",
       "      <td>0.005480</td>\n",
       "      <td>0.015516</td>\n",
       "      <td>0.035234</td>\n",
       "      <td>0.072240</td>\n",
       "      <td>0.032891</td>\n",
       "      <td>0.010082</td>\n",
       "      <td>0.043558</td>\n",
       "      <td>0.013220</td>\n",
       "      <td>0.012236</td>\n",
       "      <td>0.001835</td>\n",
       "    </tr>\n",
       "    <tr>\n",
       "      <th>(1, 7)</th>\n",
       "      <td>0.094167</td>\n",
       "      <td>1.000000</td>\n",
       "      <td>0.007969</td>\n",
       "      <td>0.015854</td>\n",
       "      <td>0.043430</td>\n",
       "      <td>0.013386</td>\n",
       "      <td>0.013647</td>\n",
       "      <td>0.012341</td>\n",
       "      <td>0.024859</td>\n",
       "      <td>0.028565</td>\n",
       "      <td>...</td>\n",
       "      <td>0.007836</td>\n",
       "      <td>0.012064</td>\n",
       "      <td>0.025266</td>\n",
       "      <td>0.041083</td>\n",
       "      <td>0.028688</td>\n",
       "      <td>0.013133</td>\n",
       "      <td>0.053296</td>\n",
       "      <td>0.018255</td>\n",
       "      <td>0.013266</td>\n",
       "      <td>0.001723</td>\n",
       "    </tr>\n",
       "    <tr>\n",
       "      <th>(1, 17)</th>\n",
       "      <td>0.008036</td>\n",
       "      <td>0.007969</td>\n",
       "      <td>1.000000</td>\n",
       "      <td>0.002874</td>\n",
       "      <td>0.003676</td>\n",
       "      <td>0.001885</td>\n",
       "      <td>0.002492</td>\n",
       "      <td>0.007920</td>\n",
       "      <td>0.002801</td>\n",
       "      <td>0.003136</td>\n",
       "      <td>...</td>\n",
       "      <td>0.005671</td>\n",
       "      <td>0.003414</td>\n",
       "      <td>0.004243</td>\n",
       "      <td>0.006465</td>\n",
       "      <td>0.005173</td>\n",
       "      <td>0.004566</td>\n",
       "      <td>0.003137</td>\n",
       "      <td>0.002409</td>\n",
       "      <td>0.003841</td>\n",
       "      <td>0.000924</td>\n",
       "    </tr>\n",
       "    <tr>\n",
       "      <th>(1, 20)</th>\n",
       "      <td>0.014289</td>\n",
       "      <td>0.015854</td>\n",
       "      <td>0.002874</td>\n",
       "      <td>1.000000</td>\n",
       "      <td>0.006765</td>\n",
       "      <td>0.005434</td>\n",
       "      <td>0.009184</td>\n",
       "      <td>0.004935</td>\n",
       "      <td>0.009069</td>\n",
       "      <td>0.007776</td>\n",
       "      <td>...</td>\n",
       "      <td>0.003591</td>\n",
       "      <td>0.006543</td>\n",
       "      <td>0.007120</td>\n",
       "      <td>0.006006</td>\n",
       "      <td>0.007629</td>\n",
       "      <td>0.004373</td>\n",
       "      <td>0.006062</td>\n",
       "      <td>0.005925</td>\n",
       "      <td>0.008733</td>\n",
       "      <td>0.003201</td>\n",
       "    </tr>\n",
       "    <tr>\n",
       "      <th>(1, 21)</th>\n",
       "      <td>0.043737</td>\n",
       "      <td>0.043430</td>\n",
       "      <td>0.003676</td>\n",
       "      <td>0.006765</td>\n",
       "      <td>1.000000</td>\n",
       "      <td>0.003710</td>\n",
       "      <td>0.008077</td>\n",
       "      <td>0.008067</td>\n",
       "      <td>0.015681</td>\n",
       "      <td>0.006428</td>\n",
       "      <td>...</td>\n",
       "      <td>0.007926</td>\n",
       "      <td>0.009131</td>\n",
       "      <td>0.014041</td>\n",
       "      <td>0.008696</td>\n",
       "      <td>0.013742</td>\n",
       "      <td>0.014877</td>\n",
       "      <td>0.004817</td>\n",
       "      <td>0.004829</td>\n",
       "      <td>0.016190</td>\n",
       "      <td>0.002084</td>\n",
       "    </tr>\n",
       "    <tr>\n",
       "      <th>...</th>\n",
       "      <td>...</td>\n",
       "      <td>...</td>\n",
       "      <td>...</td>\n",
       "      <td>...</td>\n",
       "      <td>...</td>\n",
       "      <td>...</td>\n",
       "      <td>...</td>\n",
       "      <td>...</td>\n",
       "      <td>...</td>\n",
       "      <td>...</td>\n",
       "      <td>...</td>\n",
       "      <td>...</td>\n",
       "      <td>...</td>\n",
       "      <td>...</td>\n",
       "      <td>...</td>\n",
       "      <td>...</td>\n",
       "      <td>...</td>\n",
       "      <td>...</td>\n",
       "      <td>...</td>\n",
       "      <td>...</td>\n",
       "      <td>...</td>\n",
       "    </tr>\n",
       "    <tr>\n",
       "      <th>(14, 258)</th>\n",
       "      <td>0.010082</td>\n",
       "      <td>0.013133</td>\n",
       "      <td>0.004566</td>\n",
       "      <td>0.004373</td>\n",
       "      <td>0.014877</td>\n",
       "      <td>0.003511</td>\n",
       "      <td>0.001376</td>\n",
       "      <td>0.007651</td>\n",
       "      <td>0.007261</td>\n",
       "      <td>0.004559</td>\n",
       "      <td>...</td>\n",
       "      <td>0.019073</td>\n",
       "      <td>0.009709</td>\n",
       "      <td>0.012862</td>\n",
       "      <td>0.016170</td>\n",
       "      <td>0.062053</td>\n",
       "      <td>1.000000</td>\n",
       "      <td>0.008140</td>\n",
       "      <td>0.008215</td>\n",
       "      <td>0.018404</td>\n",
       "      <td>0.001859</td>\n",
       "    </tr>\n",
       "    <tr>\n",
       "      <th>(14, 260)</th>\n",
       "      <td>0.043558</td>\n",
       "      <td>0.053296</td>\n",
       "      <td>0.003137</td>\n",
       "      <td>0.006062</td>\n",
       "      <td>0.004817</td>\n",
       "      <td>0.012001</td>\n",
       "      <td>0.003405</td>\n",
       "      <td>0.006504</td>\n",
       "      <td>0.006733</td>\n",
       "      <td>0.009643</td>\n",
       "      <td>...</td>\n",
       "      <td>0.005893</td>\n",
       "      <td>0.008443</td>\n",
       "      <td>0.004993</td>\n",
       "      <td>0.017338</td>\n",
       "      <td>0.025709</td>\n",
       "      <td>0.008140</td>\n",
       "      <td>1.000000</td>\n",
       "      <td>0.017860</td>\n",
       "      <td>0.012110</td>\n",
       "      <td>0.003976</td>\n",
       "    </tr>\n",
       "    <tr>\n",
       "      <th>(14, 279)</th>\n",
       "      <td>0.013220</td>\n",
       "      <td>0.018255</td>\n",
       "      <td>0.002409</td>\n",
       "      <td>0.005925</td>\n",
       "      <td>0.004829</td>\n",
       "      <td>0.007126</td>\n",
       "      <td>0.002639</td>\n",
       "      <td>0.005088</td>\n",
       "      <td>0.005132</td>\n",
       "      <td>0.014239</td>\n",
       "      <td>...</td>\n",
       "      <td>0.004239</td>\n",
       "      <td>0.011010</td>\n",
       "      <td>0.004732</td>\n",
       "      <td>0.009208</td>\n",
       "      <td>0.014362</td>\n",
       "      <td>0.008215</td>\n",
       "      <td>0.017860</td>\n",
       "      <td>1.000000</td>\n",
       "      <td>0.008265</td>\n",
       "      <td>0.004103</td>\n",
       "    </tr>\n",
       "    <tr>\n",
       "      <th>(14, 297)</th>\n",
       "      <td>0.012236</td>\n",
       "      <td>0.013266</td>\n",
       "      <td>0.003841</td>\n",
       "      <td>0.008733</td>\n",
       "      <td>0.016190</td>\n",
       "      <td>0.004276</td>\n",
       "      <td>0.001957</td>\n",
       "      <td>0.007028</td>\n",
       "      <td>0.013749</td>\n",
       "      <td>0.014987</td>\n",
       "      <td>...</td>\n",
       "      <td>0.006234</td>\n",
       "      <td>0.010555</td>\n",
       "      <td>0.012225</td>\n",
       "      <td>0.014928</td>\n",
       "      <td>0.036131</td>\n",
       "      <td>0.018404</td>\n",
       "      <td>0.012110</td>\n",
       "      <td>0.008265</td>\n",
       "      <td>1.000000</td>\n",
       "      <td>0.003728</td>\n",
       "    </tr>\n",
       "    <tr>\n",
       "      <th>(13, 39)</th>\n",
       "      <td>0.001835</td>\n",
       "      <td>0.001723</td>\n",
       "      <td>0.000924</td>\n",
       "      <td>0.003201</td>\n",
       "      <td>0.002084</td>\n",
       "      <td>0.004623</td>\n",
       "      <td>0.003913</td>\n",
       "      <td>0.002247</td>\n",
       "      <td>0.003188</td>\n",
       "      <td>0.004582</td>\n",
       "      <td>...</td>\n",
       "      <td>0.001645</td>\n",
       "      <td>0.003137</td>\n",
       "      <td>0.002360</td>\n",
       "      <td>0.001948</td>\n",
       "      <td>0.002184</td>\n",
       "      <td>0.001859</td>\n",
       "      <td>0.003976</td>\n",
       "      <td>0.004103</td>\n",
       "      <td>0.003728</td>\n",
       "      <td>1.000000</td>\n",
       "    </tr>\n",
       "  </tbody>\n",
       "</table>\n",
       "<p>559 rows × 559 columns</p>\n",
       "</div>"
      ]
     },
     "execution_count": 37,
     "metadata": {},
     "output_type": "execute_result"
    }
   ],
   "execution_count": 37,
   "source": [
    "# test_scanpath = df_test[(df_test[\"participant_id\"] == inst[0]) & (df_test[\"image_id\"] == inst[1])][[\"x\", \"y\"]]\n",
    "# \n",
    "# new_dist_matrix = dist_matrix.copy()\n",
    "# for i, inst_tr in enumerate(object_ids[:-1]):\n",
    "#     train_scanpath = df_train[(df_train[\"participant_id\"] == inst_tr[0]) & (df_train[\"image_id\"] == inst_tr[1])][[\"x\", \"y\"]]\n",
    "#     dist = eye_dist.calc_dtw_dist(train_scanpath, test_scanpath)\n",
    "#     \n",
    "#     new_dist_matrix[-1, i] = new_dist_matrix[i, -1] = dist\n",
    "# \n",
    "# new_dist_matrix /= np.max(new_dist_matrix)\n",
    "# \n",
    "# n, _ = new_dist_matrix.shape\n",
    "# sim_matrix = np.zeros(new_dist_matrix.shape)\n",
    "# for i in range(n):\n",
    "#     for j in range(i + 1, n):\n",
    "#         sim_matrix[i, j] = sim_matrix[j, i] = 1 / new_dist_matrix[i, j]\n",
    "# \n",
    "# sim_matrix = sim_matrix / sim_matrix.max() + np.eye(n)\n",
    "# sim_matrix = pd.DataFrame(index=object_ids, columns=object_ids, data=sim_matrix)\n",
    "# \n",
    "# sim_matrix"
   ],
   "id": "4b836b491fc5103a"
  },
  {
   "metadata": {
    "ExecuteTime": {
     "end_time": "2024-12-15T11:07:23.065648Z",
     "start_time": "2024-12-15T11:07:23.061287Z"
    }
   },
   "cell_type": "code",
   "source": [
    "def add_new_similarity_line(dist_matrix, object_ids, df_with_scanpath, new_scanpath):\n",
    "    new_dist_matrix = dist_matrix.copy()\n",
    "    for i, inst_tr in enumerate(object_ids[:-1]):\n",
    "        train_scanpath = df_with_scanpath[(df_with_scanpath[\"participant_id\"] == inst_tr[0]) & (df_with_scanpath[\"image_id\"] == inst_tr[1])][[\"x\", \"y\"]]\n",
    "        dist = eye_dist.calc_dtw_dist(train_scanpath, new_scanpath)\n",
    "        \n",
    "        new_dist_matrix[-1, i] = new_dist_matrix[i, -1] = dist\n",
    "    \n",
    "    new_dist_matrix /= np.max(new_dist_matrix)\n",
    "    \n",
    "    n, _ = new_dist_matrix.shape\n",
    "    sim_matrix = np.zeros(new_dist_matrix.shape)\n",
    "    for i in range(n):\n",
    "        for j in range(i + 1, n):\n",
    "            sim_matrix[i, j] = sim_matrix[j, i] = 1 / new_dist_matrix[i, j]\n",
    "    \n",
    "    sim_matrix = sim_matrix / sim_matrix.max() + np.eye(n)\n",
    "    sim_matrix = pd.DataFrame(index=object_ids, columns=object_ids, data=sim_matrix)\n",
    "    \n",
    "    return sim_matrix"
   ],
   "id": "c33cd2d7dc1af19a",
   "outputs": [],
   "execution_count": 39
  },
  {
   "metadata": {
    "ExecuteTime": {
     "end_time": "2024-12-15T11:08:32.974543Z",
     "start_time": "2024-12-15T11:08:32.320746Z"
    }
   },
   "cell_type": "code",
   "source": [
    "sp = df_test[(df_test[\"participant_id\"] == inst[0]) & (df_test[\"image_id\"] == inst[1])][[\"x\", \"y\"]]\n",
    "sim = add_new_similarity_line(dist_matrix, object_ids, df_train, sp)\n",
    "sim"
   ],
   "id": "236bcb3e95e35542",
   "outputs": [
    {
     "data": {
      "text/plain": [
       "             (1, 2)    (1, 7)   (1, 17)   (1, 20)   (1, 21)   (1, 32)  \\\n",
       "(1, 2)     1.000000  0.094167  0.008036  0.014289  0.043737  0.008600   \n",
       "(1, 7)     0.094167  1.000000  0.007969  0.015854  0.043430  0.013386   \n",
       "(1, 17)    0.008036  0.007969  1.000000  0.002874  0.003676  0.001885   \n",
       "(1, 20)    0.014289  0.015854  0.002874  1.000000  0.006765  0.005434   \n",
       "(1, 21)    0.043737  0.043430  0.003676  0.006765  1.000000  0.003710   \n",
       "...             ...       ...       ...       ...       ...       ...   \n",
       "(14, 258)  0.010082  0.013133  0.004566  0.004373  0.014877  0.003511   \n",
       "(14, 260)  0.043558  0.053296  0.003137  0.006062  0.004817  0.012001   \n",
       "(14, 279)  0.013220  0.018255  0.002409  0.005925  0.004829  0.007126   \n",
       "(14, 297)  0.012236  0.013266  0.003841  0.008733  0.016190  0.004276   \n",
       "(13, 39)   0.001835  0.001723  0.000924  0.003201  0.002084  0.004623   \n",
       "\n",
       "            (1, 37)   (1, 40)   (1, 42)   (1, 43)  ...  (14, 195)  (14, 200)  \\\n",
       "(1, 2)     0.012602  0.011295  0.019371  0.028137  ...   0.005480   0.015516   \n",
       "(1, 7)     0.013647  0.012341  0.024859  0.028565  ...   0.007836   0.012064   \n",
       "(1, 17)    0.002492  0.007920  0.002801  0.003136  ...   0.005671   0.003414   \n",
       "(1, 20)    0.009184  0.004935  0.009069  0.007776  ...   0.003591   0.006543   \n",
       "(1, 21)    0.008077  0.008067  0.015681  0.006428  ...   0.007926   0.009131   \n",
       "...             ...       ...       ...       ...  ...        ...        ...   \n",
       "(14, 258)  0.001376  0.007651  0.007261  0.004559  ...   0.019073   0.009709   \n",
       "(14, 260)  0.003405  0.006504  0.006733  0.009643  ...   0.005893   0.008443   \n",
       "(14, 279)  0.002639  0.005088  0.005132  0.014239  ...   0.004239   0.011010   \n",
       "(14, 297)  0.001957  0.007028  0.013749  0.014987  ...   0.006234   0.010555   \n",
       "(13, 39)   0.003913  0.002247  0.003188  0.004582  ...   0.001645   0.003137   \n",
       "\n",
       "           (14, 238)  (14, 240)  (14, 251)  (14, 258)  (14, 260)  (14, 279)  \\\n",
       "(1, 2)      0.035234   0.072240   0.032891   0.010082   0.043558   0.013220   \n",
       "(1, 7)      0.025266   0.041083   0.028688   0.013133   0.053296   0.018255   \n",
       "(1, 17)     0.004243   0.006465   0.005173   0.004566   0.003137   0.002409   \n",
       "(1, 20)     0.007120   0.006006   0.007629   0.004373   0.006062   0.005925   \n",
       "(1, 21)     0.014041   0.008696   0.013742   0.014877   0.004817   0.004829   \n",
       "...              ...        ...        ...        ...        ...        ...   \n",
       "(14, 258)   0.012862   0.016170   0.062053   1.000000   0.008140   0.008215   \n",
       "(14, 260)   0.004993   0.017338   0.025709   0.008140   1.000000   0.017860   \n",
       "(14, 279)   0.004732   0.009208   0.014362   0.008215   0.017860   1.000000   \n",
       "(14, 297)   0.012225   0.014928   0.036131   0.018404   0.012110   0.008265   \n",
       "(13, 39)    0.002360   0.001948   0.002184   0.001859   0.003976   0.004103   \n",
       "\n",
       "           (14, 297)  (13, 39)  \n",
       "(1, 2)      0.012236  0.001835  \n",
       "(1, 7)      0.013266  0.001723  \n",
       "(1, 17)     0.003841  0.000924  \n",
       "(1, 20)     0.008733  0.003201  \n",
       "(1, 21)     0.016190  0.002084  \n",
       "...              ...       ...  \n",
       "(14, 258)   0.018404  0.001859  \n",
       "(14, 260)   0.012110  0.003976  \n",
       "(14, 279)   0.008265  0.004103  \n",
       "(14, 297)   1.000000  0.003728  \n",
       "(13, 39)    0.003728  1.000000  \n",
       "\n",
       "[559 rows x 559 columns]"
      ],
      "text/html": [
       "<div>\n",
       "<style scoped>\n",
       "    .dataframe tbody tr th:only-of-type {\n",
       "        vertical-align: middle;\n",
       "    }\n",
       "\n",
       "    .dataframe tbody tr th {\n",
       "        vertical-align: top;\n",
       "    }\n",
       "\n",
       "    .dataframe thead th {\n",
       "        text-align: right;\n",
       "    }\n",
       "</style>\n",
       "<table border=\"1\" class=\"dataframe\">\n",
       "  <thead>\n",
       "    <tr style=\"text-align: right;\">\n",
       "      <th></th>\n",
       "      <th>(1, 2)</th>\n",
       "      <th>(1, 7)</th>\n",
       "      <th>(1, 17)</th>\n",
       "      <th>(1, 20)</th>\n",
       "      <th>(1, 21)</th>\n",
       "      <th>(1, 32)</th>\n",
       "      <th>(1, 37)</th>\n",
       "      <th>(1, 40)</th>\n",
       "      <th>(1, 42)</th>\n",
       "      <th>(1, 43)</th>\n",
       "      <th>...</th>\n",
       "      <th>(14, 195)</th>\n",
       "      <th>(14, 200)</th>\n",
       "      <th>(14, 238)</th>\n",
       "      <th>(14, 240)</th>\n",
       "      <th>(14, 251)</th>\n",
       "      <th>(14, 258)</th>\n",
       "      <th>(14, 260)</th>\n",
       "      <th>(14, 279)</th>\n",
       "      <th>(14, 297)</th>\n",
       "      <th>(13, 39)</th>\n",
       "    </tr>\n",
       "  </thead>\n",
       "  <tbody>\n",
       "    <tr>\n",
       "      <th>(1, 2)</th>\n",
       "      <td>1.000000</td>\n",
       "      <td>0.094167</td>\n",
       "      <td>0.008036</td>\n",
       "      <td>0.014289</td>\n",
       "      <td>0.043737</td>\n",
       "      <td>0.008600</td>\n",
       "      <td>0.012602</td>\n",
       "      <td>0.011295</td>\n",
       "      <td>0.019371</td>\n",
       "      <td>0.028137</td>\n",
       "      <td>...</td>\n",
       "      <td>0.005480</td>\n",
       "      <td>0.015516</td>\n",
       "      <td>0.035234</td>\n",
       "      <td>0.072240</td>\n",
       "      <td>0.032891</td>\n",
       "      <td>0.010082</td>\n",
       "      <td>0.043558</td>\n",
       "      <td>0.013220</td>\n",
       "      <td>0.012236</td>\n",
       "      <td>0.001835</td>\n",
       "    </tr>\n",
       "    <tr>\n",
       "      <th>(1, 7)</th>\n",
       "      <td>0.094167</td>\n",
       "      <td>1.000000</td>\n",
       "      <td>0.007969</td>\n",
       "      <td>0.015854</td>\n",
       "      <td>0.043430</td>\n",
       "      <td>0.013386</td>\n",
       "      <td>0.013647</td>\n",
       "      <td>0.012341</td>\n",
       "      <td>0.024859</td>\n",
       "      <td>0.028565</td>\n",
       "      <td>...</td>\n",
       "      <td>0.007836</td>\n",
       "      <td>0.012064</td>\n",
       "      <td>0.025266</td>\n",
       "      <td>0.041083</td>\n",
       "      <td>0.028688</td>\n",
       "      <td>0.013133</td>\n",
       "      <td>0.053296</td>\n",
       "      <td>0.018255</td>\n",
       "      <td>0.013266</td>\n",
       "      <td>0.001723</td>\n",
       "    </tr>\n",
       "    <tr>\n",
       "      <th>(1, 17)</th>\n",
       "      <td>0.008036</td>\n",
       "      <td>0.007969</td>\n",
       "      <td>1.000000</td>\n",
       "      <td>0.002874</td>\n",
       "      <td>0.003676</td>\n",
       "      <td>0.001885</td>\n",
       "      <td>0.002492</td>\n",
       "      <td>0.007920</td>\n",
       "      <td>0.002801</td>\n",
       "      <td>0.003136</td>\n",
       "      <td>...</td>\n",
       "      <td>0.005671</td>\n",
       "      <td>0.003414</td>\n",
       "      <td>0.004243</td>\n",
       "      <td>0.006465</td>\n",
       "      <td>0.005173</td>\n",
       "      <td>0.004566</td>\n",
       "      <td>0.003137</td>\n",
       "      <td>0.002409</td>\n",
       "      <td>0.003841</td>\n",
       "      <td>0.000924</td>\n",
       "    </tr>\n",
       "    <tr>\n",
       "      <th>(1, 20)</th>\n",
       "      <td>0.014289</td>\n",
       "      <td>0.015854</td>\n",
       "      <td>0.002874</td>\n",
       "      <td>1.000000</td>\n",
       "      <td>0.006765</td>\n",
       "      <td>0.005434</td>\n",
       "      <td>0.009184</td>\n",
       "      <td>0.004935</td>\n",
       "      <td>0.009069</td>\n",
       "      <td>0.007776</td>\n",
       "      <td>...</td>\n",
       "      <td>0.003591</td>\n",
       "      <td>0.006543</td>\n",
       "      <td>0.007120</td>\n",
       "      <td>0.006006</td>\n",
       "      <td>0.007629</td>\n",
       "      <td>0.004373</td>\n",
       "      <td>0.006062</td>\n",
       "      <td>0.005925</td>\n",
       "      <td>0.008733</td>\n",
       "      <td>0.003201</td>\n",
       "    </tr>\n",
       "    <tr>\n",
       "      <th>(1, 21)</th>\n",
       "      <td>0.043737</td>\n",
       "      <td>0.043430</td>\n",
       "      <td>0.003676</td>\n",
       "      <td>0.006765</td>\n",
       "      <td>1.000000</td>\n",
       "      <td>0.003710</td>\n",
       "      <td>0.008077</td>\n",
       "      <td>0.008067</td>\n",
       "      <td>0.015681</td>\n",
       "      <td>0.006428</td>\n",
       "      <td>...</td>\n",
       "      <td>0.007926</td>\n",
       "      <td>0.009131</td>\n",
       "      <td>0.014041</td>\n",
       "      <td>0.008696</td>\n",
       "      <td>0.013742</td>\n",
       "      <td>0.014877</td>\n",
       "      <td>0.004817</td>\n",
       "      <td>0.004829</td>\n",
       "      <td>0.016190</td>\n",
       "      <td>0.002084</td>\n",
       "    </tr>\n",
       "    <tr>\n",
       "      <th>...</th>\n",
       "      <td>...</td>\n",
       "      <td>...</td>\n",
       "      <td>...</td>\n",
       "      <td>...</td>\n",
       "      <td>...</td>\n",
       "      <td>...</td>\n",
       "      <td>...</td>\n",
       "      <td>...</td>\n",
       "      <td>...</td>\n",
       "      <td>...</td>\n",
       "      <td>...</td>\n",
       "      <td>...</td>\n",
       "      <td>...</td>\n",
       "      <td>...</td>\n",
       "      <td>...</td>\n",
       "      <td>...</td>\n",
       "      <td>...</td>\n",
       "      <td>...</td>\n",
       "      <td>...</td>\n",
       "      <td>...</td>\n",
       "      <td>...</td>\n",
       "    </tr>\n",
       "    <tr>\n",
       "      <th>(14, 258)</th>\n",
       "      <td>0.010082</td>\n",
       "      <td>0.013133</td>\n",
       "      <td>0.004566</td>\n",
       "      <td>0.004373</td>\n",
       "      <td>0.014877</td>\n",
       "      <td>0.003511</td>\n",
       "      <td>0.001376</td>\n",
       "      <td>0.007651</td>\n",
       "      <td>0.007261</td>\n",
       "      <td>0.004559</td>\n",
       "      <td>...</td>\n",
       "      <td>0.019073</td>\n",
       "      <td>0.009709</td>\n",
       "      <td>0.012862</td>\n",
       "      <td>0.016170</td>\n",
       "      <td>0.062053</td>\n",
       "      <td>1.000000</td>\n",
       "      <td>0.008140</td>\n",
       "      <td>0.008215</td>\n",
       "      <td>0.018404</td>\n",
       "      <td>0.001859</td>\n",
       "    </tr>\n",
       "    <tr>\n",
       "      <th>(14, 260)</th>\n",
       "      <td>0.043558</td>\n",
       "      <td>0.053296</td>\n",
       "      <td>0.003137</td>\n",
       "      <td>0.006062</td>\n",
       "      <td>0.004817</td>\n",
       "      <td>0.012001</td>\n",
       "      <td>0.003405</td>\n",
       "      <td>0.006504</td>\n",
       "      <td>0.006733</td>\n",
       "      <td>0.009643</td>\n",
       "      <td>...</td>\n",
       "      <td>0.005893</td>\n",
       "      <td>0.008443</td>\n",
       "      <td>0.004993</td>\n",
       "      <td>0.017338</td>\n",
       "      <td>0.025709</td>\n",
       "      <td>0.008140</td>\n",
       "      <td>1.000000</td>\n",
       "      <td>0.017860</td>\n",
       "      <td>0.012110</td>\n",
       "      <td>0.003976</td>\n",
       "    </tr>\n",
       "    <tr>\n",
       "      <th>(14, 279)</th>\n",
       "      <td>0.013220</td>\n",
       "      <td>0.018255</td>\n",
       "      <td>0.002409</td>\n",
       "      <td>0.005925</td>\n",
       "      <td>0.004829</td>\n",
       "      <td>0.007126</td>\n",
       "      <td>0.002639</td>\n",
       "      <td>0.005088</td>\n",
       "      <td>0.005132</td>\n",
       "      <td>0.014239</td>\n",
       "      <td>...</td>\n",
       "      <td>0.004239</td>\n",
       "      <td>0.011010</td>\n",
       "      <td>0.004732</td>\n",
       "      <td>0.009208</td>\n",
       "      <td>0.014362</td>\n",
       "      <td>0.008215</td>\n",
       "      <td>0.017860</td>\n",
       "      <td>1.000000</td>\n",
       "      <td>0.008265</td>\n",
       "      <td>0.004103</td>\n",
       "    </tr>\n",
       "    <tr>\n",
       "      <th>(14, 297)</th>\n",
       "      <td>0.012236</td>\n",
       "      <td>0.013266</td>\n",
       "      <td>0.003841</td>\n",
       "      <td>0.008733</td>\n",
       "      <td>0.016190</td>\n",
       "      <td>0.004276</td>\n",
       "      <td>0.001957</td>\n",
       "      <td>0.007028</td>\n",
       "      <td>0.013749</td>\n",
       "      <td>0.014987</td>\n",
       "      <td>...</td>\n",
       "      <td>0.006234</td>\n",
       "      <td>0.010555</td>\n",
       "      <td>0.012225</td>\n",
       "      <td>0.014928</td>\n",
       "      <td>0.036131</td>\n",
       "      <td>0.018404</td>\n",
       "      <td>0.012110</td>\n",
       "      <td>0.008265</td>\n",
       "      <td>1.000000</td>\n",
       "      <td>0.003728</td>\n",
       "    </tr>\n",
       "    <tr>\n",
       "      <th>(13, 39)</th>\n",
       "      <td>0.001835</td>\n",
       "      <td>0.001723</td>\n",
       "      <td>0.000924</td>\n",
       "      <td>0.003201</td>\n",
       "      <td>0.002084</td>\n",
       "      <td>0.004623</td>\n",
       "      <td>0.003913</td>\n",
       "      <td>0.002247</td>\n",
       "      <td>0.003188</td>\n",
       "      <td>0.004582</td>\n",
       "      <td>...</td>\n",
       "      <td>0.001645</td>\n",
       "      <td>0.003137</td>\n",
       "      <td>0.002360</td>\n",
       "      <td>0.001948</td>\n",
       "      <td>0.002184</td>\n",
       "      <td>0.001859</td>\n",
       "      <td>0.003976</td>\n",
       "      <td>0.004103</td>\n",
       "      <td>0.003728</td>\n",
       "      <td>1.000000</td>\n",
       "    </tr>\n",
       "  </tbody>\n",
       "</table>\n",
       "<p>559 rows × 559 columns</p>\n",
       "</div>"
      ]
     },
     "execution_count": 40,
     "metadata": {},
     "output_type": "execute_result"
    }
   ],
   "execution_count": 40
  },
  {
   "metadata": {
    "ExecuteTime": {
     "end_time": "2024-12-15T11:30:15.056752Z",
     "start_time": "2024-12-15T11:30:15.054262Z"
    }
   },
   "cell_type": "code",
   "source": [
    "def get_embeddings(dist_matrix, object_ids, train_data, new_scanpath):\n",
    "    # data = pd.concat([train_data, element_to_pred], axis=0)\n",
    "    # data.reset_index(drop=True, inplace=True)\n",
    "    \n",
    "    # similarity_matrix = get_similarity_matrix(data, eye_dist.calc_dtw_dist)\n",
    "    similarity_matrix = add_new_similarity_line(dist_matrix, object_ids, train_data, new_scanpath)\n",
    "    graph = make_graph_from_similarity(similarity_matrix, 0.1)\n",
    "    # print(graph.nodes)\n",
    "    node2vec = Node2Vec(graph, dimensions=64, walk_length=10, num_walks=100, workers=10)\n",
    "    model = node2vec.fit(window=10, min_count=1, batch_words=4)\n",
    "    \n",
    "    return model.wv"
   ],
   "id": "fdfe5253f525bd85",
   "outputs": [],
   "execution_count": 57
  },
  {
   "metadata": {
    "ExecuteTime": {
     "end_time": "2024-12-15T13:48:25.751061Z",
     "start_time": "2024-12-15T12:24:20.728816Z"
    }
   },
   "cell_type": "code",
   "source": [
    "from sklearn.neighbors import KNeighborsClassifier\n",
    "\n",
    "acc = 0\n",
    "gt = []\n",
    "preds = []\n",
    "for instance in tqdm(instances_test):\n",
    "    embed = get_embeddings(dist_matrix, object_ids + [(instance[0], instance[1])], df_train, df_test[(df_test[\"participant_id\"] == instance[0]) & (df_test[\"image_id\"] == instance[1])][['x', 'y']])\n",
    "    gt.append(df_test[(df_test[\"participant_id\"] == instance[0]) & (df_test[\"image_id\"] == instance[1])]['is_asd'].values[0])\n",
    "\n",
    "    word_embeddings = {word: (embed[word], int(df_train[(df_train[\"participant_id\"] == int(word.split(', ')[0][1:])) & (df_train[\"image_id\"] == int(word.split(', ')[1][:-1]))]['is_asd'].values[0])) for word in embed.index_to_key if word != str(tuple(instance))}\n",
    "    \n",
    "    # print(word_embeddings)\n",
    "    # knn_train_data = np.array(word_embeddings.values())\n",
    "    # print(knn_train_data.shape)\n",
    "    # knn_model = KNeighborsClassifier(10, n_jobs=4)\n",
    "    # knn_model.fit(knn_train_data[::, 0, ::], knn_train_data[::, 1, ::])\n",
    "    # \n",
    "    # pred = knn_model.predict(embed[str(tuple(instance))])\n",
    "    # print(pred)\n",
    "    knn_train_data = [x[0] for x in list(word_embeddings.values())]\n",
    "    knn_train_target = [x[1] for x in list(word_embeddings.values())]\n",
    "    \n",
    "    knn_model = KNeighborsClassifier(10, n_jobs=4)\n",
    "    knn_model.fit(np.array(knn_train_data), knn_train_target)\n",
    "    \n",
    "    pred = knn_model.predict(np.array(embed[str(tuple(instance))])[None, :])\n",
    "    preds.append(pred)\n",
    "    print(pred)\n",
    "    # break\n",
    "    # most_similar = embed.most_similar(str(tuple(instance)), topn=10)\n",
    "    # labels = []\n",
    "    # for elem in most_similar:\n",
    "    #     s = [int(x) for x in elem[0][1:-1].split(', ')]\n",
    "    #     labels.append(df[(df[\"participant_id\"] == s[0]) & (df[\"image_id\"] == s[1])]['is_asd'].values[0])\n",
    "    # \n",
    "    # elems, counts = np.unique(np.array(labels), return_counts=True)\n",
    "    # idx = np.argmax(counts)\n",
    "    \n",
    "    # preds.append(elems[idx])"
   ],
   "id": "11fca63dd66c553c",
   "outputs": [
    {
     "name": "stderr",
     "output_type": "stream",
     "text": [
      "  0%|          | 0/240 [00:00<?, ?it/s]"
     ]
    },
    {
     "data": {
      "text/plain": [
       "Computing transition probabilities:   0%|          | 0/559 [00:00<?, ?it/s]"
      ],
      "application/vnd.jupyter.widget-view+json": {
       "version_major": 2,
       "version_minor": 0,
       "model_id": "9ceb9b4ab7d94ba38c5cd7b7041c59d9"
      }
     },
     "metadata": {},
     "output_type": "display_data"
    },
    {
     "name": "stderr",
     "output_type": "stream",
     "text": [
      "Generating walks (CPU: 1): 100%|██████████| 25/25 [00:01<00:00, 21.00it/s]\n",
      "Generating walks (CPU: 2): 100%|██████████| 25/25 [00:01<00:00, 21.09it/s]\n",
      "Generating walks (CPU: 3): 100%|██████████| 25/25 [00:01<00:00, 22.25it/s]\n",
      "Generating walks (CPU: 4): 100%|██████████| 25/25 [00:01<00:00, 23.58it/s]\n",
      "  0%|          | 1/240 [00:27<1:49:11, 27.41s/it]"
     ]
    },
    {
     "name": "stdout",
     "output_type": "stream",
     "text": [
      "[0]\n"
     ]
    },
    {
     "data": {
      "text/plain": [
       "Computing transition probabilities:   0%|          | 0/559 [00:00<?, ?it/s]"
      ],
      "application/vnd.jupyter.widget-view+json": {
       "version_major": 2,
       "version_minor": 0,
       "model_id": "837193f95ffc4faf88e4df4176fd8313"
      }
     },
     "metadata": {},
     "output_type": "display_data"
    },
    {
     "name": "stderr",
     "output_type": "stream",
     "text": [
      "Generating walks (CPU: 1): 100%|██████████| 25/25 [00:01<00:00, 19.22it/s]\n",
      "Generating walks (CPU: 2): 100%|██████████| 25/25 [00:01<00:00, 19.55it/s]\n",
      "Generating walks (CPU: 3): 100%|██████████| 25/25 [00:01<00:00, 19.40it/s]\n",
      "Generating walks (CPU: 4): 100%|██████████| 25/25 [00:01<00:00, 18.39it/s]\n",
      "  1%|          | 2/240 [00:53<1:46:24, 26.83s/it]"
     ]
    },
    {
     "name": "stdout",
     "output_type": "stream",
     "text": [
      "[0]\n"
     ]
    },
    {
     "data": {
      "text/plain": [
       "Computing transition probabilities:   0%|          | 0/559 [00:00<?, ?it/s]"
      ],
      "application/vnd.jupyter.widget-view+json": {
       "version_major": 2,
       "version_minor": 0,
       "model_id": "c6999f608f3b4ec0918d22bb4b9b7e45"
      }
     },
     "metadata": {},
     "output_type": "display_data"
    },
    {
     "name": "stderr",
     "output_type": "stream",
     "text": [
      "Generating walks (CPU: 1): 100%|██████████| 25/25 [00:01<00:00, 20.18it/s]\n",
      "Generating walks (CPU: 2): 100%|██████████| 25/25 [00:01<00:00, 20.75it/s]\n",
      "Generating walks (CPU: 3): 100%|██████████| 25/25 [00:01<00:00, 21.41it/s]\n",
      "Generating walks (CPU: 4): 100%|██████████| 25/25 [00:01<00:00, 22.69it/s]\n",
      "  1%|▏         | 3/240 [01:17<1:40:05, 25.34s/it]"
     ]
    },
    {
     "name": "stdout",
     "output_type": "stream",
     "text": [
      "[0]\n"
     ]
    },
    {
     "data": {
      "text/plain": [
       "Computing transition probabilities:   0%|          | 0/559 [00:00<?, ?it/s]"
      ],
      "application/vnd.jupyter.widget-view+json": {
       "version_major": 2,
       "version_minor": 0,
       "model_id": "d352f43b7161400d8939e5437a10e6b9"
      }
     },
     "metadata": {},
     "output_type": "display_data"
    },
    {
     "name": "stderr",
     "output_type": "stream",
     "text": [
      "Generating walks (CPU: 1): 100%|██████████| 25/25 [00:01<00:00, 23.32it/s]\n",
      "Generating walks (CPU: 2): 100%|██████████| 25/25 [00:01<00:00, 23.14it/s]\n",
      "Generating walks (CPU: 3): 100%|██████████| 25/25 [00:01<00:00, 23.69it/s]\n",
      "Generating walks (CPU: 4): 100%|██████████| 25/25 [00:01<00:00, 24.38it/s]\n",
      "  2%|▏         | 4/240 [01:38<1:33:28, 23.76s/it]"
     ]
    },
    {
     "name": "stdout",
     "output_type": "stream",
     "text": [
      "[1]\n"
     ]
    },
    {
     "data": {
      "text/plain": [
       "Computing transition probabilities:   0%|          | 0/559 [00:00<?, ?it/s]"
      ],
      "application/vnd.jupyter.widget-view+json": {
       "version_major": 2,
       "version_minor": 0,
       "model_id": "6fab3a8d3e854434b7b4af9fd8426ffe"
      }
     },
     "metadata": {},
     "output_type": "display_data"
    },
    {
     "name": "stderr",
     "output_type": "stream",
     "text": [
      "Generating walks (CPU: 1): 100%|██████████| 25/25 [00:01<00:00, 23.86it/s]\n",
      "Generating walks (CPU: 2): 100%|██████████| 25/25 [00:01<00:00, 23.67it/s]\n",
      "Generating walks (CPU: 3): 100%|██████████| 25/25 [00:01<00:00, 24.02it/s]\n",
      "Generating walks (CPU: 4): 100%|██████████| 25/25 [00:01<00:00, 24.20it/s]\n",
      "  2%|▏         | 5/240 [02:00<1:30:21, 23.07s/it]"
     ]
    },
    {
     "name": "stdout",
     "output_type": "stream",
     "text": [
      "[0]\n"
     ]
    },
    {
     "data": {
      "text/plain": [
       "Computing transition probabilities:   0%|          | 0/559 [00:00<?, ?it/s]"
      ],
      "application/vnd.jupyter.widget-view+json": {
       "version_major": 2,
       "version_minor": 0,
       "model_id": "c6a0eb803ca5411580483d99b23c30ca"
      }
     },
     "metadata": {},
     "output_type": "display_data"
    },
    {
     "name": "stderr",
     "output_type": "stream",
     "text": [
      "Generating walks (CPU: 1): 100%|██████████| 25/25 [00:01<00:00, 23.78it/s]\n",
      "Generating walks (CPU: 2): 100%|██████████| 25/25 [00:01<00:00, 23.59it/s]\n",
      "Generating walks (CPU: 3): 100%|██████████| 25/25 [00:01<00:00, 23.78it/s]\n",
      "Generating walks (CPU: 4): 100%|██████████| 25/25 [00:01<00:00, 24.04it/s]\n",
      "  2%|▎         | 6/240 [02:26<1:34:18, 24.18s/it]"
     ]
    },
    {
     "name": "stdout",
     "output_type": "stream",
     "text": [
      "[0]\n"
     ]
    },
    {
     "data": {
      "text/plain": [
       "Computing transition probabilities:   0%|          | 0/559 [00:00<?, ?it/s]"
      ],
      "application/vnd.jupyter.widget-view+json": {
       "version_major": 2,
       "version_minor": 0,
       "model_id": "f2f91402f9e845a69764fa41d605bd43"
      }
     },
     "metadata": {},
     "output_type": "display_data"
    },
    {
     "name": "stderr",
     "output_type": "stream",
     "text": [
      "Generating walks (CPU: 1): 100%|██████████| 25/25 [00:01<00:00, 20.26it/s]\n",
      "Generating walks (CPU: 2): 100%|██████████| 25/25 [00:01<00:00, 20.13it/s]\n",
      "Generating walks (CPU: 3): 100%|██████████| 25/25 [00:01<00:00, 18.64it/s]\n",
      "Generating walks (CPU: 4): 100%|██████████| 25/25 [00:01<00:00, 19.91it/s]\n",
      "  3%|▎         | 7/240 [02:51<1:34:19, 24.29s/it]"
     ]
    },
    {
     "name": "stdout",
     "output_type": "stream",
     "text": [
      "[0]\n"
     ]
    },
    {
     "data": {
      "text/plain": [
       "Computing transition probabilities:   0%|          | 0/559 [00:00<?, ?it/s]"
      ],
      "application/vnd.jupyter.widget-view+json": {
       "version_major": 2,
       "version_minor": 0,
       "model_id": "bd61046279c346afb5c2c456758aa3e8"
      }
     },
     "metadata": {},
     "output_type": "display_data"
    },
    {
     "name": "stderr",
     "output_type": "stream",
     "text": [
      "Generating walks (CPU: 1): 100%|██████████| 25/25 [00:01<00:00, 21.61it/s]\n",
      "Generating walks (CPU: 2): 100%|██████████| 25/25 [00:01<00:00, 20.82it/s]\n",
      "Generating walks (CPU: 3): 100%|██████████| 25/25 [00:01<00:00, 20.54it/s]\n",
      "Generating walks (CPU: 4): 100%|██████████| 25/25 [00:01<00:00, 19.96it/s]\n",
      "  3%|▎         | 8/240 [03:16<1:34:54, 24.54s/it]"
     ]
    },
    {
     "name": "stdout",
     "output_type": "stream",
     "text": [
      "[0]\n"
     ]
    },
    {
     "data": {
      "text/plain": [
       "Computing transition probabilities:   0%|          | 0/559 [00:00<?, ?it/s]"
      ],
      "application/vnd.jupyter.widget-view+json": {
       "version_major": 2,
       "version_minor": 0,
       "model_id": "6d7dba87255943c7afad000f4ed1f0bb"
      }
     },
     "metadata": {},
     "output_type": "display_data"
    },
    {
     "name": "stderr",
     "output_type": "stream",
     "text": [
      "Generating walks (CPU: 1): 100%|██████████| 25/25 [00:01<00:00, 18.30it/s]\n",
      "Generating walks (CPU: 2): 100%|██████████| 25/25 [00:01<00:00, 17.33it/s]\n",
      "Generating walks (CPU: 3): 100%|██████████| 25/25 [00:01<00:00, 19.77it/s]\n",
      "Generating walks (CPU: 4): 100%|██████████| 25/25 [00:01<00:00, 20.57it/s]\n",
      "  4%|▍         | 9/240 [03:40<1:34:23, 24.52s/it]"
     ]
    },
    {
     "name": "stdout",
     "output_type": "stream",
     "text": [
      "[0]\n"
     ]
    },
    {
     "data": {
      "text/plain": [
       "Computing transition probabilities:   0%|          | 0/559 [00:00<?, ?it/s]"
      ],
      "application/vnd.jupyter.widget-view+json": {
       "version_major": 2,
       "version_minor": 0,
       "model_id": "3e54542cf2704a619122f576893a1b96"
      }
     },
     "metadata": {},
     "output_type": "display_data"
    },
    {
     "name": "stderr",
     "output_type": "stream",
     "text": [
      "Generating walks (CPU: 1): 100%|██████████| 25/25 [00:01<00:00, 22.06it/s]\n",
      "Generating walks (CPU: 2): 100%|██████████| 25/25 [00:01<00:00, 19.93it/s]\n",
      "Generating walks (CPU: 3): 100%|██████████| 25/25 [00:01<00:00, 21.32it/s]\n",
      "Generating walks (CPU: 4): 100%|██████████| 25/25 [00:01<00:00, 22.86it/s]\n",
      "  4%|▍         | 10/240 [04:03<1:31:07, 23.77s/it]"
     ]
    },
    {
     "name": "stdout",
     "output_type": "stream",
     "text": [
      "[0]\n"
     ]
    },
    {
     "data": {
      "text/plain": [
       "Computing transition probabilities:   0%|          | 0/559 [00:00<?, ?it/s]"
      ],
      "application/vnd.jupyter.widget-view+json": {
       "version_major": 2,
       "version_minor": 0,
       "model_id": "14a77161099c43429f334dc30aec6398"
      }
     },
     "metadata": {},
     "output_type": "display_data"
    },
    {
     "name": "stderr",
     "output_type": "stream",
     "text": [
      "Generating walks (CPU: 1): 100%|██████████| 25/25 [00:01<00:00, 24.02it/s]\n",
      "Generating walks (CPU: 2): 100%|██████████| 25/25 [00:01<00:00, 23.92it/s]\n",
      "Generating walks (CPU: 3): 100%|██████████| 25/25 [00:01<00:00, 24.30it/s]\n",
      "Generating walks (CPU: 4): 100%|██████████| 25/25 [00:01<00:00, 24.90it/s]\n",
      "  5%|▍         | 11/240 [04:25<1:28:47, 23.26s/it]"
     ]
    },
    {
     "name": "stdout",
     "output_type": "stream",
     "text": [
      "[0]\n"
     ]
    },
    {
     "data": {
      "text/plain": [
       "Computing transition probabilities:   0%|          | 0/559 [00:00<?, ?it/s]"
      ],
      "application/vnd.jupyter.widget-view+json": {
       "version_major": 2,
       "version_minor": 0,
       "model_id": "f275d30f201143eb9e4c961589bc104b"
      }
     },
     "metadata": {},
     "output_type": "display_data"
    },
    {
     "name": "stderr",
     "output_type": "stream",
     "text": [
      "Generating walks (CPU: 1): 100%|██████████| 25/25 [00:01<00:00, 24.18it/s]\n",
      "Generating walks (CPU: 2): 100%|██████████| 25/25 [00:01<00:00, 24.37it/s]\n",
      "Generating walks (CPU: 3): 100%|██████████| 25/25 [00:01<00:00, 24.42it/s]\n",
      "Generating walks (CPU: 4): 100%|██████████| 25/25 [00:01<00:00, 24.58it/s]\n",
      "  5%|▌         | 12/240 [04:46<1:26:15, 22.70s/it]"
     ]
    },
    {
     "name": "stdout",
     "output_type": "stream",
     "text": [
      "[0]\n"
     ]
    },
    {
     "data": {
      "text/plain": [
       "Computing transition probabilities:   0%|          | 0/559 [00:00<?, ?it/s]"
      ],
      "application/vnd.jupyter.widget-view+json": {
       "version_major": 2,
       "version_minor": 0,
       "model_id": "4f93bd25bcad44bca4e5cad6ec119788"
      }
     },
     "metadata": {},
     "output_type": "display_data"
    },
    {
     "name": "stderr",
     "output_type": "stream",
     "text": [
      "Generating walks (CPU: 1): 100%|██████████| 25/25 [00:02<00:00, 11.07it/s]\n",
      "Generating walks (CPU: 2): 100%|██████████| 25/25 [00:01<00:00, 12.88it/s]\n",
      "Generating walks (CPU: 3): 100%|██████████| 25/25 [00:01<00:00, 12.79it/s]\n",
      "Generating walks (CPU: 4): 100%|██████████| 25/25 [00:02<00:00, 11.92it/s]\n",
      "  5%|▌         | 13/240 [05:20<1:38:35, 26.06s/it]"
     ]
    },
    {
     "name": "stdout",
     "output_type": "stream",
     "text": [
      "[0]\n"
     ]
    },
    {
     "data": {
      "text/plain": [
       "Computing transition probabilities:   0%|          | 0/559 [00:00<?, ?it/s]"
      ],
      "application/vnd.jupyter.widget-view+json": {
       "version_major": 2,
       "version_minor": 0,
       "model_id": "81425b95b9a74ba0bd66304b1f6e7a11"
      }
     },
     "metadata": {},
     "output_type": "display_data"
    },
    {
     "name": "stderr",
     "output_type": "stream",
     "text": [
      "Generating walks (CPU: 1): 100%|██████████| 25/25 [00:01<00:00, 20.62it/s]\n",
      "Generating walks (CPU: 2): 100%|██████████| 25/25 [00:01<00:00, 20.85it/s]\n",
      "Generating walks (CPU: 3): 100%|██████████| 25/25 [00:01<00:00, 22.57it/s]\n",
      "Generating walks (CPU: 4): 100%|██████████| 25/25 [00:01<00:00, 23.50it/s]\n",
      "  6%|▌         | 14/240 [05:43<1:34:54, 25.20s/it]"
     ]
    },
    {
     "name": "stdout",
     "output_type": "stream",
     "text": [
      "[0]\n"
     ]
    },
    {
     "data": {
      "text/plain": [
       "Computing transition probabilities:   0%|          | 0/559 [00:00<?, ?it/s]"
      ],
      "application/vnd.jupyter.widget-view+json": {
       "version_major": 2,
       "version_minor": 0,
       "model_id": "011cefcde2a8477f9642a4634f24d77c"
      }
     },
     "metadata": {},
     "output_type": "display_data"
    },
    {
     "name": "stderr",
     "output_type": "stream",
     "text": [
      "Generating walks (CPU: 1): 100%|██████████| 25/25 [00:01<00:00, 23.83it/s]\n",
      "Generating walks (CPU: 2): 100%|██████████| 25/25 [00:01<00:00, 23.90it/s]\n",
      "Generating walks (CPU: 3): 100%|██████████| 25/25 [00:01<00:00, 23.95it/s]\n",
      "Generating walks (CPU: 4): 100%|██████████| 25/25 [00:01<00:00, 24.45it/s]\n",
      "  6%|▋         | 15/240 [06:05<1:30:12, 24.05s/it]"
     ]
    },
    {
     "name": "stdout",
     "output_type": "stream",
     "text": [
      "[0]\n"
     ]
    },
    {
     "data": {
      "text/plain": [
       "Computing transition probabilities:   0%|          | 0/559 [00:00<?, ?it/s]"
      ],
      "application/vnd.jupyter.widget-view+json": {
       "version_major": 2,
       "version_minor": 0,
       "model_id": "22be8708a2cb4293b0bf54ed236c26b5"
      }
     },
     "metadata": {},
     "output_type": "display_data"
    },
    {
     "name": "stderr",
     "output_type": "stream",
     "text": [
      "Generating walks (CPU: 1): 100%|██████████| 25/25 [00:01<00:00, 24.08it/s]\n",
      "Generating walks (CPU: 2): 100%|██████████| 25/25 [00:01<00:00, 23.73it/s]\n",
      "Generating walks (CPU: 3): 100%|██████████| 25/25 [00:01<00:00, 24.10it/s]\n",
      "Generating walks (CPU: 4): 100%|██████████| 25/25 [00:01<00:00, 24.23it/s]\n",
      "  7%|▋         | 16/240 [06:27<1:27:59, 23.57s/it]"
     ]
    },
    {
     "name": "stdout",
     "output_type": "stream",
     "text": [
      "[0]\n"
     ]
    },
    {
     "data": {
      "text/plain": [
       "Computing transition probabilities:   0%|          | 0/559 [00:00<?, ?it/s]"
      ],
      "application/vnd.jupyter.widget-view+json": {
       "version_major": 2,
       "version_minor": 0,
       "model_id": "3365ad94f72d4c94a3b4d79fbb123f1f"
      }
     },
     "metadata": {},
     "output_type": "display_data"
    },
    {
     "name": "stderr",
     "output_type": "stream",
     "text": [
      "Generating walks (CPU: 1): 100%|██████████| 25/25 [00:01<00:00, 14.73it/s]\n",
      "Generating walks (CPU: 2): 100%|██████████| 25/25 [00:01<00:00, 17.13it/s]\n",
      "Generating walks (CPU: 3): 100%|██████████| 25/25 [00:01<00:00, 17.52it/s]\n",
      "Generating walks (CPU: 4): 100%|██████████| 25/25 [00:01<00:00, 16.00it/s]\n",
      "  7%|▋         | 17/240 [06:57<1:34:27, 25.41s/it]"
     ]
    },
    {
     "name": "stdout",
     "output_type": "stream",
     "text": [
      "[0]\n"
     ]
    },
    {
     "data": {
      "text/plain": [
       "Computing transition probabilities:   0%|          | 0/559 [00:00<?, ?it/s]"
      ],
      "application/vnd.jupyter.widget-view+json": {
       "version_major": 2,
       "version_minor": 0,
       "model_id": "2de2cd1d0849484885c522dcc507706d"
      }
     },
     "metadata": {},
     "output_type": "display_data"
    },
    {
     "name": "stderr",
     "output_type": "stream",
     "text": [
      "Generating walks (CPU: 1): 100%|██████████| 25/25 [00:01<00:00, 24.12it/s]\n",
      "Generating walks (CPU: 2): 100%|██████████| 25/25 [00:01<00:00, 24.36it/s]\n",
      "Generating walks (CPU: 3): 100%|██████████| 25/25 [00:01<00:00, 24.13it/s]\n",
      "Generating walks (CPU: 4): 100%|██████████| 25/25 [00:01<00:00, 24.76it/s]\n",
      "  8%|▊         | 18/240 [07:18<1:30:02, 24.34s/it]"
     ]
    },
    {
     "name": "stdout",
     "output_type": "stream",
     "text": [
      "[0]\n"
     ]
    },
    {
     "data": {
      "text/plain": [
       "Computing transition probabilities:   0%|          | 0/559 [00:00<?, ?it/s]"
      ],
      "application/vnd.jupyter.widget-view+json": {
       "version_major": 2,
       "version_minor": 0,
       "model_id": "9385da77b99a465993fd1cf62b74f14d"
      }
     },
     "metadata": {},
     "output_type": "display_data"
    },
    {
     "name": "stderr",
     "output_type": "stream",
     "text": [
      "Generating walks (CPU: 1): 100%|██████████| 25/25 [00:01<00:00, 23.86it/s]\n",
      "Generating walks (CPU: 2): 100%|██████████| 25/25 [00:01<00:00, 22.81it/s]\n",
      "Generating walks (CPU: 3): 100%|██████████| 25/25 [00:01<00:00, 22.71it/s]\n",
      "Generating walks (CPU: 4): 100%|██████████| 25/25 [00:01<00:00, 23.18it/s]\n",
      "  8%|▊         | 19/240 [07:39<1:25:40, 23.26s/it]"
     ]
    },
    {
     "name": "stdout",
     "output_type": "stream",
     "text": [
      "[1]\n"
     ]
    },
    {
     "data": {
      "text/plain": [
       "Computing transition probabilities:   0%|          | 0/559 [00:00<?, ?it/s]"
      ],
      "application/vnd.jupyter.widget-view+json": {
       "version_major": 2,
       "version_minor": 0,
       "model_id": "7c33423edf1f4c32855d3a1f7d20cfec"
      }
     },
     "metadata": {},
     "output_type": "display_data"
    },
    {
     "name": "stderr",
     "output_type": "stream",
     "text": [
      "Generating walks (CPU: 1): 100%|██████████| 25/25 [00:01<00:00, 24.10it/s]\n",
      "Generating walks (CPU: 2): 100%|██████████| 25/25 [00:01<00:00, 24.11it/s]\n",
      "Generating walks (CPU: 3): 100%|██████████| 25/25 [00:01<00:00, 24.00it/s]\n",
      "Generating walks (CPU: 4): 100%|██████████| 25/25 [00:01<00:00, 24.21it/s]\n",
      "  8%|▊         | 20/240 [08:05<1:28:19, 24.09s/it]"
     ]
    },
    {
     "name": "stdout",
     "output_type": "stream",
     "text": [
      "[0]\n"
     ]
    },
    {
     "data": {
      "text/plain": [
       "Computing transition probabilities:   0%|          | 0/559 [00:00<?, ?it/s]"
      ],
      "application/vnd.jupyter.widget-view+json": {
       "version_major": 2,
       "version_minor": 0,
       "model_id": "c7cb77faa6a94e3d84f1f4ee284dc412"
      }
     },
     "metadata": {},
     "output_type": "display_data"
    },
    {
     "name": "stderr",
     "output_type": "stream",
     "text": [
      "Generating walks (CPU: 1): 100%|██████████| 25/25 [00:01<00:00, 19.89it/s]\n",
      "Generating walks (CPU: 2): 100%|██████████| 25/25 [00:01<00:00, 18.73it/s]\n",
      "Generating walks (CPU: 3): 100%|██████████| 25/25 [00:01<00:00, 16.39it/s]\n",
      "Generating walks (CPU: 4): 100%|██████████| 25/25 [00:01<00:00, 16.06it/s]\n",
      "  9%|▉         | 21/240 [08:32<1:31:10, 24.98s/it]"
     ]
    },
    {
     "name": "stdout",
     "output_type": "stream",
     "text": [
      "[0]\n"
     ]
    },
    {
     "data": {
      "text/plain": [
       "Computing transition probabilities:   0%|          | 0/559 [00:00<?, ?it/s]"
      ],
      "application/vnd.jupyter.widget-view+json": {
       "version_major": 2,
       "version_minor": 0,
       "model_id": "d3e79f151e5a41ee92fd56a2729eeb03"
      }
     },
     "metadata": {},
     "output_type": "display_data"
    },
    {
     "name": "stderr",
     "output_type": "stream",
     "text": [
      "Generating walks (CPU: 1): 100%|██████████| 25/25 [00:01<00:00, 24.03it/s]\n",
      "Generating walks (CPU: 2): 100%|██████████| 25/25 [00:01<00:00, 23.98it/s]\n",
      "Generating walks (CPU: 3): 100%|██████████| 25/25 [00:01<00:00, 24.26it/s]\n",
      "Generating walks (CPU: 4): 100%|██████████| 25/25 [00:01<00:00, 24.66it/s]\n",
      "  9%|▉         | 22/240 [08:54<1:27:01, 23.95s/it]"
     ]
    },
    {
     "name": "stdout",
     "output_type": "stream",
     "text": [
      "[0]\n"
     ]
    },
    {
     "data": {
      "text/plain": [
       "Computing transition probabilities:   0%|          | 0/559 [00:00<?, ?it/s]"
      ],
      "application/vnd.jupyter.widget-view+json": {
       "version_major": 2,
       "version_minor": 0,
       "model_id": "311e4bb408ce4fc89f94688fb5913d7e"
      }
     },
     "metadata": {},
     "output_type": "display_data"
    },
    {
     "name": "stderr",
     "output_type": "stream",
     "text": [
      "Generating walks (CPU: 1): 100%|██████████| 25/25 [00:01<00:00, 23.96it/s]\n",
      "Generating walks (CPU: 2): 100%|██████████| 25/25 [00:01<00:00, 24.24it/s]\n",
      "Generating walks (CPU: 3): 100%|██████████| 25/25 [00:01<00:00, 24.47it/s]\n",
      "Generating walks (CPU: 4): 100%|██████████| 25/25 [00:01<00:00, 24.83it/s]\n",
      " 10%|▉         | 23/240 [09:16<1:24:42, 23.42s/it]"
     ]
    },
    {
     "name": "stdout",
     "output_type": "stream",
     "text": [
      "[0]\n"
     ]
    },
    {
     "data": {
      "text/plain": [
       "Computing transition probabilities:   0%|          | 0/559 [00:00<?, ?it/s]"
      ],
      "application/vnd.jupyter.widget-view+json": {
       "version_major": 2,
       "version_minor": 0,
       "model_id": "155aed324e7d43799ead1cbabff8f62a"
      }
     },
     "metadata": {},
     "output_type": "display_data"
    },
    {
     "name": "stderr",
     "output_type": "stream",
     "text": [
      "Generating walks (CPU: 1): 100%|██████████| 25/25 [00:01<00:00, 23.46it/s]\n",
      "Generating walks (CPU: 2): 100%|██████████| 25/25 [00:01<00:00, 23.56it/s]\n",
      "Generating walks (CPU: 3): 100%|██████████| 25/25 [00:01<00:00, 23.39it/s]\n",
      "Generating walks (CPU: 4): 100%|██████████| 25/25 [00:01<00:00, 23.78it/s]\n",
      " 10%|█         | 24/240 [09:42<1:27:14, 24.24s/it]"
     ]
    },
    {
     "name": "stdout",
     "output_type": "stream",
     "text": [
      "[0]\n"
     ]
    },
    {
     "data": {
      "text/plain": [
       "Computing transition probabilities:   0%|          | 0/559 [00:00<?, ?it/s]"
      ],
      "application/vnd.jupyter.widget-view+json": {
       "version_major": 2,
       "version_minor": 0,
       "model_id": "319224a71ef34f6caf7f156ac7e2638b"
      }
     },
     "metadata": {},
     "output_type": "display_data"
    },
    {
     "name": "stderr",
     "output_type": "stream",
     "text": [
      "Generating walks (CPU: 1): 100%|██████████| 25/25 [00:01<00:00, 20.06it/s]\n",
      "Generating walks (CPU: 2): 100%|██████████| 25/25 [00:01<00:00, 21.84it/s]\n",
      "Generating walks (CPU: 3): 100%|██████████| 25/25 [00:01<00:00, 22.30it/s]\n",
      "Generating walks (CPU: 4): 100%|██████████| 25/25 [00:01<00:00, 21.90it/s]\n",
      " 10%|█         | 25/240 [10:05<1:25:48, 23.95s/it]"
     ]
    },
    {
     "name": "stdout",
     "output_type": "stream",
     "text": [
      "[1]\n"
     ]
    },
    {
     "data": {
      "text/plain": [
       "Computing transition probabilities:   0%|          | 0/559 [00:00<?, ?it/s]"
      ],
      "application/vnd.jupyter.widget-view+json": {
       "version_major": 2,
       "version_minor": 0,
       "model_id": "1e485715f4c141128e5190ca7c790e84"
      }
     },
     "metadata": {},
     "output_type": "display_data"
    },
    {
     "name": "stderr",
     "output_type": "stream",
     "text": [
      "Generating walks (CPU: 1): 100%|██████████| 25/25 [00:01<00:00, 22.35it/s]\n",
      "Generating walks (CPU: 2): 100%|██████████| 25/25 [00:01<00:00, 22.73it/s]\n",
      "Generating walks (CPU: 3): 100%|██████████| 25/25 [00:01<00:00, 22.55it/s]\n",
      "Generating walks (CPU: 4): 100%|██████████| 25/25 [00:01<00:00, 22.34it/s]\n",
      " 11%|█         | 26/240 [10:28<1:23:24, 23.38s/it]"
     ]
    },
    {
     "name": "stdout",
     "output_type": "stream",
     "text": [
      "[0]\n"
     ]
    },
    {
     "data": {
      "text/plain": [
       "Computing transition probabilities:   0%|          | 0/559 [00:00<?, ?it/s]"
      ],
      "application/vnd.jupyter.widget-view+json": {
       "version_major": 2,
       "version_minor": 0,
       "model_id": "a708d1aadf934427ad6b9661438c89b6"
      }
     },
     "metadata": {},
     "output_type": "display_data"
    },
    {
     "name": "stderr",
     "output_type": "stream",
     "text": [
      "Generating walks (CPU: 1): 100%|██████████| 25/25 [00:01<00:00, 21.73it/s]\n",
      "Generating walks (CPU: 2): 100%|██████████| 25/25 [00:01<00:00, 22.35it/s]\n",
      "Generating walks (CPU: 3): 100%|██████████| 25/25 [00:01<00:00, 20.68it/s]\n",
      "Generating walks (CPU: 4): 100%|██████████| 25/25 [00:01<00:00, 21.60it/s]\n",
      " 11%|█▏        | 27/240 [10:51<1:23:20, 23.48s/it]"
     ]
    },
    {
     "name": "stdout",
     "output_type": "stream",
     "text": [
      "[0]\n"
     ]
    },
    {
     "data": {
      "text/plain": [
       "Computing transition probabilities:   0%|          | 0/559 [00:00<?, ?it/s]"
      ],
      "application/vnd.jupyter.widget-view+json": {
       "version_major": 2,
       "version_minor": 0,
       "model_id": "c8e10387601746f7979ca2980fa6af3b"
      }
     },
     "metadata": {},
     "output_type": "display_data"
    },
    {
     "name": "stderr",
     "output_type": "stream",
     "text": [
      "Generating walks (CPU: 1): 100%|██████████| 25/25 [00:01<00:00, 24.36it/s]\n",
      "Generating walks (CPU: 2): 100%|██████████| 25/25 [00:01<00:00, 24.52it/s]\n",
      "Generating walks (CPU: 3): 100%|██████████| 25/25 [00:01<00:00, 24.59it/s]\n",
      "Generating walks (CPU: 4): 100%|██████████| 25/25 [00:01<00:00, 24.74it/s]\n",
      " 12%|█▏        | 28/240 [11:12<1:20:17, 22.72s/it]"
     ]
    },
    {
     "name": "stdout",
     "output_type": "stream",
     "text": [
      "[0]\n"
     ]
    },
    {
     "data": {
      "text/plain": [
       "Computing transition probabilities:   0%|          | 0/559 [00:00<?, ?it/s]"
      ],
      "application/vnd.jupyter.widget-view+json": {
       "version_major": 2,
       "version_minor": 0,
       "model_id": "587f2a4d6c1a4125996ae92b1ea2a7e6"
      }
     },
     "metadata": {},
     "output_type": "display_data"
    },
    {
     "name": "stderr",
     "output_type": "stream",
     "text": [
      "Generating walks (CPU: 1): 100%|██████████| 25/25 [00:01<00:00, 24.19it/s]\n",
      "Generating walks (CPU: 2): 100%|██████████| 25/25 [00:01<00:00, 24.16it/s]\n",
      "Generating walks (CPU: 3): 100%|██████████| 25/25 [00:01<00:00, 24.36it/s]\n",
      "Generating walks (CPU: 4): 100%|██████████| 25/25 [00:01<00:00, 24.59it/s]\n",
      " 12%|█▏        | 29/240 [11:34<1:18:37, 22.36s/it]"
     ]
    },
    {
     "name": "stdout",
     "output_type": "stream",
     "text": [
      "[0]\n"
     ]
    },
    {
     "data": {
      "text/plain": [
       "Computing transition probabilities:   0%|          | 0/559 [00:00<?, ?it/s]"
      ],
      "application/vnd.jupyter.widget-view+json": {
       "version_major": 2,
       "version_minor": 0,
       "model_id": "66f0ca2ea0314abe97706dd87ef26a67"
      }
     },
     "metadata": {},
     "output_type": "display_data"
    },
    {
     "name": "stderr",
     "output_type": "stream",
     "text": [
      "Generating walks (CPU: 1): 100%|██████████| 25/25 [00:01<00:00, 23.25it/s]\n",
      "Generating walks (CPU: 2): 100%|██████████| 25/25 [00:01<00:00, 23.71it/s]\n",
      "Generating walks (CPU: 3): 100%|██████████| 25/25 [00:01<00:00, 23.77it/s]\n",
      "Generating walks (CPU: 4): 100%|██████████| 25/25 [00:01<00:00, 24.19it/s]\n",
      " 12%|█▎        | 30/240 [12:00<1:22:05, 23.46s/it]"
     ]
    },
    {
     "name": "stdout",
     "output_type": "stream",
     "text": [
      "[0]\n"
     ]
    },
    {
     "data": {
      "text/plain": [
       "Computing transition probabilities:   0%|          | 0/559 [00:00<?, ?it/s]"
      ],
      "application/vnd.jupyter.widget-view+json": {
       "version_major": 2,
       "version_minor": 0,
       "model_id": "9fae41c607f449bb9c8a248f3a7537ec"
      }
     },
     "metadata": {},
     "output_type": "display_data"
    },
    {
     "name": "stderr",
     "output_type": "stream",
     "text": [
      "Generating walks (CPU: 1): 100%|██████████| 25/25 [00:01<00:00, 20.35it/s]\n",
      "Generating walks (CPU: 2): 100%|██████████| 25/25 [00:01<00:00, 20.06it/s]\n",
      "Generating walks (CPU: 3): 100%|██████████| 25/25 [00:01<00:00, 19.09it/s]\n",
      "Generating walks (CPU: 4): 100%|██████████| 25/25 [00:01<00:00, 20.39it/s]\n",
      " 13%|█▎        | 31/240 [12:26<1:24:48, 24.35s/it]"
     ]
    },
    {
     "name": "stdout",
     "output_type": "stream",
     "text": [
      "[0]\n"
     ]
    },
    {
     "data": {
      "text/plain": [
       "Computing transition probabilities:   0%|          | 0/559 [00:00<?, ?it/s]"
      ],
      "application/vnd.jupyter.widget-view+json": {
       "version_major": 2,
       "version_minor": 0,
       "model_id": "a806792004a0468ca888fb6dcc171f4d"
      }
     },
     "metadata": {},
     "output_type": "display_data"
    },
    {
     "name": "stderr",
     "output_type": "stream",
     "text": [
      "Generating walks (CPU: 1): 100%|██████████| 25/25 [00:01<00:00, 20.19it/s]\n",
      "Generating walks (CPU: 2): 100%|██████████| 25/25 [00:01<00:00, 21.40it/s]\n",
      "Generating walks (CPU: 3): 100%|██████████| 25/25 [00:01<00:00, 21.39it/s]\n",
      "Generating walks (CPU: 4): 100%|██████████| 25/25 [00:01<00:00, 22.41it/s]\n",
      " 13%|█▎        | 32/240 [12:49<1:22:33, 23.82s/it]"
     ]
    },
    {
     "name": "stdout",
     "output_type": "stream",
     "text": [
      "[0]\n"
     ]
    },
    {
     "data": {
      "text/plain": [
       "Computing transition probabilities:   0%|          | 0/559 [00:00<?, ?it/s]"
      ],
      "application/vnd.jupyter.widget-view+json": {
       "version_major": 2,
       "version_minor": 0,
       "model_id": "95945ed9e26b492eaeec317f3f052f67"
      }
     },
     "metadata": {},
     "output_type": "display_data"
    },
    {
     "name": "stderr",
     "output_type": "stream",
     "text": [
      "Generating walks (CPU: 1): 100%|██████████| 25/25 [00:01<00:00, 20.59it/s]\n",
      "Generating walks (CPU: 2): 100%|██████████| 25/25 [00:01<00:00, 20.81it/s]\n",
      "Generating walks (CPU: 3): 100%|██████████| 25/25 [00:01<00:00, 20.19it/s]\n",
      "Generating walks (CPU: 4): 100%|██████████| 25/25 [00:01<00:00, 19.87it/s]\n",
      " 14%|█▍        | 33/240 [13:12<1:21:34, 23.65s/it]"
     ]
    },
    {
     "name": "stdout",
     "output_type": "stream",
     "text": [
      "[0]\n"
     ]
    },
    {
     "data": {
      "text/plain": [
       "Computing transition probabilities:   0%|          | 0/559 [00:00<?, ?it/s]"
      ],
      "application/vnd.jupyter.widget-view+json": {
       "version_major": 2,
       "version_minor": 0,
       "model_id": "ee0977d8494044ad8adcc401caf7d430"
      }
     },
     "metadata": {},
     "output_type": "display_data"
    },
    {
     "name": "stderr",
     "output_type": "stream",
     "text": [
      "Generating walks (CPU: 1): 100%|██████████| 25/25 [00:01<00:00, 24.23it/s]\n",
      "Generating walks (CPU: 2): 100%|██████████| 25/25 [00:01<00:00, 24.27it/s]\n",
      "Generating walks (CPU: 3): 100%|██████████| 25/25 [00:01<00:00, 24.20it/s]\n",
      "Generating walks (CPU: 4): 100%|██████████| 25/25 [00:01<00:00, 24.70it/s]\n",
      " 14%|█▍        | 34/240 [13:33<1:18:43, 22.93s/it]"
     ]
    },
    {
     "name": "stdout",
     "output_type": "stream",
     "text": [
      "[0]\n"
     ]
    },
    {
     "data": {
      "text/plain": [
       "Computing transition probabilities:   0%|          | 0/559 [00:00<?, ?it/s]"
      ],
      "application/vnd.jupyter.widget-view+json": {
       "version_major": 2,
       "version_minor": 0,
       "model_id": "95c4fe4188a546338e543d8a21751aac"
      }
     },
     "metadata": {},
     "output_type": "display_data"
    },
    {
     "name": "stderr",
     "output_type": "stream",
     "text": [
      "Generating walks (CPU: 1): 100%|██████████| 25/25 [00:01<00:00, 24.21it/s]\n",
      "Generating walks (CPU: 2): 100%|██████████| 25/25 [00:01<00:00, 24.29it/s]\n",
      "Generating walks (CPU: 3): 100%|██████████| 25/25 [00:01<00:00, 24.44it/s]\n",
      "Generating walks (CPU: 4): 100%|██████████| 25/25 [00:01<00:00, 24.80it/s]\n",
      " 15%|█▍        | 35/240 [13:55<1:17:25, 22.66s/it]"
     ]
    },
    {
     "name": "stdout",
     "output_type": "stream",
     "text": [
      "[0]\n"
     ]
    },
    {
     "data": {
      "text/plain": [
       "Computing transition probabilities:   0%|          | 0/559 [00:00<?, ?it/s]"
      ],
      "application/vnd.jupyter.widget-view+json": {
       "version_major": 2,
       "version_minor": 0,
       "model_id": "ce5d9bf785f54124b150e8cf9a2be40f"
      }
     },
     "metadata": {},
     "output_type": "display_data"
    },
    {
     "name": "stderr",
     "output_type": "stream",
     "text": [
      "Generating walks (CPU: 1): 100%|██████████| 25/25 [00:01<00:00, 23.92it/s]\n",
      "Generating walks (CPU: 2): 100%|██████████| 25/25 [00:01<00:00, 24.16it/s]\n",
      "Generating walks (CPU: 3): 100%|██████████| 25/25 [00:01<00:00, 24.34it/s]\n",
      "Generating walks (CPU: 4): 100%|██████████| 25/25 [00:01<00:00, 24.23it/s]\n",
      " 15%|█▌        | 36/240 [14:22<1:21:39, 24.02s/it]"
     ]
    },
    {
     "name": "stdout",
     "output_type": "stream",
     "text": [
      "[0]\n"
     ]
    },
    {
     "data": {
      "text/plain": [
       "Computing transition probabilities:   0%|          | 0/559 [00:00<?, ?it/s]"
      ],
      "application/vnd.jupyter.widget-view+json": {
       "version_major": 2,
       "version_minor": 0,
       "model_id": "205d1ce50fe74ba2ba12b3398505a571"
      }
     },
     "metadata": {},
     "output_type": "display_data"
    },
    {
     "name": "stderr",
     "output_type": "stream",
     "text": [
      "Generating walks (CPU: 1): 100%|██████████| 25/25 [00:01<00:00, 18.22it/s]\n",
      "Generating walks (CPU: 2): 100%|██████████| 25/25 [00:01<00:00, 19.80it/s]\n",
      "Generating walks (CPU: 3): 100%|██████████| 25/25 [00:01<00:00, 18.75it/s]\n",
      "Generating walks (CPU: 4): 100%|██████████| 25/25 [00:01<00:00, 18.49it/s]\n",
      " 15%|█▌        | 37/240 [14:47<1:21:45, 24.17s/it]"
     ]
    },
    {
     "name": "stdout",
     "output_type": "stream",
     "text": [
      "[0]\n"
     ]
    },
    {
     "data": {
      "text/plain": [
       "Computing transition probabilities:   0%|          | 0/559 [00:00<?, ?it/s]"
      ],
      "application/vnd.jupyter.widget-view+json": {
       "version_major": 2,
       "version_minor": 0,
       "model_id": "ebca7be18d4e4fa4814a0e699a65dfc0"
      }
     },
     "metadata": {},
     "output_type": "display_data"
    },
    {
     "name": "stderr",
     "output_type": "stream",
     "text": [
      "Generating walks (CPU: 1): 100%|██████████| 25/25 [00:01<00:00, 23.89it/s]\n",
      "Generating walks (CPU: 2): 100%|██████████| 25/25 [00:01<00:00, 23.24it/s]\n",
      "Generating walks (CPU: 3): 100%|██████████| 25/25 [00:01<00:00, 22.99it/s]\n",
      "Generating walks (CPU: 4): 100%|██████████| 25/25 [00:01<00:00, 23.58it/s]\n",
      " 16%|█▌        | 38/240 [15:10<1:20:31, 23.92s/it]"
     ]
    },
    {
     "name": "stdout",
     "output_type": "stream",
     "text": [
      "[0]\n"
     ]
    },
    {
     "data": {
      "text/plain": [
       "Computing transition probabilities:   0%|          | 0/559 [00:00<?, ?it/s]"
      ],
      "application/vnd.jupyter.widget-view+json": {
       "version_major": 2,
       "version_minor": 0,
       "model_id": "c796eec0d84145229b77b25f894c9459"
      }
     },
     "metadata": {},
     "output_type": "display_data"
    },
    {
     "name": "stderr",
     "output_type": "stream",
     "text": [
      "Generating walks (CPU: 1): 100%|██████████| 25/25 [00:01<00:00, 24.03it/s]\n",
      "Generating walks (CPU: 2): 100%|██████████| 25/25 [00:01<00:00, 23.93it/s]\n",
      "Generating walks (CPU: 3): 100%|██████████| 25/25 [00:01<00:00, 23.93it/s]\n",
      "Generating walks (CPU: 4): 100%|██████████| 25/25 [00:01<00:00, 24.05it/s]\n",
      " 16%|█▋        | 39/240 [15:33<1:18:54, 23.55s/it]"
     ]
    },
    {
     "name": "stdout",
     "output_type": "stream",
     "text": [
      "[0]\n"
     ]
    },
    {
     "data": {
      "text/plain": [
       "Computing transition probabilities:   0%|          | 0/559 [00:00<?, ?it/s]"
      ],
      "application/vnd.jupyter.widget-view+json": {
       "version_major": 2,
       "version_minor": 0,
       "model_id": "fd9bd7781c3643db9ab281626722e1ee"
      }
     },
     "metadata": {},
     "output_type": "display_data"
    },
    {
     "name": "stderr",
     "output_type": "stream",
     "text": [
      "Generating walks (CPU: 1): 100%|██████████| 25/25 [00:01<00:00, 23.09it/s]\n",
      "Generating walks (CPU: 2): 100%|██████████| 25/25 [00:01<00:00, 17.61it/s]\n",
      "Generating walks (CPU: 3): 100%|██████████| 25/25 [00:02<00:00, 11.78it/s]\n",
      "Generating walks (CPU: 4): 100%|██████████| 25/25 [00:02<00:00, 10.69it/s]\n",
      " 17%|█▋        | 40/240 [16:00<1:21:58, 24.59s/it]"
     ]
    },
    {
     "name": "stdout",
     "output_type": "stream",
     "text": [
      "[0]\n"
     ]
    },
    {
     "data": {
      "text/plain": [
       "Computing transition probabilities:   0%|          | 0/559 [00:00<?, ?it/s]"
      ],
      "application/vnd.jupyter.widget-view+json": {
       "version_major": 2,
       "version_minor": 0,
       "model_id": "72325318b1a84978b88d38207edf8b45"
      }
     },
     "metadata": {},
     "output_type": "display_data"
    },
    {
     "name": "stderr",
     "output_type": "stream",
     "text": [
      "Generating walks (CPU: 1): 100%|██████████| 25/25 [00:01<00:00, 24.03it/s]\n",
      "Generating walks (CPU: 2): 100%|██████████| 25/25 [00:01<00:00, 24.12it/s]\n",
      "Generating walks (CPU: 3): 100%|██████████| 25/25 [00:01<00:00, 24.40it/s]\n",
      "Generating walks (CPU: 4): 100%|██████████| 25/25 [00:01<00:00, 24.40it/s]\n",
      " 17%|█▋        | 41/240 [16:22<1:19:10, 23.87s/it]"
     ]
    },
    {
     "name": "stdout",
     "output_type": "stream",
     "text": [
      "[0]\n"
     ]
    },
    {
     "data": {
      "text/plain": [
       "Computing transition probabilities:   0%|          | 0/559 [00:00<?, ?it/s]"
      ],
      "application/vnd.jupyter.widget-view+json": {
       "version_major": 2,
       "version_minor": 0,
       "model_id": "9e6c9ed05b0e49af9b07f00a94aed822"
      }
     },
     "metadata": {},
     "output_type": "display_data"
    },
    {
     "name": "stderr",
     "output_type": "stream",
     "text": [
      "Generating walks (CPU: 1): 100%|██████████| 25/25 [00:01<00:00, 23.98it/s]\n",
      "Generating walks (CPU: 2): 100%|██████████| 25/25 [00:01<00:00, 23.82it/s]\n",
      "Generating walks (CPU: 3): 100%|██████████| 25/25 [00:01<00:00, 23.94it/s]\n",
      "Generating walks (CPU: 4): 100%|██████████| 25/25 [00:01<00:00, 23.80it/s]\n",
      " 18%|█▊        | 42/240 [16:44<1:16:59, 23.33s/it]"
     ]
    },
    {
     "name": "stdout",
     "output_type": "stream",
     "text": [
      "[0]\n"
     ]
    },
    {
     "data": {
      "text/plain": [
       "Computing transition probabilities:   0%|          | 0/559 [00:00<?, ?it/s]"
      ],
      "application/vnd.jupyter.widget-view+json": {
       "version_major": 2,
       "version_minor": 0,
       "model_id": "78e754df90274fb28c669da05a7b8930"
      }
     },
     "metadata": {},
     "output_type": "display_data"
    },
    {
     "name": "stderr",
     "output_type": "stream",
     "text": [
      "Generating walks (CPU: 1): 100%|██████████| 25/25 [00:01<00:00, 23.67it/s]\n",
      "Generating walks (CPU: 2): 100%|██████████| 25/25 [00:01<00:00, 23.67it/s]\n",
      "Generating walks (CPU: 3): 100%|██████████| 25/25 [00:01<00:00, 23.98it/s]\n",
      "Generating walks (CPU: 4): 100%|██████████| 25/25 [00:01<00:00, 24.26it/s]\n",
      " 18%|█▊        | 43/240 [17:10<1:19:05, 24.09s/it]"
     ]
    },
    {
     "name": "stdout",
     "output_type": "stream",
     "text": [
      "[0]\n"
     ]
    },
    {
     "data": {
      "text/plain": [
       "Computing transition probabilities:   0%|          | 0/559 [00:00<?, ?it/s]"
      ],
      "application/vnd.jupyter.widget-view+json": {
       "version_major": 2,
       "version_minor": 0,
       "model_id": "a1ec8a607944405295fdb378911eef0c"
      }
     },
     "metadata": {},
     "output_type": "display_data"
    },
    {
     "name": "stderr",
     "output_type": "stream",
     "text": [
      "Generating walks (CPU: 1): 100%|██████████| 25/25 [00:01<00:00, 23.79it/s]\n",
      "Generating walks (CPU: 2): 100%|██████████| 25/25 [00:01<00:00, 24.06it/s]\n",
      "Generating walks (CPU: 3): 100%|██████████| 25/25 [00:01<00:00, 24.39it/s]\n",
      "Generating walks (CPU: 4): 100%|██████████| 25/25 [00:01<00:00, 24.78it/s]\n",
      " 18%|█▊        | 44/240 [17:33<1:17:36, 23.76s/it]"
     ]
    },
    {
     "name": "stdout",
     "output_type": "stream",
     "text": [
      "[0]\n"
     ]
    },
    {
     "data": {
      "text/plain": [
       "Computing transition probabilities:   0%|          | 0/559 [00:00<?, ?it/s]"
      ],
      "application/vnd.jupyter.widget-view+json": {
       "version_major": 2,
       "version_minor": 0,
       "model_id": "bfab23e42b1f4225860cbf25b7b7625f"
      }
     },
     "metadata": {},
     "output_type": "display_data"
    },
    {
     "name": "stderr",
     "output_type": "stream",
     "text": [
      "Generating walks (CPU: 1): 100%|██████████| 25/25 [00:01<00:00, 23.34it/s]\n",
      "Generating walks (CPU: 2): 100%|██████████| 25/25 [00:01<00:00, 23.19it/s]\n",
      "Generating walks (CPU: 3): 100%|██████████| 25/25 [00:01<00:00, 23.39it/s]\n",
      "Generating walks (CPU: 4): 100%|██████████| 25/25 [00:01<00:00, 24.29it/s]\n",
      " 19%|█▉        | 45/240 [17:56<1:16:40, 23.59s/it]"
     ]
    },
    {
     "name": "stdout",
     "output_type": "stream",
     "text": [
      "[0]\n"
     ]
    },
    {
     "data": {
      "text/plain": [
       "Computing transition probabilities:   0%|          | 0/559 [00:00<?, ?it/s]"
      ],
      "application/vnd.jupyter.widget-view+json": {
       "version_major": 2,
       "version_minor": 0,
       "model_id": "0181737164d541a8bf6e4ac42e52413a"
      }
     },
     "metadata": {},
     "output_type": "display_data"
    },
    {
     "name": "stderr",
     "output_type": "stream",
     "text": [
      "Generating walks (CPU: 1): 100%|██████████| 25/25 [00:01<00:00, 19.23it/s]\n",
      "Generating walks (CPU: 2): 100%|██████████| 25/25 [00:01<00:00, 17.74it/s]\n",
      "Generating walks (CPU: 3): 100%|██████████| 25/25 [00:01<00:00, 13.19it/s]\n",
      "Generating walks (CPU: 4): 100%|██████████| 25/25 [00:01<00:00, 14.14it/s]\n",
      " 19%|█▉        | 46/240 [18:19<1:15:41, 23.41s/it]"
     ]
    },
    {
     "name": "stdout",
     "output_type": "stream",
     "text": [
      "[0]\n"
     ]
    },
    {
     "data": {
      "text/plain": [
       "Computing transition probabilities:   0%|          | 0/559 [00:00<?, ?it/s]"
      ],
      "application/vnd.jupyter.widget-view+json": {
       "version_major": 2,
       "version_minor": 0,
       "model_id": "545013838cc14f028d7d1905c44ec433"
      }
     },
     "metadata": {},
     "output_type": "display_data"
    },
    {
     "name": "stderr",
     "output_type": "stream",
     "text": [
      "Generating walks (CPU: 1): 100%|██████████| 25/25 [00:01<00:00, 22.45it/s]\n",
      "Generating walks (CPU: 2): 100%|██████████| 25/25 [00:01<00:00, 22.63it/s]\n",
      "Generating walks (CPU: 3): 100%|██████████| 25/25 [00:01<00:00, 22.28it/s]\n",
      "Generating walks (CPU: 4): 100%|██████████| 25/25 [00:01<00:00, 22.66it/s]\n",
      " 20%|█▉        | 47/240 [18:43<1:15:58, 23.62s/it]"
     ]
    },
    {
     "name": "stdout",
     "output_type": "stream",
     "text": [
      "[0]\n"
     ]
    },
    {
     "data": {
      "text/plain": [
       "Computing transition probabilities:   0%|          | 0/559 [00:00<?, ?it/s]"
      ],
      "application/vnd.jupyter.widget-view+json": {
       "version_major": 2,
       "version_minor": 0,
       "model_id": "05d1cecf3c5e4623a70771f25addffeb"
      }
     },
     "metadata": {},
     "output_type": "display_data"
    },
    {
     "name": "stderr",
     "output_type": "stream",
     "text": [
      "Generating walks (CPU: 1): 100%|██████████| 25/25 [00:01<00:00, 24.88it/s]\n",
      "Generating walks (CPU: 2): 100%|██████████| 25/25 [00:01<00:00, 24.95it/s]\n",
      "Generating walks (CPU: 3): 100%|██████████| 25/25 [00:01<00:00, 24.87it/s]\n",
      "Generating walks (CPU: 4): 100%|██████████| 25/25 [00:00<00:00, 25.13it/s]\n",
      " 20%|██        | 48/240 [19:04<1:13:08, 22.86s/it]"
     ]
    },
    {
     "name": "stdout",
     "output_type": "stream",
     "text": [
      "[1]\n"
     ]
    },
    {
     "data": {
      "text/plain": [
       "Computing transition probabilities:   0%|          | 0/559 [00:00<?, ?it/s]"
      ],
      "application/vnd.jupyter.widget-view+json": {
       "version_major": 2,
       "version_minor": 0,
       "model_id": "22abb3cae1b7448aa4e436331d715632"
      }
     },
     "metadata": {},
     "output_type": "display_data"
    },
    {
     "name": "stderr",
     "output_type": "stream",
     "text": [
      "Generating walks (CPU: 1): 100%|██████████| 25/25 [00:01<00:00, 24.00it/s]\n",
      "Generating walks (CPU: 2): 100%|██████████| 25/25 [00:01<00:00, 23.69it/s]\n",
      "Generating walks (CPU: 3): 100%|██████████| 25/25 [00:01<00:00, 22.71it/s]\n",
      "Generating walks (CPU: 4): 100%|██████████| 25/25 [00:01<00:00, 23.16it/s]\n",
      " 20%|██        | 49/240 [19:29<1:14:19, 23.35s/it]"
     ]
    },
    {
     "name": "stdout",
     "output_type": "stream",
     "text": [
      "[0]\n"
     ]
    },
    {
     "data": {
      "text/plain": [
       "Computing transition probabilities:   0%|          | 0/559 [00:00<?, ?it/s]"
      ],
      "application/vnd.jupyter.widget-view+json": {
       "version_major": 2,
       "version_minor": 0,
       "model_id": "9a0e38f5edcd480382af97c3c1481464"
      }
     },
     "metadata": {},
     "output_type": "display_data"
    },
    {
     "name": "stderr",
     "output_type": "stream",
     "text": [
      "Generating walks (CPU: 1): 100%|██████████| 25/25 [00:01<00:00, 23.78it/s]\n",
      "Generating walks (CPU: 2): 100%|██████████| 25/25 [00:00<00:00, 25.16it/s]\n",
      "Generating walks (CPU: 3): 100%|██████████| 25/25 [00:00<00:00, 25.09it/s]\n",
      "Generating walks (CPU: 4): 100%|██████████| 25/25 [00:00<00:00, 25.18it/s]\n",
      " 21%|██        | 50/240 [19:51<1:12:36, 22.93s/it]"
     ]
    },
    {
     "name": "stdout",
     "output_type": "stream",
     "text": [
      "[0]\n"
     ]
    },
    {
     "data": {
      "text/plain": [
       "Computing transition probabilities:   0%|          | 0/559 [00:00<?, ?it/s]"
      ],
      "application/vnd.jupyter.widget-view+json": {
       "version_major": 2,
       "version_minor": 0,
       "model_id": "4f8531b5cb93496cab332048d653f8a5"
      }
     },
     "metadata": {},
     "output_type": "display_data"
    },
    {
     "name": "stderr",
     "output_type": "stream",
     "text": [
      "Generating walks (CPU: 1): 100%|██████████| 25/25 [00:00<00:00, 25.07it/s]\n",
      "Generating walks (CPU: 2): 100%|██████████| 25/25 [00:00<00:00, 25.22it/s]\n",
      "Generating walks (CPU: 3): 100%|██████████| 25/25 [00:00<00:00, 25.22it/s]\n",
      "Generating walks (CPU: 4): 100%|██████████| 25/25 [00:00<00:00, 25.36it/s]\n",
      " 21%|██▏       | 51/240 [20:12<1:10:45, 22.47s/it]"
     ]
    },
    {
     "name": "stdout",
     "output_type": "stream",
     "text": [
      "[0]\n"
     ]
    },
    {
     "data": {
      "text/plain": [
       "Computing transition probabilities:   0%|          | 0/559 [00:00<?, ?it/s]"
      ],
      "application/vnd.jupyter.widget-view+json": {
       "version_major": 2,
       "version_minor": 0,
       "model_id": "8dc6837fb6f240aa8dcc938e143904a3"
      }
     },
     "metadata": {},
     "output_type": "display_data"
    },
    {
     "name": "stderr",
     "output_type": "stream",
     "text": [
      "Generating walks (CPU: 1): 100%|██████████| 25/25 [00:00<00:00, 25.01it/s]\n",
      "Generating walks (CPU: 2): 100%|██████████| 25/25 [00:00<00:00, 25.08it/s]\n",
      "Generating walks (CPU: 3): 100%|██████████| 25/25 [00:01<00:00, 24.96it/s]\n",
      "Generating walks (CPU: 4): 100%|██████████| 25/25 [00:01<00:00, 24.79it/s]\n",
      " 22%|██▏       | 52/240 [20:33<1:08:38, 21.91s/it]"
     ]
    },
    {
     "name": "stdout",
     "output_type": "stream",
     "text": [
      "[0]\n"
     ]
    },
    {
     "data": {
      "text/plain": [
       "Computing transition probabilities:   0%|          | 0/559 [00:00<?, ?it/s]"
      ],
      "application/vnd.jupyter.widget-view+json": {
       "version_major": 2,
       "version_minor": 0,
       "model_id": "d073058fb7244f58b056aaa3ff1d66fa"
      }
     },
     "metadata": {},
     "output_type": "display_data"
    },
    {
     "name": "stderr",
     "output_type": "stream",
     "text": [
      "Generating walks (CPU: 1): 100%|██████████| 25/25 [00:01<00:00, 24.38it/s]\n",
      "Generating walks (CPU: 2): 100%|██████████| 25/25 [00:01<00:00, 24.35it/s]\n",
      "Generating walks (CPU: 3): 100%|██████████| 25/25 [00:01<00:00, 24.37it/s]\n",
      "Generating walks (CPU: 4): 100%|██████████| 25/25 [00:01<00:00, 24.59it/s]\n",
      " 22%|██▏       | 53/240 [20:53<1:06:41, 21.40s/it]"
     ]
    },
    {
     "name": "stdout",
     "output_type": "stream",
     "text": [
      "[0]\n"
     ]
    },
    {
     "data": {
      "text/plain": [
       "Computing transition probabilities:   0%|          | 0/559 [00:00<?, ?it/s]"
      ],
      "application/vnd.jupyter.widget-view+json": {
       "version_major": 2,
       "version_minor": 0,
       "model_id": "eff73c12ccc742d092723073fcc56197"
      }
     },
     "metadata": {},
     "output_type": "display_data"
    },
    {
     "name": "stderr",
     "output_type": "stream",
     "text": [
      "Generating walks (CPU: 1): 100%|██████████| 25/25 [00:01<00:00, 24.49it/s]\n",
      "Generating walks (CPU: 2): 100%|██████████| 25/25 [00:01<00:00, 24.40it/s]\n",
      "Generating walks (CPU: 3): 100%|██████████| 25/25 [00:00<00:00, 25.07it/s]\n",
      "Generating walks (CPU: 4): 100%|██████████| 25/25 [00:01<00:00, 24.45it/s]\n",
      " 22%|██▎       | 54/240 [21:14<1:06:06, 21.33s/it]"
     ]
    },
    {
     "name": "stdout",
     "output_type": "stream",
     "text": [
      "[0]\n"
     ]
    },
    {
     "data": {
      "text/plain": [
       "Computing transition probabilities:   0%|          | 0/559 [00:00<?, ?it/s]"
      ],
      "application/vnd.jupyter.widget-view+json": {
       "version_major": 2,
       "version_minor": 0,
       "model_id": "e23a1d363d6543c3b393b12793dd6c68"
      }
     },
     "metadata": {},
     "output_type": "display_data"
    },
    {
     "name": "stderr",
     "output_type": "stream",
     "text": [
      "Generating walks (CPU: 1): 100%|██████████| 25/25 [00:00<00:00, 25.13it/s]\n",
      "Generating walks (CPU: 2): 100%|██████████| 25/25 [00:00<00:00, 25.20it/s]\n",
      "Generating walks (CPU: 3): 100%|██████████| 25/25 [00:00<00:00, 25.26it/s]\n",
      "Generating walks (CPU: 4): 100%|██████████| 25/25 [00:00<00:00, 25.26it/s]\n",
      " 23%|██▎       | 55/240 [21:34<1:04:36, 20.95s/it]"
     ]
    },
    {
     "name": "stdout",
     "output_type": "stream",
     "text": [
      "[0]\n"
     ]
    },
    {
     "data": {
      "text/plain": [
       "Computing transition probabilities:   0%|          | 0/559 [00:00<?, ?it/s]"
      ],
      "application/vnd.jupyter.widget-view+json": {
       "version_major": 2,
       "version_minor": 0,
       "model_id": "75aaa05a1c51468d81c555691cdd4501"
      }
     },
     "metadata": {},
     "output_type": "display_data"
    },
    {
     "name": "stderr",
     "output_type": "stream",
     "text": [
      "Generating walks (CPU: 1): 100%|██████████| 25/25 [00:01<00:00, 24.82it/s]\n",
      "Generating walks (CPU: 2): 100%|██████████| 25/25 [00:01<00:00, 24.83it/s]\n",
      "Generating walks (CPU: 3): 100%|██████████| 25/25 [00:00<00:00, 25.16it/s]\n",
      "Generating walks (CPU: 4): 100%|██████████| 25/25 [00:00<00:00, 25.49it/s]\n",
      " 23%|██▎       | 56/240 [21:55<1:03:41, 20.77s/it]"
     ]
    },
    {
     "name": "stdout",
     "output_type": "stream",
     "text": [
      "[0]\n"
     ]
    },
    {
     "data": {
      "text/plain": [
       "Computing transition probabilities:   0%|          | 0/559 [00:00<?, ?it/s]"
      ],
      "application/vnd.jupyter.widget-view+json": {
       "version_major": 2,
       "version_minor": 0,
       "model_id": "6753f8c4997641a3b0eec2c430ff1bc0"
      }
     },
     "metadata": {},
     "output_type": "display_data"
    },
    {
     "name": "stderr",
     "output_type": "stream",
     "text": [
      "Generating walks (CPU: 1): 100%|██████████| 25/25 [00:01<00:00, 24.33it/s]\n",
      "Generating walks (CPU: 2): 100%|██████████| 25/25 [00:01<00:00, 24.68it/s]\n",
      "Generating walks (CPU: 3): 100%|██████████| 25/25 [00:01<00:00, 24.44it/s]\n",
      "Generating walks (CPU: 4): 100%|██████████| 25/25 [00:01<00:00, 25.00it/s]\n",
      " 24%|██▍       | 57/240 [22:14<1:02:18, 20.43s/it]"
     ]
    },
    {
     "name": "stdout",
     "output_type": "stream",
     "text": [
      "[0]\n"
     ]
    },
    {
     "data": {
      "text/plain": [
       "Computing transition probabilities:   0%|          | 0/559 [00:00<?, ?it/s]"
      ],
      "application/vnd.jupyter.widget-view+json": {
       "version_major": 2,
       "version_minor": 0,
       "model_id": "e1e109a6142f484f882bcbabd46eda54"
      }
     },
     "metadata": {},
     "output_type": "display_data"
    },
    {
     "name": "stderr",
     "output_type": "stream",
     "text": [
      "Generating walks (CPU: 1): 100%|██████████| 25/25 [00:00<00:00, 25.04it/s]\n",
      "Generating walks (CPU: 2): 100%|██████████| 25/25 [00:00<00:00, 25.22it/s]\n",
      "Generating walks (CPU: 3): 100%|██████████| 25/25 [00:00<00:00, 25.27it/s]\n",
      "Generating walks (CPU: 4): 100%|██████████| 25/25 [00:00<00:00, 25.52it/s]\n",
      " 24%|██▍       | 58/240 [22:34<1:01:02, 20.12s/it]"
     ]
    },
    {
     "name": "stdout",
     "output_type": "stream",
     "text": [
      "[0]\n"
     ]
    },
    {
     "data": {
      "text/plain": [
       "Computing transition probabilities:   0%|          | 0/559 [00:00<?, ?it/s]"
      ],
      "application/vnd.jupyter.widget-view+json": {
       "version_major": 2,
       "version_minor": 0,
       "model_id": "4a3dd89112084e4bb0ee0ecf0aff2f1a"
      }
     },
     "metadata": {},
     "output_type": "display_data"
    },
    {
     "name": "stderr",
     "output_type": "stream",
     "text": [
      "Generating walks (CPU: 1): 100%|██████████| 25/25 [00:00<00:00, 25.11it/s]\n",
      "Generating walks (CPU: 2): 100%|██████████| 25/25 [00:00<00:00, 25.08it/s]\n",
      "Generating walks (CPU: 3): 100%|██████████| 25/25 [00:00<00:00, 25.40it/s]\n",
      "Generating walks (CPU: 4): 100%|██████████| 25/25 [00:00<00:00, 25.51it/s]\n",
      " 25%|██▍       | 59/240 [22:52<59:26, 19.71s/it]  "
     ]
    },
    {
     "name": "stdout",
     "output_type": "stream",
     "text": [
      "[0]\n"
     ]
    },
    {
     "data": {
      "text/plain": [
       "Computing transition probabilities:   0%|          | 0/559 [00:00<?, ?it/s]"
      ],
      "application/vnd.jupyter.widget-view+json": {
       "version_major": 2,
       "version_minor": 0,
       "model_id": "33e7a2a8e39b4584ae6cd302a682f847"
      }
     },
     "metadata": {},
     "output_type": "display_data"
    },
    {
     "name": "stderr",
     "output_type": "stream",
     "text": [
      "Generating walks (CPU: 1): 100%|██████████| 25/25 [00:00<00:00, -149.49it/s]\n",
      "Generating walks (CPU: 2): 100%|██████████| 25/25 [00:00<00:00, -143.89it/s]\n",
      "Generating walks (CPU: 3): 100%|██████████| 25/25 [00:00<00:00, -149.04it/s]\n",
      "Generating walks (CPU: 4): 100%|██████████| 25/25 [00:01<00:00, 24.65it/s]\n",
      " 25%|██▌       | 60/240 [23:08<55:20, 18.45s/it]"
     ]
    },
    {
     "name": "stdout",
     "output_type": "stream",
     "text": [
      "[0]\n"
     ]
    },
    {
     "data": {
      "text/plain": [
       "Computing transition probabilities:   0%|          | 0/559 [00:00<?, ?it/s]"
      ],
      "application/vnd.jupyter.widget-view+json": {
       "version_major": 2,
       "version_minor": 0,
       "model_id": "cf001309735f4c06b751b09cbe848049"
      }
     },
     "metadata": {},
     "output_type": "display_data"
    },
    {
     "name": "stderr",
     "output_type": "stream",
     "text": [
      "Generating walks (CPU: 1): 100%|██████████| 25/25 [00:00<00:00, 25.26it/s]\n",
      "Generating walks (CPU: 2): 100%|██████████| 25/25 [00:00<00:00, 25.16it/s]\n",
      "Generating walks (CPU: 3): 100%|██████████| 25/25 [00:00<00:00, 25.30it/s]\n",
      "Generating walks (CPU: 4): 100%|██████████| 25/25 [00:00<00:00, 25.40it/s]\n",
      " 25%|██▌       | 61/240 [23:28<56:02, 18.78s/it]"
     ]
    },
    {
     "name": "stdout",
     "output_type": "stream",
     "text": [
      "[0]\n"
     ]
    },
    {
     "data": {
      "text/plain": [
       "Computing transition probabilities:   0%|          | 0/559 [00:00<?, ?it/s]"
      ],
      "application/vnd.jupyter.widget-view+json": {
       "version_major": 2,
       "version_minor": 0,
       "model_id": "446ca6bec3c44349a87bdb0b590aa34e"
      }
     },
     "metadata": {},
     "output_type": "display_data"
    },
    {
     "name": "stderr",
     "output_type": "stream",
     "text": [
      "Generating walks (CPU: 1): 100%|██████████| 25/25 [00:00<00:00, 25.07it/s]\n",
      "Generating walks (CPU: 2): 100%|██████████| 25/25 [00:00<00:00, 25.20it/s]\n",
      "Generating walks (CPU: 3): 100%|██████████| 25/25 [00:00<00:00, 25.25it/s]\n",
      "Generating walks (CPU: 4): 100%|██████████| 25/25 [00:00<00:00, 25.36it/s]\n",
      " 26%|██▌       | 62/240 [23:47<56:01, 18.88s/it]"
     ]
    },
    {
     "name": "stdout",
     "output_type": "stream",
     "text": [
      "[0]\n"
     ]
    },
    {
     "data": {
      "text/plain": [
       "Computing transition probabilities:   0%|          | 0/559 [00:00<?, ?it/s]"
      ],
      "application/vnd.jupyter.widget-view+json": {
       "version_major": 2,
       "version_minor": 0,
       "model_id": "9a6eb7c76c57421b94d49fb29ba3e999"
      }
     },
     "metadata": {},
     "output_type": "display_data"
    },
    {
     "name": "stderr",
     "output_type": "stream",
     "text": [
      "Generating walks (CPU: 1): 100%|██████████| 25/25 [00:00<00:00, 25.15it/s]\n",
      "Generating walks (CPU: 2): 100%|██████████| 25/25 [00:00<00:00, 25.30it/s]\n",
      "Generating walks (CPU: 3): 100%|██████████| 25/25 [00:00<00:00, 25.35it/s]\n",
      "Generating walks (CPU: 4): 100%|██████████| 25/25 [00:00<00:00, 25.50it/s]\n",
      " 26%|██▋       | 63/240 [24:07<56:39, 19.20s/it]"
     ]
    },
    {
     "name": "stdout",
     "output_type": "stream",
     "text": [
      "[0]\n"
     ]
    },
    {
     "data": {
      "text/plain": [
       "Computing transition probabilities:   0%|          | 0/559 [00:00<?, ?it/s]"
      ],
      "application/vnd.jupyter.widget-view+json": {
       "version_major": 2,
       "version_minor": 0,
       "model_id": "537d5dc3dabc4a6da4e3222ff0f9d0ef"
      }
     },
     "metadata": {},
     "output_type": "display_data"
    },
    {
     "name": "stderr",
     "output_type": "stream",
     "text": [
      "Generating walks (CPU: 1): 100%|██████████| 25/25 [00:00<00:00, 25.16it/s]\n",
      "Generating walks (CPU: 2): 100%|██████████| 25/25 [00:00<00:00, 25.31it/s]\n",
      "Generating walks (CPU: 3): 100%|██████████| 25/25 [00:00<00:00, 25.36it/s]\n",
      "Generating walks (CPU: 4): 100%|██████████| 25/25 [00:00<00:00, 25.52it/s]\n",
      " 27%|██▋       | 64/240 [24:25<55:50, 19.03s/it]"
     ]
    },
    {
     "name": "stdout",
     "output_type": "stream",
     "text": [
      "[1]\n"
     ]
    },
    {
     "data": {
      "text/plain": [
       "Computing transition probabilities:   0%|          | 0/559 [00:00<?, ?it/s]"
      ],
      "application/vnd.jupyter.widget-view+json": {
       "version_major": 2,
       "version_minor": 0,
       "model_id": "308b0d15787941d5a451b92c3c124472"
      }
     },
     "metadata": {},
     "output_type": "display_data"
    },
    {
     "name": "stderr",
     "output_type": "stream",
     "text": [
      "Generating walks (CPU: 1): 100%|██████████| 25/25 [00:01<00:00, 24.93it/s]\n",
      "Generating walks (CPU: 2): 100%|██████████| 25/25 [00:00<00:00, 25.07it/s]\n",
      "Generating walks (CPU: 3): 100%|██████████| 25/25 [00:00<00:00, 25.21it/s]\n",
      "Generating walks (CPU: 4): 100%|██████████| 25/25 [00:00<00:00, 25.22it/s]\n",
      " 27%|██▋       | 65/240 [24:45<56:04, 19.23s/it]"
     ]
    },
    {
     "name": "stdout",
     "output_type": "stream",
     "text": [
      "[0]\n"
     ]
    },
    {
     "data": {
      "text/plain": [
       "Computing transition probabilities:   0%|          | 0/559 [00:00<?, ?it/s]"
      ],
      "application/vnd.jupyter.widget-view+json": {
       "version_major": 2,
       "version_minor": 0,
       "model_id": "99fe527b8a0d49238a0b70b46e282494"
      }
     },
     "metadata": {},
     "output_type": "display_data"
    },
    {
     "name": "stderr",
     "output_type": "stream",
     "text": [
      "Generating walks (CPU: 1): 100%|██████████| 25/25 [00:00<00:00, 25.17it/s]\n",
      "Generating walks (CPU: 2): 100%|██████████| 25/25 [00:00<00:00, 25.23it/s]\n",
      "Generating walks (CPU: 3): 100%|██████████| 25/25 [00:00<00:00, 25.41it/s]\n",
      "Generating walks (CPU: 4): 100%|██████████| 25/25 [00:00<00:00, 25.72it/s]\n",
      " 28%|██▊       | 66/240 [25:06<56:56, 19.64s/it]"
     ]
    },
    {
     "name": "stdout",
     "output_type": "stream",
     "text": [
      "[0]\n"
     ]
    },
    {
     "data": {
      "text/plain": [
       "Computing transition probabilities:   0%|          | 0/559 [00:00<?, ?it/s]"
      ],
      "application/vnd.jupyter.widget-view+json": {
       "version_major": 2,
       "version_minor": 0,
       "model_id": "bc68bae4204f49f084dc86765af774c1"
      }
     },
     "metadata": {},
     "output_type": "display_data"
    },
    {
     "name": "stderr",
     "output_type": "stream",
     "text": [
      "Generating walks (CPU: 1): 100%|██████████| 25/25 [00:00<00:00, 25.20it/s]\n",
      "Generating walks (CPU: 2): 100%|██████████| 25/25 [00:00<00:00, 25.41it/s]\n",
      "Generating walks (CPU: 3): 100%|██████████| 25/25 [00:00<00:00, 25.38it/s]\n",
      "Generating walks (CPU: 4): 100%|██████████| 25/25 [00:00<00:00, 25.57it/s]\n",
      " 28%|██▊       | 67/240 [25:25<56:09, 19.48s/it]"
     ]
    },
    {
     "name": "stdout",
     "output_type": "stream",
     "text": [
      "[0]\n"
     ]
    },
    {
     "data": {
      "text/plain": [
       "Computing transition probabilities:   0%|          | 0/559 [00:00<?, ?it/s]"
      ],
      "application/vnd.jupyter.widget-view+json": {
       "version_major": 2,
       "version_minor": 0,
       "model_id": "57dd484cc20a4ddfbf9b7d8502d96dcd"
      }
     },
     "metadata": {},
     "output_type": "display_data"
    },
    {
     "name": "stderr",
     "output_type": "stream",
     "text": [
      "Generating walks (CPU: 1): 100%|██████████| 25/25 [00:01<00:00, 24.96it/s]\n",
      "Generating walks (CPU: 2): 100%|██████████| 25/25 [00:00<00:00, 25.34it/s]\n",
      "Generating walks (CPU: 3): 100%|██████████| 25/25 [00:00<00:00, 25.32it/s]\n",
      "Generating walks (CPU: 4): 100%|██████████| 25/25 [00:00<00:00, 25.49it/s]\n",
      " 28%|██▊       | 68/240 [25:44<55:49, 19.47s/it]"
     ]
    },
    {
     "name": "stdout",
     "output_type": "stream",
     "text": [
      "[0]\n"
     ]
    },
    {
     "data": {
      "text/plain": [
       "Computing transition probabilities:   0%|          | 0/559 [00:00<?, ?it/s]"
      ],
      "application/vnd.jupyter.widget-view+json": {
       "version_major": 2,
       "version_minor": 0,
       "model_id": "6984b759540144458a0b8e1a3ccee353"
      }
     },
     "metadata": {},
     "output_type": "display_data"
    },
    {
     "name": "stderr",
     "output_type": "stream",
     "text": [
      "Generating walks (CPU: 1): 100%|██████████| 25/25 [00:01<00:00, 24.96it/s]\n",
      "Generating walks (CPU: 2): 100%|██████████| 25/25 [00:00<00:00, 25.16it/s]\n",
      "Generating walks (CPU: 3): 100%|██████████| 25/25 [00:00<00:00, 25.40it/s]\n",
      "Generating walks (CPU: 4): 100%|██████████| 25/25 [00:00<00:00, 25.49it/s]\n",
      " 29%|██▉       | 69/240 [26:02<53:52, 18.90s/it]"
     ]
    },
    {
     "name": "stdout",
     "output_type": "stream",
     "text": [
      "[0]\n"
     ]
    },
    {
     "data": {
      "text/plain": [
       "Computing transition probabilities:   0%|          | 0/559 [00:00<?, ?it/s]"
      ],
      "application/vnd.jupyter.widget-view+json": {
       "version_major": 2,
       "version_minor": 0,
       "model_id": "2e55c60704db47d1a0939079b1a26596"
      }
     },
     "metadata": {},
     "output_type": "display_data"
    },
    {
     "name": "stderr",
     "output_type": "stream",
     "text": [
      "Generating walks (CPU: 1): 100%|██████████| 25/25 [00:01<00:00, 24.44it/s]\n",
      "Generating walks (CPU: 2): 100%|██████████| 25/25 [00:01<00:00, 24.73it/s]\n",
      "Generating walks (CPU: 3): 100%|██████████| 25/25 [00:01<00:00, 24.80it/s]\n",
      "Generating walks (CPU: 4): 100%|██████████| 25/25 [00:01<00:00, 24.70it/s]\n",
      " 29%|██▉       | 70/240 [26:21<53:52, 19.02s/it]"
     ]
    },
    {
     "name": "stdout",
     "output_type": "stream",
     "text": [
      "[0]\n"
     ]
    },
    {
     "data": {
      "text/plain": [
       "Computing transition probabilities:   0%|          | 0/559 [00:00<?, ?it/s]"
      ],
      "application/vnd.jupyter.widget-view+json": {
       "version_major": 2,
       "version_minor": 0,
       "model_id": "6bc737af12034e23bfc2372af9b441a8"
      }
     },
     "metadata": {},
     "output_type": "display_data"
    },
    {
     "name": "stderr",
     "output_type": "stream",
     "text": [
      "Generating walks (CPU: 1): 100%|██████████| 25/25 [00:00<00:00, 25.03it/s]\n",
      "Generating walks (CPU: 2): 100%|██████████| 25/25 [00:00<00:00, 25.29it/s]\n",
      "Generating walks (CPU: 3): 100%|██████████| 25/25 [00:00<00:00, 25.30it/s]\n",
      "Generating walks (CPU: 4): 100%|██████████| 25/25 [00:00<00:00, 25.54it/s]\n",
      " 30%|██▉       | 71/240 [26:40<53:47, 19.10s/it]"
     ]
    },
    {
     "name": "stdout",
     "output_type": "stream",
     "text": [
      "[1]\n"
     ]
    },
    {
     "data": {
      "text/plain": [
       "Computing transition probabilities:   0%|          | 0/559 [00:00<?, ?it/s]"
      ],
      "application/vnd.jupyter.widget-view+json": {
       "version_major": 2,
       "version_minor": 0,
       "model_id": "bbf9a69dc9cd4f748d18aa549e5cd38f"
      }
     },
     "metadata": {},
     "output_type": "display_data"
    },
    {
     "name": "stderr",
     "output_type": "stream",
     "text": [
      "Generating walks (CPU: 1): 100%|██████████| 25/25 [00:01<00:00, 24.91it/s]\n",
      "Generating walks (CPU: 2): 100%|██████████| 25/25 [00:00<00:00, 25.12it/s]\n",
      "Generating walks (CPU: 3): 100%|██████████| 25/25 [00:00<00:00, 25.20it/s]\n",
      "Generating walks (CPU: 4): 100%|██████████| 25/25 [00:00<00:00, 25.46it/s]\n",
      " 30%|███       | 72/240 [26:58<52:19, 18.69s/it]"
     ]
    },
    {
     "name": "stdout",
     "output_type": "stream",
     "text": [
      "[0]\n"
     ]
    },
    {
     "data": {
      "text/plain": [
       "Computing transition probabilities:   0%|          | 0/559 [00:00<?, ?it/s]"
      ],
      "application/vnd.jupyter.widget-view+json": {
       "version_major": 2,
       "version_minor": 0,
       "model_id": "c6f0d1cf833d47398e4126d1be29848f"
      }
     },
     "metadata": {},
     "output_type": "display_data"
    },
    {
     "name": "stderr",
     "output_type": "stream",
     "text": [
      "Generating walks (CPU: 1): 100%|██████████| 25/25 [00:00<00:00, 25.03it/s]\n",
      "Generating walks (CPU: 2): 100%|██████████| 25/25 [00:00<00:00, 25.18it/s]\n",
      "Generating walks (CPU: 3): 100%|██████████| 25/25 [00:00<00:00, 25.09it/s]\n",
      "Generating walks (CPU: 4): 100%|██████████| 25/25 [00:00<00:00, 25.25it/s]\n",
      " 30%|███       | 73/240 [27:17<52:26, 18.84s/it]"
     ]
    },
    {
     "name": "stdout",
     "output_type": "stream",
     "text": [
      "[0]\n"
     ]
    },
    {
     "data": {
      "text/plain": [
       "Computing transition probabilities:   0%|          | 0/559 [00:00<?, ?it/s]"
      ],
      "application/vnd.jupyter.widget-view+json": {
       "version_major": 2,
       "version_minor": 0,
       "model_id": "ca55a1d60ad74688b19705b0ac669507"
      }
     },
     "metadata": {},
     "output_type": "display_data"
    },
    {
     "name": "stderr",
     "output_type": "stream",
     "text": [
      "Generating walks (CPU: 1): 100%|██████████| 25/25 [00:00<00:00, 25.05it/s]\n",
      "Generating walks (CPU: 2): 100%|██████████| 25/25 [00:00<00:00, 25.25it/s]\n",
      "Generating walks (CPU: 3): 100%|██████████| 25/25 [00:00<00:00, 25.45it/s]\n",
      "Generating walks (CPU: 4): 100%|██████████| 25/25 [00:00<00:00, 25.49it/s]\n",
      " 31%|███       | 74/240 [27:36<52:30, 18.98s/it]"
     ]
    },
    {
     "name": "stdout",
     "output_type": "stream",
     "text": [
      "[0]\n"
     ]
    },
    {
     "data": {
      "text/plain": [
       "Computing transition probabilities:   0%|          | 0/559 [00:00<?, ?it/s]"
      ],
      "application/vnd.jupyter.widget-view+json": {
       "version_major": 2,
       "version_minor": 0,
       "model_id": "828d2d2b09fd4e218ea560897c5e74ce"
      }
     },
     "metadata": {},
     "output_type": "display_data"
    },
    {
     "name": "stderr",
     "output_type": "stream",
     "text": [
      "Generating walks (CPU: 1): 100%|██████████| 25/25 [00:00<00:00, 25.24it/s]\n",
      "Generating walks (CPU: 2): 100%|██████████| 25/25 [00:00<00:00, 25.23it/s]\n",
      "Generating walks (CPU: 3): 100%|██████████| 25/25 [00:00<00:00, 25.37it/s]\n",
      "Generating walks (CPU: 4): 100%|██████████| 25/25 [00:00<00:00, 25.51it/s]\n",
      " 31%|███▏      | 75/240 [27:56<52:58, 19.26s/it]"
     ]
    },
    {
     "name": "stdout",
     "output_type": "stream",
     "text": [
      "[0]\n"
     ]
    },
    {
     "data": {
      "text/plain": [
       "Computing transition probabilities:   0%|          | 0/559 [00:00<?, ?it/s]"
      ],
      "application/vnd.jupyter.widget-view+json": {
       "version_major": 2,
       "version_minor": 0,
       "model_id": "704aed4e1bb74761a24ae57bd68765d3"
      }
     },
     "metadata": {},
     "output_type": "display_data"
    },
    {
     "name": "stderr",
     "output_type": "stream",
     "text": [
      "Generating walks (CPU: 1): 100%|██████████| 25/25 [00:01<00:00, 24.66it/s]\n",
      "Generating walks (CPU: 2): 100%|██████████| 25/25 [00:01<00:00, 24.67it/s]\n",
      "Generating walks (CPU: 3): 100%|██████████| 25/25 [00:01<00:00, 24.76it/s]\n",
      "Generating walks (CPU: 4): 100%|██████████| 25/25 [00:01<00:00, 24.72it/s]\n",
      " 32%|███▏      | 76/240 [28:16<52:37, 19.25s/it]"
     ]
    },
    {
     "name": "stdout",
     "output_type": "stream",
     "text": [
      "[0]\n"
     ]
    },
    {
     "data": {
      "text/plain": [
       "Computing transition probabilities:   0%|          | 0/559 [00:00<?, ?it/s]"
      ],
      "application/vnd.jupyter.widget-view+json": {
       "version_major": 2,
       "version_minor": 0,
       "model_id": "b1d3c3bed6c94e38944eef5b176352d0"
      }
     },
     "metadata": {},
     "output_type": "display_data"
    },
    {
     "name": "stderr",
     "output_type": "stream",
     "text": [
      "Generating walks (CPU: 1): 100%|██████████| 25/25 [00:00<00:00, 25.17it/s]\n",
      "Generating walks (CPU: 2): 100%|██████████| 25/25 [00:00<00:00, 25.33it/s]\n",
      "Generating walks (CPU: 3): 100%|██████████| 25/25 [00:01<00:00, 24.80it/s]\n",
      "Generating walks (CPU: 4): 100%|██████████| 25/25 [00:00<00:00, 25.36it/s]\n",
      " 32%|███▏      | 77/240 [28:36<53:08, 19.56s/it]"
     ]
    },
    {
     "name": "stdout",
     "output_type": "stream",
     "text": [
      "[0]\n"
     ]
    },
    {
     "data": {
      "text/plain": [
       "Computing transition probabilities:   0%|          | 0/559 [00:00<?, ?it/s]"
      ],
      "application/vnd.jupyter.widget-view+json": {
       "version_major": 2,
       "version_minor": 0,
       "model_id": "ac93b410dbc4459bb6129e7a723104dc"
      }
     },
     "metadata": {},
     "output_type": "display_data"
    },
    {
     "name": "stderr",
     "output_type": "stream",
     "text": [
      "Generating walks (CPU: 1): 100%|██████████| 25/25 [00:00<00:00, 25.23it/s]\n",
      "Generating walks (CPU: 2): 100%|██████████| 25/25 [00:01<00:00, 24.98it/s]\n",
      "Generating walks (CPU: 3): 100%|██████████| 25/25 [00:00<00:00, 25.37it/s]\n",
      "Generating walks (CPU: 4): 100%|██████████| 25/25 [00:00<00:00, 25.41it/s]\n",
      " 32%|███▎      | 78/240 [28:56<53:01, 19.64s/it]"
     ]
    },
    {
     "name": "stdout",
     "output_type": "stream",
     "text": [
      "[0]\n"
     ]
    },
    {
     "data": {
      "text/plain": [
       "Computing transition probabilities:   0%|          | 0/559 [00:00<?, ?it/s]"
      ],
      "application/vnd.jupyter.widget-view+json": {
       "version_major": 2,
       "version_minor": 0,
       "model_id": "6955593ae0af4298b605afa50f5d31ba"
      }
     },
     "metadata": {},
     "output_type": "display_data"
    },
    {
     "name": "stderr",
     "output_type": "stream",
     "text": [
      "Generating walks (CPU: 1): 100%|██████████| 25/25 [00:00<00:00, 25.16it/s]\n",
      "Generating walks (CPU: 2): 100%|██████████| 25/25 [00:00<00:00, 25.24it/s]\n",
      "Generating walks (CPU: 3): 100%|██████████| 25/25 [00:00<00:00, 25.28it/s]\n",
      "Generating walks (CPU: 4): 100%|██████████| 25/25 [00:00<00:00, 25.31it/s]\n",
      " 33%|███▎      | 79/240 [29:15<52:07, 19.43s/it]"
     ]
    },
    {
     "name": "stdout",
     "output_type": "stream",
     "text": [
      "[0]\n"
     ]
    },
    {
     "data": {
      "text/plain": [
       "Computing transition probabilities:   0%|          | 0/559 [00:00<?, ?it/s]"
      ],
      "application/vnd.jupyter.widget-view+json": {
       "version_major": 2,
       "version_minor": 0,
       "model_id": "34c449a7bfed4d719067ea532d220125"
      }
     },
     "metadata": {},
     "output_type": "display_data"
    },
    {
     "name": "stderr",
     "output_type": "stream",
     "text": [
      "Generating walks (CPU: 1): 100%|██████████| 25/25 [00:00<00:00, 25.11it/s]\n",
      "Generating walks (CPU: 2): 100%|██████████| 25/25 [00:00<00:00, 25.36it/s]\n",
      "Generating walks (CPU: 3): 100%|██████████| 25/25 [00:00<00:00, 25.34it/s]\n",
      "Generating walks (CPU: 4): 100%|██████████| 25/25 [00:00<00:00, 25.51it/s]\n",
      " 33%|███▎      | 80/240 [29:34<52:06, 19.54s/it]"
     ]
    },
    {
     "name": "stdout",
     "output_type": "stream",
     "text": [
      "[0]\n"
     ]
    },
    {
     "data": {
      "text/plain": [
       "Computing transition probabilities:   0%|          | 0/559 [00:00<?, ?it/s]"
      ],
      "application/vnd.jupyter.widget-view+json": {
       "version_major": 2,
       "version_minor": 0,
       "model_id": "4910ddfcc2a54fe49113ae31ab81eef8"
      }
     },
     "metadata": {},
     "output_type": "display_data"
    },
    {
     "name": "stderr",
     "output_type": "stream",
     "text": [
      "Generating walks (CPU: 1): 100%|██████████| 25/25 [00:00<00:00, 25.15it/s]\n",
      "Generating walks (CPU: 2): 100%|██████████| 25/25 [00:00<00:00, 25.37it/s]\n",
      "Generating walks (CPU: 3): 100%|██████████| 25/25 [00:00<00:00, 25.50it/s]\n",
      "Generating walks (CPU: 4): 100%|██████████| 25/25 [00:00<00:00, 25.47it/s]\n",
      " 34%|███▍      | 81/240 [29:54<51:40, 19.50s/it]"
     ]
    },
    {
     "name": "stdout",
     "output_type": "stream",
     "text": [
      "[1]\n"
     ]
    },
    {
     "data": {
      "text/plain": [
       "Computing transition probabilities:   0%|          | 0/559 [00:00<?, ?it/s]"
      ],
      "application/vnd.jupyter.widget-view+json": {
       "version_major": 2,
       "version_minor": 0,
       "model_id": "ea7396406ecc48229ae6bd72ed4dce03"
      }
     },
     "metadata": {},
     "output_type": "display_data"
    },
    {
     "name": "stderr",
     "output_type": "stream",
     "text": [
      "Generating walks (CPU: 1): 100%|██████████| 25/25 [00:00<00:00, 25.05it/s]\n",
      "Generating walks (CPU: 2): 100%|██████████| 25/25 [00:00<00:00, 25.18it/s]\n",
      "Generating walks (CPU: 3): 100%|██████████| 25/25 [00:00<00:00, 25.29it/s]\n",
      "Generating walks (CPU: 4): 100%|██████████| 25/25 [00:00<00:00, 25.39it/s]\n",
      " 34%|███▍      | 82/240 [30:12<50:04, 19.02s/it]"
     ]
    },
    {
     "name": "stdout",
     "output_type": "stream",
     "text": [
      "[0]\n"
     ]
    },
    {
     "data": {
      "text/plain": [
       "Computing transition probabilities:   0%|          | 0/559 [00:00<?, ?it/s]"
      ],
      "application/vnd.jupyter.widget-view+json": {
       "version_major": 2,
       "version_minor": 0,
       "model_id": "cbbb23defb0e416ab8234f2dab077a9d"
      }
     },
     "metadata": {},
     "output_type": "display_data"
    },
    {
     "name": "stderr",
     "output_type": "stream",
     "text": [
      "Generating walks (CPU: 1): 100%|██████████| 25/25 [00:00<00:00, 25.15it/s]\n",
      "Generating walks (CPU: 2): 100%|██████████| 25/25 [00:00<00:00, 25.15it/s]\n",
      "Generating walks (CPU: 3): 100%|██████████| 25/25 [00:00<00:00, 25.36it/s]\n",
      "Generating walks (CPU: 4): 100%|██████████| 25/25 [00:00<00:00, 25.46it/s]\n",
      " 35%|███▍      | 83/240 [30:31<49:44, 19.01s/it]"
     ]
    },
    {
     "name": "stdout",
     "output_type": "stream",
     "text": [
      "[0]\n"
     ]
    },
    {
     "data": {
      "text/plain": [
       "Computing transition probabilities:   0%|          | 0/559 [00:00<?, ?it/s]"
      ],
      "application/vnd.jupyter.widget-view+json": {
       "version_major": 2,
       "version_minor": 0,
       "model_id": "a66ab19edff24082906e45bb4e780210"
      }
     },
     "metadata": {},
     "output_type": "display_data"
    },
    {
     "name": "stderr",
     "output_type": "stream",
     "text": [
      "Generating walks (CPU: 1): 100%|██████████| 25/25 [00:00<00:00, 25.23it/s]\n",
      "Generating walks (CPU: 2): 100%|██████████| 25/25 [00:00<00:00, 25.29it/s]\n",
      "Generating walks (CPU: 3): 100%|██████████| 25/25 [00:00<00:00, 25.42it/s]\n",
      "Generating walks (CPU: 4): 100%|██████████| 25/25 [00:00<00:00, 25.63it/s]\n",
      " 35%|███▌      | 84/240 [30:50<49:38, 19.09s/it]"
     ]
    },
    {
     "name": "stdout",
     "output_type": "stream",
     "text": [
      "[0]\n"
     ]
    },
    {
     "data": {
      "text/plain": [
       "Computing transition probabilities:   0%|          | 0/559 [00:00<?, ?it/s]"
      ],
      "application/vnd.jupyter.widget-view+json": {
       "version_major": 2,
       "version_minor": 0,
       "model_id": "f685737ea54342e7a58d1c953df03e38"
      }
     },
     "metadata": {},
     "output_type": "display_data"
    },
    {
     "name": "stderr",
     "output_type": "stream",
     "text": [
      "Generating walks (CPU: 1): 100%|██████████| 25/25 [00:00<00:00, 25.08it/s]\n",
      "Generating walks (CPU: 2): 100%|██████████| 25/25 [00:00<00:00, 25.20it/s]\n",
      "Generating walks (CPU: 3): 100%|██████████| 25/25 [00:00<00:00, 25.31it/s]\n",
      "Generating walks (CPU: 4): 100%|██████████| 25/25 [00:00<00:00, 25.16it/s]\n",
      " 35%|███▌      | 85/240 [31:09<48:54, 18.93s/it]"
     ]
    },
    {
     "name": "stdout",
     "output_type": "stream",
     "text": [
      "[0]\n"
     ]
    },
    {
     "data": {
      "text/plain": [
       "Computing transition probabilities:   0%|          | 0/559 [00:00<?, ?it/s]"
      ],
      "application/vnd.jupyter.widget-view+json": {
       "version_major": 2,
       "version_minor": 0,
       "model_id": "5555af1262454c458bbca2f52b640e50"
      }
     },
     "metadata": {},
     "output_type": "display_data"
    },
    {
     "name": "stderr",
     "output_type": "stream",
     "text": [
      "Generating walks (CPU: 1): 100%|██████████| 25/25 [00:01<00:00, 24.78it/s]\n",
      "Generating walks (CPU: 2): 100%|██████████| 25/25 [00:01<00:00, 23.94it/s]\n",
      "Generating walks (CPU: 3): 100%|██████████| 25/25 [00:01<00:00, 24.07it/s]\n",
      "Generating walks (CPU: 4): 100%|██████████| 25/25 [00:01<00:00, 24.03it/s]\n",
      " 36%|███▌      | 86/240 [31:28<49:08, 19.15s/it]"
     ]
    },
    {
     "name": "stdout",
     "output_type": "stream",
     "text": [
      "[0]\n"
     ]
    },
    {
     "data": {
      "text/plain": [
       "Computing transition probabilities:   0%|          | 0/559 [00:00<?, ?it/s]"
      ],
      "application/vnd.jupyter.widget-view+json": {
       "version_major": 2,
       "version_minor": 0,
       "model_id": "20af5ba9c57a4c43945e589228de00e4"
      }
     },
     "metadata": {},
     "output_type": "display_data"
    },
    {
     "name": "stderr",
     "output_type": "stream",
     "text": [
      "Generating walks (CPU: 1): 100%|██████████| 25/25 [00:00<00:00, 25.09it/s]\n",
      "Generating walks (CPU: 2): 100%|██████████| 25/25 [00:00<00:00, 25.11it/s]\n",
      "Generating walks (CPU: 3): 100%|██████████| 25/25 [00:00<00:00, 25.17it/s]\n",
      "Generating walks (CPU: 4): 100%|██████████| 25/25 [00:00<00:00, 25.30it/s]\n",
      " 36%|███▋      | 87/240 [31:48<49:16, 19.33s/it]"
     ]
    },
    {
     "name": "stdout",
     "output_type": "stream",
     "text": [
      "[0]\n"
     ]
    },
    {
     "data": {
      "text/plain": [
       "Computing transition probabilities:   0%|          | 0/559 [00:00<?, ?it/s]"
      ],
      "application/vnd.jupyter.widget-view+json": {
       "version_major": 2,
       "version_minor": 0,
       "model_id": "42eebebcdc484504ae1711450b808f85"
      }
     },
     "metadata": {},
     "output_type": "display_data"
    },
    {
     "name": "stderr",
     "output_type": "stream",
     "text": [
      "Generating walks (CPU: 1): 100%|██████████| 25/25 [00:00<00:00, 25.09it/s]\n",
      "Generating walks (CPU: 2): 100%|██████████| 25/25 [00:00<00:00, 25.04it/s]\n",
      "Generating walks (CPU: 3): 100%|██████████| 25/25 [00:00<00:00, 25.08it/s]\n",
      "Generating walks (CPU: 4): 100%|██████████| 25/25 [00:00<00:00, 25.31it/s]\n",
      " 37%|███▋      | 88/240 [32:08<49:36, 19.58s/it]"
     ]
    },
    {
     "name": "stdout",
     "output_type": "stream",
     "text": [
      "[0]\n"
     ]
    },
    {
     "data": {
      "text/plain": [
       "Computing transition probabilities:   0%|          | 0/559 [00:00<?, ?it/s]"
      ],
      "application/vnd.jupyter.widget-view+json": {
       "version_major": 2,
       "version_minor": 0,
       "model_id": "b75eb3a5010842d9a3225054bc321fec"
      }
     },
     "metadata": {},
     "output_type": "display_data"
    },
    {
     "name": "stderr",
     "output_type": "stream",
     "text": [
      "Generating walks (CPU: 1): 100%|██████████| 25/25 [00:00<00:00, 25.19it/s]\n",
      "Generating walks (CPU: 2): 100%|██████████| 25/25 [00:00<00:00, 25.24it/s]\n",
      "Generating walks (CPU: 3): 100%|██████████| 25/25 [00:00<00:00, 25.38it/s]\n",
      "Generating walks (CPU: 4): 100%|██████████| 25/25 [00:00<00:00, 25.41it/s]\n",
      " 37%|███▋      | 89/240 [32:28<49:11, 19.55s/it]"
     ]
    },
    {
     "name": "stdout",
     "output_type": "stream",
     "text": [
      "[0]\n"
     ]
    },
    {
     "data": {
      "text/plain": [
       "Computing transition probabilities:   0%|          | 0/559 [00:00<?, ?it/s]"
      ],
      "application/vnd.jupyter.widget-view+json": {
       "version_major": 2,
       "version_minor": 0,
       "model_id": "4c4bf82988bf4d74824cb19583bca365"
      }
     },
     "metadata": {},
     "output_type": "display_data"
    },
    {
     "name": "stderr",
     "output_type": "stream",
     "text": [
      "Generating walks (CPU: 1): 100%|██████████| 25/25 [00:00<00:00, 25.14it/s]\n",
      "Generating walks (CPU: 2): 100%|██████████| 25/25 [00:00<00:00, 25.20it/s]\n",
      "Generating walks (CPU: 3): 100%|██████████| 25/25 [00:00<00:00, 25.23it/s]\n",
      "Generating walks (CPU: 4): 100%|██████████| 25/25 [00:00<00:00, 25.49it/s]\n",
      " 38%|███▊      | 90/240 [32:47<48:22, 19.35s/it]"
     ]
    },
    {
     "name": "stdout",
     "output_type": "stream",
     "text": [
      "[0]\n"
     ]
    },
    {
     "data": {
      "text/plain": [
       "Computing transition probabilities:   0%|          | 0/559 [00:00<?, ?it/s]"
      ],
      "application/vnd.jupyter.widget-view+json": {
       "version_major": 2,
       "version_minor": 0,
       "model_id": "404c2970bcdf4a0980bb3f7249afa0cb"
      }
     },
     "metadata": {},
     "output_type": "display_data"
    },
    {
     "name": "stderr",
     "output_type": "stream",
     "text": [
      "Generating walks (CPU: 1): 100%|██████████| 25/25 [00:00<00:00, 25.11it/s]\n",
      "Generating walks (CPU: 2): 100%|██████████| 25/25 [00:00<00:00, 25.16it/s]\n",
      "Generating walks (CPU: 3): 100%|██████████| 25/25 [00:00<00:00, 25.36it/s]\n",
      "Generating walks (CPU: 4): 100%|██████████| 25/25 [00:00<00:00, 25.56it/s]\n",
      " 38%|███▊      | 91/240 [33:06<48:03, 19.35s/it]"
     ]
    },
    {
     "name": "stdout",
     "output_type": "stream",
     "text": [
      "[0]\n"
     ]
    },
    {
     "data": {
      "text/plain": [
       "Computing transition probabilities:   0%|          | 0/559 [00:00<?, ?it/s]"
      ],
      "application/vnd.jupyter.widget-view+json": {
       "version_major": 2,
       "version_minor": 0,
       "model_id": "46f34c9239bb422580a72114813cbfcd"
      }
     },
     "metadata": {},
     "output_type": "display_data"
    },
    {
     "name": "stderr",
     "output_type": "stream",
     "text": [
      "Generating walks (CPU: 1): 100%|██████████| 25/25 [00:00<00:00, 25.13it/s]\n",
      "Generating walks (CPU: 2): 100%|██████████| 25/25 [00:00<00:00, 25.24it/s]\n",
      "Generating walks (CPU: 3): 100%|██████████| 25/25 [00:00<00:00, 25.36it/s]\n",
      "Generating walks (CPU: 4): 100%|██████████| 25/25 [00:00<00:00, 25.45it/s]\n",
      " 38%|███▊      | 92/240 [33:26<48:07, 19.51s/it]"
     ]
    },
    {
     "name": "stdout",
     "output_type": "stream",
     "text": [
      "[0]\n"
     ]
    },
    {
     "data": {
      "text/plain": [
       "Computing transition probabilities:   0%|          | 0/559 [00:00<?, ?it/s]"
      ],
      "application/vnd.jupyter.widget-view+json": {
       "version_major": 2,
       "version_minor": 0,
       "model_id": "ba54e6dbe9b8444a9affc3bd182ed15b"
      }
     },
     "metadata": {},
     "output_type": "display_data"
    },
    {
     "name": "stderr",
     "output_type": "stream",
     "text": [
      "Generating walks (CPU: 1): 100%|██████████| 25/25 [00:01<00:00, 24.55it/s]\n",
      "Generating walks (CPU: 2): 100%|██████████| 25/25 [00:01<00:00, 24.70it/s]\n",
      "Generating walks (CPU: 3): 100%|██████████| 25/25 [00:01<00:00, 24.69it/s]\n",
      "Generating walks (CPU: 4): 100%|██████████| 25/25 [00:01<00:00, 24.83it/s]\n",
      " 39%|███▉      | 93/240 [33:46<48:18, 19.72s/it]"
     ]
    },
    {
     "name": "stdout",
     "output_type": "stream",
     "text": [
      "[0]\n"
     ]
    },
    {
     "data": {
      "text/plain": [
       "Computing transition probabilities:   0%|          | 0/559 [00:00<?, ?it/s]"
      ],
      "application/vnd.jupyter.widget-view+json": {
       "version_major": 2,
       "version_minor": 0,
       "model_id": "0335415050724e8ab3ceecd0e864169a"
      }
     },
     "metadata": {},
     "output_type": "display_data"
    },
    {
     "name": "stderr",
     "output_type": "stream",
     "text": [
      "Generating walks (CPU: 1): 100%|██████████| 25/25 [00:01<00:00, 24.98it/s]\n",
      "Generating walks (CPU: 2): 100%|██████████| 25/25 [00:01<00:00, 24.87it/s]\n",
      "Generating walks (CPU: 3): 100%|██████████| 25/25 [00:00<00:00, 25.09it/s]\n",
      "Generating walks (CPU: 4): 100%|██████████| 25/25 [00:00<00:00, 25.20it/s]\n",
      " 39%|███▉      | 94/240 [34:05<47:13, 19.41s/it]"
     ]
    },
    {
     "name": "stdout",
     "output_type": "stream",
     "text": [
      "[0]\n"
     ]
    },
    {
     "data": {
      "text/plain": [
       "Computing transition probabilities:   0%|          | 0/559 [00:00<?, ?it/s]"
      ],
      "application/vnd.jupyter.widget-view+json": {
       "version_major": 2,
       "version_minor": 0,
       "model_id": "edd4a55de0c04c3c8505df684c78f9e3"
      }
     },
     "metadata": {},
     "output_type": "display_data"
    },
    {
     "name": "stderr",
     "output_type": "stream",
     "text": [
      "Generating walks (CPU: 1): 100%|██████████| 25/25 [00:00<00:00, 25.11it/s]\n",
      "Generating walks (CPU: 2): 100%|██████████| 25/25 [00:01<00:00, 24.93it/s]\n",
      "Generating walks (CPU: 3): 100%|██████████| 25/25 [00:01<00:00, 24.95it/s]\n",
      "Generating walks (CPU: 4): 100%|██████████| 25/25 [00:00<00:00, 25.21it/s]\n",
      " 40%|███▉      | 95/240 [34:24<46:40, 19.32s/it]"
     ]
    },
    {
     "name": "stdout",
     "output_type": "stream",
     "text": [
      "[0]\n"
     ]
    },
    {
     "data": {
      "text/plain": [
       "Computing transition probabilities:   0%|          | 0/559 [00:00<?, ?it/s]"
      ],
      "application/vnd.jupyter.widget-view+json": {
       "version_major": 2,
       "version_minor": 0,
       "model_id": "44cced7dca834196b33da38e85a0802f"
      }
     },
     "metadata": {},
     "output_type": "display_data"
    },
    {
     "name": "stderr",
     "output_type": "stream",
     "text": [
      "Generating walks (CPU: 1): 100%|██████████| 25/25 [00:00<00:00, 25.27it/s]\n",
      "Generating walks (CPU: 2): 100%|██████████| 25/25 [00:00<00:00, 25.18it/s]\n",
      "Generating walks (CPU: 3): 100%|██████████| 25/25 [00:00<00:00, 25.31it/s]\n",
      "Generating walks (CPU: 4): 100%|██████████| 25/25 [00:00<00:00, 25.40it/s]\n",
      " 40%|████      | 96/240 [34:42<45:21, 18.90s/it]"
     ]
    },
    {
     "name": "stdout",
     "output_type": "stream",
     "text": [
      "[0]\n"
     ]
    },
    {
     "data": {
      "text/plain": [
       "Computing transition probabilities:   0%|          | 0/559 [00:00<?, ?it/s]"
      ],
      "application/vnd.jupyter.widget-view+json": {
       "version_major": 2,
       "version_minor": 0,
       "model_id": "68417ae4024b47bf890331ceca557f62"
      }
     },
     "metadata": {},
     "output_type": "display_data"
    },
    {
     "name": "stderr",
     "output_type": "stream",
     "text": [
      "Generating walks (CPU: 1): 100%|██████████| 25/25 [00:01<00:00, 24.94it/s]\n",
      "Generating walks (CPU: 2): 100%|██████████| 25/25 [00:00<00:00, 25.23it/s]\n",
      "Generating walks (CPU: 3): 100%|██████████| 25/25 [00:00<00:00, 25.34it/s]\n",
      "Generating walks (CPU: 4): 100%|██████████| 25/25 [00:00<00:00, 25.55it/s]\n",
      " 40%|████      | 97/240 [35:00<44:51, 18.83s/it]"
     ]
    },
    {
     "name": "stdout",
     "output_type": "stream",
     "text": [
      "[0]\n"
     ]
    },
    {
     "data": {
      "text/plain": [
       "Computing transition probabilities:   0%|          | 0/559 [00:00<?, ?it/s]"
      ],
      "application/vnd.jupyter.widget-view+json": {
       "version_major": 2,
       "version_minor": 0,
       "model_id": "fa3a99e82a6a47ae9d79bf79a04bbad9"
      }
     },
     "metadata": {},
     "output_type": "display_data"
    },
    {
     "name": "stderr",
     "output_type": "stream",
     "text": [
      "Generating walks (CPU: 1): 100%|██████████| 25/25 [00:01<00:00, 24.94it/s]\n",
      "Generating walks (CPU: 2): 100%|██████████| 25/25 [00:00<00:00, 25.09it/s]\n",
      "Generating walks (CPU: 3): 100%|██████████| 25/25 [00:00<00:00, 25.25it/s]\n",
      "Generating walks (CPU: 4): 100%|██████████| 25/25 [00:00<00:00, 25.48it/s]\n",
      " 41%|████      | 98/240 [35:19<44:12, 18.68s/it]"
     ]
    },
    {
     "name": "stdout",
     "output_type": "stream",
     "text": [
      "[0]\n"
     ]
    },
    {
     "data": {
      "text/plain": [
       "Computing transition probabilities:   0%|          | 0/559 [00:00<?, ?it/s]"
      ],
      "application/vnd.jupyter.widget-view+json": {
       "version_major": 2,
       "version_minor": 0,
       "model_id": "8494d94d6e264bf8a348938d759ce107"
      }
     },
     "metadata": {},
     "output_type": "display_data"
    },
    {
     "name": "stderr",
     "output_type": "stream",
     "text": [
      "Generating walks (CPU: 1): 100%|██████████| 25/25 [00:01<00:00, 24.72it/s]\n",
      "Generating walks (CPU: 2): 100%|██████████| 25/25 [00:01<00:00, 24.65it/s]\n",
      "Generating walks (CPU: 3): 100%|██████████| 25/25 [00:01<00:00, 24.69it/s]\n",
      "Generating walks (CPU: 4): 100%|██████████| 25/25 [00:00<00:00, 25.05it/s]\n",
      " 41%|████▏     | 99/240 [35:38<44:14, 18.82s/it]"
     ]
    },
    {
     "name": "stdout",
     "output_type": "stream",
     "text": [
      "[0]\n"
     ]
    },
    {
     "data": {
      "text/plain": [
       "Computing transition probabilities:   0%|          | 0/559 [00:00<?, ?it/s]"
      ],
      "application/vnd.jupyter.widget-view+json": {
       "version_major": 2,
       "version_minor": 0,
       "model_id": "ecb4bd58f7e44cb9aa87735cd71af35d"
      }
     },
     "metadata": {},
     "output_type": "display_data"
    },
    {
     "name": "stderr",
     "output_type": "stream",
     "text": [
      "Generating walks (CPU: 1): 100%|██████████| 25/25 [00:00<00:00, 25.16it/s]\n",
      "Generating walks (CPU: 2): 100%|██████████| 25/25 [00:00<00:00, 25.14it/s]\n",
      "Generating walks (CPU: 3): 100%|██████████| 25/25 [00:00<00:00, 25.28it/s]\n",
      "Generating walks (CPU: 4): 100%|██████████| 25/25 [00:00<00:00, 25.54it/s]\n",
      " 42%|████▏     | 100/240 [35:57<44:15, 18.97s/it]"
     ]
    },
    {
     "name": "stdout",
     "output_type": "stream",
     "text": [
      "[0]\n"
     ]
    },
    {
     "data": {
      "text/plain": [
       "Computing transition probabilities:   0%|          | 0/559 [00:00<?, ?it/s]"
      ],
      "application/vnd.jupyter.widget-view+json": {
       "version_major": 2,
       "version_minor": 0,
       "model_id": "3c67a5113c454b01bd87d225a3ca4d95"
      }
     },
     "metadata": {},
     "output_type": "display_data"
    },
    {
     "name": "stderr",
     "output_type": "stream",
     "text": [
      "Generating walks (CPU: 1): 100%|██████████| 25/25 [00:01<00:00, 24.91it/s]\n",
      "Generating walks (CPU: 2): 100%|██████████| 25/25 [00:00<00:00, 25.15it/s]\n",
      "Generating walks (CPU: 3): 100%|██████████| 25/25 [00:00<00:00, 25.22it/s]\n",
      "Generating walks (CPU: 4): 100%|██████████| 25/25 [00:00<00:00, 25.45it/s]\n",
      " 42%|████▏     | 101/240 [36:17<44:40, 19.28s/it]"
     ]
    },
    {
     "name": "stdout",
     "output_type": "stream",
     "text": [
      "[1]\n"
     ]
    },
    {
     "data": {
      "text/plain": [
       "Computing transition probabilities:   0%|          | 0/559 [00:00<?, ?it/s]"
      ],
      "application/vnd.jupyter.widget-view+json": {
       "version_major": 2,
       "version_minor": 0,
       "model_id": "4ba68805aaf74ca49296cbed266dbd42"
      }
     },
     "metadata": {},
     "output_type": "display_data"
    },
    {
     "name": "stderr",
     "output_type": "stream",
     "text": [
      "Generating walks (CPU: 1): 100%|██████████| 25/25 [00:00<00:00, 25.03it/s]\n",
      "Generating walks (CPU: 2): 100%|██████████| 25/25 [00:01<00:00, 24.98it/s]\n",
      "Generating walks (CPU: 3): 100%|██████████| 25/25 [00:00<00:00, 25.30it/s]\n",
      "Generating walks (CPU: 4): 100%|██████████| 25/25 [00:00<00:00, 25.39it/s]\n",
      " 42%|████▎     | 102/240 [36:37<44:35, 19.39s/it]"
     ]
    },
    {
     "name": "stdout",
     "output_type": "stream",
     "text": [
      "[0]\n"
     ]
    },
    {
     "data": {
      "text/plain": [
       "Computing transition probabilities:   0%|          | 0/559 [00:00<?, ?it/s]"
      ],
      "application/vnd.jupyter.widget-view+json": {
       "version_major": 2,
       "version_minor": 0,
       "model_id": "a817759acfac4d7fb691877de9429cd8"
      }
     },
     "metadata": {},
     "output_type": "display_data"
    },
    {
     "name": "stderr",
     "output_type": "stream",
     "text": [
      "Generating walks (CPU: 1): 100%|██████████| 25/25 [00:00<00:00, 25.01it/s]\n",
      "Generating walks (CPU: 2): 100%|██████████| 25/25 [00:00<00:00, 25.23it/s]\n",
      "Generating walks (CPU: 3): 100%|██████████| 25/25 [00:00<00:00, 25.34it/s]\n",
      "Generating walks (CPU: 4): 100%|██████████| 25/25 [00:00<00:00, 25.49it/s]\n",
      " 43%|████▎     | 103/240 [36:57<44:35, 19.53s/it]"
     ]
    },
    {
     "name": "stdout",
     "output_type": "stream",
     "text": [
      "[0]\n"
     ]
    },
    {
     "data": {
      "text/plain": [
       "Computing transition probabilities:   0%|          | 0/559 [00:00<?, ?it/s]"
      ],
      "application/vnd.jupyter.widget-view+json": {
       "version_major": 2,
       "version_minor": 0,
       "model_id": "6dbffabf09694276bb0cd2c8f6f12b75"
      }
     },
     "metadata": {},
     "output_type": "display_data"
    },
    {
     "name": "stderr",
     "output_type": "stream",
     "text": [
      "Generating walks (CPU: 1): 100%|██████████| 25/25 [00:00<00:00, 25.13it/s]\n",
      "Generating walks (CPU: 2): 100%|██████████| 25/25 [00:00<00:00, 25.01it/s]\n",
      "Generating walks (CPU: 3): 100%|██████████| 25/25 [00:00<00:00, 25.10it/s]\n",
      "Generating walks (CPU: 4): 100%|██████████| 25/25 [00:00<00:00, 25.43it/s]\n",
      " 43%|████▎     | 104/240 [37:16<44:20, 19.57s/it]"
     ]
    },
    {
     "name": "stdout",
     "output_type": "stream",
     "text": [
      "[0]\n"
     ]
    },
    {
     "data": {
      "text/plain": [
       "Computing transition probabilities:   0%|          | 0/559 [00:00<?, ?it/s]"
      ],
      "application/vnd.jupyter.widget-view+json": {
       "version_major": 2,
       "version_minor": 0,
       "model_id": "fd83daf6e79d48ddb62eefbf8bee4d8f"
      }
     },
     "metadata": {},
     "output_type": "display_data"
    },
    {
     "name": "stderr",
     "output_type": "stream",
     "text": [
      "Generating walks (CPU: 1): 100%|██████████| 25/25 [00:00<00:00, 25.03it/s]\n",
      "Generating walks (CPU: 2): 100%|██████████| 25/25 [00:01<00:00, 24.81it/s]\n",
      "Generating walks (CPU: 3): 100%|██████████| 25/25 [00:00<00:00, 25.34it/s]\n",
      "Generating walks (CPU: 4): 100%|██████████| 25/25 [00:00<00:00, 25.62it/s]\n",
      " 44%|████▍     | 105/240 [37:36<43:57, 19.54s/it]"
     ]
    },
    {
     "name": "stdout",
     "output_type": "stream",
     "text": [
      "[0]\n"
     ]
    },
    {
     "data": {
      "text/plain": [
       "Computing transition probabilities:   0%|          | 0/559 [00:00<?, ?it/s]"
      ],
      "application/vnd.jupyter.widget-view+json": {
       "version_major": 2,
       "version_minor": 0,
       "model_id": "1eef0ed733ea4a91856265e10ea56990"
      }
     },
     "metadata": {},
     "output_type": "display_data"
    },
    {
     "name": "stderr",
     "output_type": "stream",
     "text": [
      "Generating walks (CPU: 1): 100%|██████████| 25/25 [00:00<00:00, 25.11it/s]\n",
      "Generating walks (CPU: 2): 100%|██████████| 25/25 [00:00<00:00, 25.15it/s]\n",
      "Generating walks (CPU: 3): 100%|██████████| 25/25 [00:00<00:00, 25.30it/s]\n",
      "Generating walks (CPU: 4): 100%|██████████| 25/25 [00:00<00:00, 25.41it/s]\n",
      " 44%|████▍     | 106/240 [37:55<43:08, 19.32s/it]"
     ]
    },
    {
     "name": "stdout",
     "output_type": "stream",
     "text": [
      "[0]\n"
     ]
    },
    {
     "data": {
      "text/plain": [
       "Computing transition probabilities:   0%|          | 0/559 [00:00<?, ?it/s]"
      ],
      "application/vnd.jupyter.widget-view+json": {
       "version_major": 2,
       "version_minor": 0,
       "model_id": "cea8dc85fa5d4fe494c0987a1471764c"
      }
     },
     "metadata": {},
     "output_type": "display_data"
    },
    {
     "name": "stderr",
     "output_type": "stream",
     "text": [
      "Generating walks (CPU: 1): 100%|██████████| 25/25 [00:00<00:00, 25.17it/s]\n",
      "Generating walks (CPU: 2): 100%|██████████| 25/25 [00:00<00:00, 25.15it/s]\n",
      "Generating walks (CPU: 3): 100%|██████████| 25/25 [00:00<00:00, 25.21it/s]\n",
      "Generating walks (CPU: 4): 100%|██████████| 25/25 [00:00<00:00, 25.54it/s]\n",
      " 45%|████▍     | 107/240 [38:15<43:33, 19.65s/it]"
     ]
    },
    {
     "name": "stdout",
     "output_type": "stream",
     "text": [
      "[0]\n"
     ]
    },
    {
     "data": {
      "text/plain": [
       "Computing transition probabilities:   0%|          | 0/559 [00:00<?, ?it/s]"
      ],
      "application/vnd.jupyter.widget-view+json": {
       "version_major": 2,
       "version_minor": 0,
       "model_id": "ad795b04d0264507a7d04a7a2fd0c283"
      }
     },
     "metadata": {},
     "output_type": "display_data"
    },
    {
     "name": "stderr",
     "output_type": "stream",
     "text": [
      "Generating walks (CPU: 1): 100%|██████████| 25/25 [00:00<00:00, 25.11it/s]\n",
      "Generating walks (CPU: 2): 100%|██████████| 25/25 [00:00<00:00, 25.07it/s]\n",
      "Generating walks (CPU: 3): 100%|██████████| 25/25 [00:00<00:00, 25.29it/s]\n",
      "Generating walks (CPU: 4): 100%|██████████| 25/25 [00:00<00:00, 25.55it/s]\n",
      " 45%|████▌     | 108/240 [38:34<42:36, 19.36s/it]"
     ]
    },
    {
     "name": "stdout",
     "output_type": "stream",
     "text": [
      "[0]\n"
     ]
    },
    {
     "data": {
      "text/plain": [
       "Computing transition probabilities:   0%|          | 0/559 [00:00<?, ?it/s]"
      ],
      "application/vnd.jupyter.widget-view+json": {
       "version_major": 2,
       "version_minor": 0,
       "model_id": "c63c88dc099946daa98b58b3ee690f2b"
      }
     },
     "metadata": {},
     "output_type": "display_data"
    },
    {
     "name": "stderr",
     "output_type": "stream",
     "text": [
      "Generating walks (CPU: 1): 100%|██████████| 25/25 [00:01<00:00, 24.66it/s]\n",
      "Generating walks (CPU: 2): 100%|██████████| 25/25 [00:01<00:00, 24.49it/s]\n",
      "Generating walks (CPU: 3): 100%|██████████| 25/25 [00:01<00:00, 24.51it/s]\n",
      "Generating walks (CPU: 4): 100%|██████████| 25/25 [00:01<00:00, 24.69it/s]\n",
      " 45%|████▌     | 109/240 [38:54<42:55, 19.66s/it]"
     ]
    },
    {
     "name": "stdout",
     "output_type": "stream",
     "text": [
      "[0]\n"
     ]
    },
    {
     "data": {
      "text/plain": [
       "Computing transition probabilities:   0%|          | 0/559 [00:00<?, ?it/s]"
      ],
      "application/vnd.jupyter.widget-view+json": {
       "version_major": 2,
       "version_minor": 0,
       "model_id": "00faaa9d37224372ac633496082167a5"
      }
     },
     "metadata": {},
     "output_type": "display_data"
    },
    {
     "name": "stderr",
     "output_type": "stream",
     "text": [
      "Generating walks (CPU: 1): 100%|██████████| 25/25 [00:01<00:00, 22.81it/s]\n",
      "Generating walks (CPU: 2): 100%|██████████| 25/25 [00:01<00:00, 23.49it/s]\n",
      "Generating walks (CPU: 3): 100%|██████████| 25/25 [00:01<00:00, 23.69it/s]\n",
      "Generating walks (CPU: 4): 100%|██████████| 25/25 [00:01<00:00, 23.80it/s]\n",
      " 46%|████▌     | 110/240 [39:16<43:54, 20.27s/it]"
     ]
    },
    {
     "name": "stdout",
     "output_type": "stream",
     "text": [
      "[0]\n"
     ]
    },
    {
     "data": {
      "text/plain": [
       "Computing transition probabilities:   0%|          | 0/559 [00:00<?, ?it/s]"
      ],
      "application/vnd.jupyter.widget-view+json": {
       "version_major": 2,
       "version_minor": 0,
       "model_id": "351fab7441004064b3bf60a452252b00"
      }
     },
     "metadata": {},
     "output_type": "display_data"
    },
    {
     "name": "stderr",
     "output_type": "stream",
     "text": [
      "Generating walks (CPU: 1): 100%|██████████| 25/25 [00:01<00:00, 24.13it/s]\n",
      "Generating walks (CPU: 2): 100%|██████████| 25/25 [00:01<00:00, 24.11it/s]\n",
      "Generating walks (CPU: 3): 100%|██████████| 25/25 [00:00<00:00, 25.08it/s]\n",
      "Generating walks (CPU: 4): 100%|██████████| 25/25 [00:00<00:00, 25.32it/s]\n",
      " 46%|████▋     | 111/240 [39:38<44:37, 20.75s/it]"
     ]
    },
    {
     "name": "stdout",
     "output_type": "stream",
     "text": [
      "[0]\n"
     ]
    },
    {
     "data": {
      "text/plain": [
       "Computing transition probabilities:   0%|          | 0/559 [00:00<?, ?it/s]"
      ],
      "application/vnd.jupyter.widget-view+json": {
       "version_major": 2,
       "version_minor": 0,
       "model_id": "d99a1a7a00724e6ab2bc69907570c424"
      }
     },
     "metadata": {},
     "output_type": "display_data"
    },
    {
     "name": "stderr",
     "output_type": "stream",
     "text": [
      "Generating walks (CPU: 1): 100%|██████████| 25/25 [00:00<00:00, 25.35it/s]\n",
      "Generating walks (CPU: 2): 100%|██████████| 25/25 [00:00<00:00, 25.39it/s]\n",
      "Generating walks (CPU: 3): 100%|██████████| 25/25 [00:00<00:00, 25.27it/s]\n",
      "Generating walks (CPU: 4): 100%|██████████| 25/25 [00:00<00:00, 25.36it/s]\n",
      " 47%|████▋     | 112/240 [39:58<44:16, 20.75s/it]"
     ]
    },
    {
     "name": "stdout",
     "output_type": "stream",
     "text": [
      "[0]\n"
     ]
    },
    {
     "data": {
      "text/plain": [
       "Computing transition probabilities:   0%|          | 0/559 [00:00<?, ?it/s]"
      ],
      "application/vnd.jupyter.widget-view+json": {
       "version_major": 2,
       "version_minor": 0,
       "model_id": "abcb53751d4546d3ba13bc4e93e3d825"
      }
     },
     "metadata": {},
     "output_type": "display_data"
    },
    {
     "name": "stderr",
     "output_type": "stream",
     "text": [
      "Generating walks (CPU: 1): 100%|██████████| 25/25 [00:01<00:00, 21.69it/s]\n",
      "Generating walks (CPU: 2): 100%|██████████| 25/25 [00:01<00:00, 22.38it/s]\n",
      "Generating walks (CPU: 3): 100%|██████████| 25/25 [00:01<00:00, 23.83it/s]\n",
      "Generating walks (CPU: 4): 100%|██████████| 25/25 [00:01<00:00, 24.74it/s]\n",
      " 47%|████▋     | 113/240 [40:20<44:31, 21.04s/it]"
     ]
    },
    {
     "name": "stdout",
     "output_type": "stream",
     "text": [
      "[1]\n"
     ]
    },
    {
     "data": {
      "text/plain": [
       "Computing transition probabilities:   0%|          | 0/559 [00:00<?, ?it/s]"
      ],
      "application/vnd.jupyter.widget-view+json": {
       "version_major": 2,
       "version_minor": 0,
       "model_id": "962a1351249e4657a137a92f85882963"
      }
     },
     "metadata": {},
     "output_type": "display_data"
    },
    {
     "name": "stderr",
     "output_type": "stream",
     "text": [
      "Generating walks (CPU: 1): 100%|██████████| 25/25 [00:00<00:00, 25.24it/s]\n",
      "Generating walks (CPU: 2): 100%|██████████| 25/25 [00:00<00:00, 25.38it/s]\n",
      "Generating walks (CPU: 3): 100%|██████████| 25/25 [00:00<00:00, 25.42it/s]\n",
      "Generating walks (CPU: 4): 100%|██████████| 25/25 [00:00<00:00, 25.55it/s]\n",
      " 48%|████▊     | 114/240 [40:41<44:00, 20.96s/it]"
     ]
    },
    {
     "name": "stdout",
     "output_type": "stream",
     "text": [
      "[0]\n"
     ]
    },
    {
     "data": {
      "text/plain": [
       "Computing transition probabilities:   0%|          | 0/559 [00:00<?, ?it/s]"
      ],
      "application/vnd.jupyter.widget-view+json": {
       "version_major": 2,
       "version_minor": 0,
       "model_id": "9f07b433aec84a04b67a2e8a26b46bdd"
      }
     },
     "metadata": {},
     "output_type": "display_data"
    },
    {
     "name": "stderr",
     "output_type": "stream",
     "text": [
      "Generating walks (CPU: 1): 100%|██████████| 25/25 [00:01<00:00, 22.68it/s]\n",
      "Generating walks (CPU: 2): 100%|██████████| 25/25 [00:01<00:00, 22.45it/s]\n",
      "Generating walks (CPU: 3): 100%|██████████| 25/25 [00:01<00:00, 20.67it/s]\n",
      "Generating walks (CPU: 4): 100%|██████████| 25/25 [00:01<00:00, 23.08it/s]\n",
      " 48%|████▊     | 115/240 [41:03<44:21, 21.29s/it]"
     ]
    },
    {
     "name": "stdout",
     "output_type": "stream",
     "text": [
      "[0]\n"
     ]
    },
    {
     "data": {
      "text/plain": [
       "Computing transition probabilities:   0%|          | 0/559 [00:00<?, ?it/s]"
      ],
      "application/vnd.jupyter.widget-view+json": {
       "version_major": 2,
       "version_minor": 0,
       "model_id": "19cd93ba8f4647cfa896667c807a1c5e"
      }
     },
     "metadata": {},
     "output_type": "display_data"
    },
    {
     "name": "stderr",
     "output_type": "stream",
     "text": [
      "Generating walks (CPU: 1): 100%|██████████| 25/25 [00:01<00:00, 24.83it/s]\n",
      "Generating walks (CPU: 2): 100%|██████████| 25/25 [00:01<00:00, 24.31it/s]\n",
      "Generating walks (CPU: 3): 100%|██████████| 25/25 [00:01<00:00, 23.84it/s]\n",
      "Generating walks (CPU: 4): 100%|██████████| 25/25 [00:01<00:00, 23.62it/s]\n",
      " 48%|████▊     | 116/240 [41:23<43:29, 21.04s/it]"
     ]
    },
    {
     "name": "stdout",
     "output_type": "stream",
     "text": [
      "[0]\n"
     ]
    },
    {
     "data": {
      "text/plain": [
       "Computing transition probabilities:   0%|          | 0/559 [00:00<?, ?it/s]"
      ],
      "application/vnd.jupyter.widget-view+json": {
       "version_major": 2,
       "version_minor": 0,
       "model_id": "fc8a64d39e304f6ab8f96e17152c67b8"
      }
     },
     "metadata": {},
     "output_type": "display_data"
    },
    {
     "name": "stderr",
     "output_type": "stream",
     "text": [
      "Generating walks (CPU: 1): 100%|██████████| 25/25 [00:00<00:00, 25.06it/s]\n",
      "Generating walks (CPU: 2): 100%|██████████| 25/25 [00:00<00:00, 25.20it/s]\n",
      "Generating walks (CPU: 3): 100%|██████████| 25/25 [00:00<00:00, 25.36it/s]\n",
      "Generating walks (CPU: 4): 100%|██████████| 25/25 [00:00<00:00, 25.27it/s]\n",
      " 49%|████▉     | 117/240 [41:41<40:58, 19.98s/it]"
     ]
    },
    {
     "name": "stdout",
     "output_type": "stream",
     "text": [
      "[0]\n"
     ]
    },
    {
     "data": {
      "text/plain": [
       "Computing transition probabilities:   0%|          | 0/559 [00:00<?, ?it/s]"
      ],
      "application/vnd.jupyter.widget-view+json": {
       "version_major": 2,
       "version_minor": 0,
       "model_id": "2bd68a49c15548068a7933387e8a1fd3"
      }
     },
     "metadata": {},
     "output_type": "display_data"
    },
    {
     "name": "stderr",
     "output_type": "stream",
     "text": [
      "Generating walks (CPU: 1): 100%|██████████| 25/25 [00:01<00:00, 24.59it/s]\n",
      "Generating walks (CPU: 2): 100%|██████████| 25/25 [00:01<00:00, 23.82it/s]\n",
      "Generating walks (CPU: 3): 100%|██████████| 25/25 [00:01<00:00, 24.64it/s]\n",
      "Generating walks (CPU: 4): 100%|██████████| 25/25 [00:01<00:00, 24.88it/s]\n",
      " 49%|████▉     | 118/240 [42:00<40:00, 19.68s/it]"
     ]
    },
    {
     "name": "stdout",
     "output_type": "stream",
     "text": [
      "[0]\n"
     ]
    },
    {
     "data": {
      "text/plain": [
       "Computing transition probabilities:   0%|          | 0/559 [00:00<?, ?it/s]"
      ],
      "application/vnd.jupyter.widget-view+json": {
       "version_major": 2,
       "version_minor": 0,
       "model_id": "debc1a33672145ad8ca1aa18cb2d9286"
      }
     },
     "metadata": {},
     "output_type": "display_data"
    },
    {
     "name": "stderr",
     "output_type": "stream",
     "text": [
      "Generating walks (CPU: 1): 100%|██████████| 25/25 [00:00<00:00, 25.07it/s]\n",
      "Generating walks (CPU: 2): 100%|██████████| 25/25 [00:00<00:00, 25.09it/s]\n",
      "Generating walks (CPU: 3): 100%|██████████| 25/25 [00:00<00:00, 25.30it/s]\n",
      "Generating walks (CPU: 4): 100%|██████████| 25/25 [00:00<00:00, 25.49it/s]\n",
      " 50%|████▉     | 119/240 [42:20<40:14, 19.96s/it]"
     ]
    },
    {
     "name": "stdout",
     "output_type": "stream",
     "text": [
      "[1]\n"
     ]
    },
    {
     "data": {
      "text/plain": [
       "Computing transition probabilities:   0%|          | 0/559 [00:00<?, ?it/s]"
      ],
      "application/vnd.jupyter.widget-view+json": {
       "version_major": 2,
       "version_minor": 0,
       "model_id": "0dc42a8b4c7446479ae424d7b6170829"
      }
     },
     "metadata": {},
     "output_type": "display_data"
    },
    {
     "name": "stderr",
     "output_type": "stream",
     "text": [
      "Generating walks (CPU: 1): 100%|██████████| 25/25 [00:00<00:00, 25.14it/s]\n",
      "Generating walks (CPU: 2): 100%|██████████| 25/25 [00:00<00:00, 25.23it/s]\n",
      "Generating walks (CPU: 3): 100%|██████████| 25/25 [00:00<00:00, 25.21it/s]\n",
      "Generating walks (CPU: 4): 100%|██████████| 25/25 [00:00<00:00, 25.38it/s]\n",
      " 50%|█████     | 120/240 [42:41<40:09, 20.08s/it]"
     ]
    },
    {
     "name": "stdout",
     "output_type": "stream",
     "text": [
      "[0]\n"
     ]
    },
    {
     "data": {
      "text/plain": [
       "Computing transition probabilities:   0%|          | 0/559 [00:00<?, ?it/s]"
      ],
      "application/vnd.jupyter.widget-view+json": {
       "version_major": 2,
       "version_minor": 0,
       "model_id": "b2256ab260164cfba6ab9d04d4bd5abe"
      }
     },
     "metadata": {},
     "output_type": "display_data"
    },
    {
     "name": "stderr",
     "output_type": "stream",
     "text": [
      "Generating walks (CPU: 1): 100%|██████████| 25/25 [00:00<00:00, 25.19it/s]\n",
      "Generating walks (CPU: 2): 100%|██████████| 25/25 [00:00<00:00, 25.44it/s]\n",
      "Generating walks (CPU: 3): 100%|██████████| 25/25 [00:00<00:00, 25.57it/s]\n",
      "Generating walks (CPU: 4): 100%|██████████| 25/25 [00:00<00:00, 25.56it/s]\n",
      " 50%|█████     | 121/240 [43:02<40:31, 20.43s/it]"
     ]
    },
    {
     "name": "stdout",
     "output_type": "stream",
     "text": [
      "[0]\n"
     ]
    },
    {
     "data": {
      "text/plain": [
       "Computing transition probabilities:   0%|          | 0/559 [00:00<?, ?it/s]"
      ],
      "application/vnd.jupyter.widget-view+json": {
       "version_major": 2,
       "version_minor": 0,
       "model_id": "3e996ea531244bc0b019f4be60b33b7a"
      }
     },
     "metadata": {},
     "output_type": "display_data"
    },
    {
     "name": "stderr",
     "output_type": "stream",
     "text": [
      "Generating walks (CPU: 1): 100%|██████████| 25/25 [00:01<00:00, 24.32it/s]\n",
      "Generating walks (CPU: 2): 100%|██████████| 25/25 [00:01<00:00, 24.51it/s]\n",
      "Generating walks (CPU: 3): 100%|██████████| 25/25 [00:01<00:00, 24.54it/s]\n",
      "Generating walks (CPU: 4): 100%|██████████| 25/25 [00:00<00:00, 25.04it/s]\n",
      " 51%|█████     | 122/240 [43:22<40:03, 20.37s/it]"
     ]
    },
    {
     "name": "stdout",
     "output_type": "stream",
     "text": [
      "[0]\n"
     ]
    },
    {
     "data": {
      "text/plain": [
       "Computing transition probabilities:   0%|          | 0/559 [00:00<?, ?it/s]"
      ],
      "application/vnd.jupyter.widget-view+json": {
       "version_major": 2,
       "version_minor": 0,
       "model_id": "b50e9728884946d2a2c3cdc3491492cb"
      }
     },
     "metadata": {},
     "output_type": "display_data"
    },
    {
     "name": "stderr",
     "output_type": "stream",
     "text": [
      "Generating walks (CPU: 1): 100%|██████████| 25/25 [00:00<00:00, 25.14it/s]\n",
      "Generating walks (CPU: 2): 100%|██████████| 25/25 [00:00<00:00, 25.31it/s]\n",
      "Generating walks (CPU: 3): 100%|██████████| 25/25 [00:00<00:00, 25.41it/s]\n",
      "Generating walks (CPU: 4): 100%|██████████| 25/25 [00:00<00:00, 25.42it/s]\n",
      " 51%|█████▏    | 123/240 [43:42<39:34, 20.29s/it]"
     ]
    },
    {
     "name": "stdout",
     "output_type": "stream",
     "text": [
      "[0]\n"
     ]
    },
    {
     "data": {
      "text/plain": [
       "Computing transition probabilities:   0%|          | 0/559 [00:00<?, ?it/s]"
      ],
      "application/vnd.jupyter.widget-view+json": {
       "version_major": 2,
       "version_minor": 0,
       "model_id": "9ea843e6d8704544bbbee22bcfbce07d"
      }
     },
     "metadata": {},
     "output_type": "display_data"
    },
    {
     "name": "stderr",
     "output_type": "stream",
     "text": [
      "Generating walks (CPU: 1): 100%|██████████| 25/25 [00:00<00:00, 25.23it/s]\n",
      "Generating walks (CPU: 2): 100%|██████████| 25/25 [00:00<00:00, 25.41it/s]\n",
      "Generating walks (CPU: 3): 100%|██████████| 25/25 [00:00<00:00, 25.45it/s]\n",
      "Generating walks (CPU: 4): 100%|██████████| 25/25 [00:00<00:00, 25.67it/s]\n",
      " 52%|█████▏    | 124/240 [44:06<40:50, 21.13s/it]"
     ]
    },
    {
     "name": "stdout",
     "output_type": "stream",
     "text": [
      "[1]\n"
     ]
    },
    {
     "data": {
      "text/plain": [
       "Computing transition probabilities:   0%|          | 0/559 [00:00<?, ?it/s]"
      ],
      "application/vnd.jupyter.widget-view+json": {
       "version_major": 2,
       "version_minor": 0,
       "model_id": "61b62d41fb3e451e9085ded83d00945e"
      }
     },
     "metadata": {},
     "output_type": "display_data"
    },
    {
     "name": "stderr",
     "output_type": "stream",
     "text": [
      "Generating walks (CPU: 1): 100%|██████████| 25/25 [00:00<00:00, 25.40it/s]\n",
      "Generating walks (CPU: 2): 100%|██████████| 25/25 [00:00<00:00, 25.36it/s]\n",
      "Generating walks (CPU: 3): 100%|██████████| 25/25 [00:00<00:00, 25.53it/s]\n",
      "Generating walks (CPU: 4): 100%|██████████| 25/25 [00:00<00:00, 25.70it/s]\n",
      " 52%|█████▏    | 125/240 [44:27<40:40, 21.22s/it]"
     ]
    },
    {
     "name": "stdout",
     "output_type": "stream",
     "text": [
      "[0]\n"
     ]
    },
    {
     "data": {
      "text/plain": [
       "Computing transition probabilities:   0%|          | 0/559 [00:00<?, ?it/s]"
      ],
      "application/vnd.jupyter.widget-view+json": {
       "version_major": 2,
       "version_minor": 0,
       "model_id": "b004931e67ba47bcb8b518171dea19f8"
      }
     },
     "metadata": {},
     "output_type": "display_data"
    },
    {
     "name": "stderr",
     "output_type": "stream",
     "text": [
      "Generating walks (CPU: 1): 100%|██████████| 25/25 [00:01<00:00, 24.45it/s]\n",
      "Generating walks (CPU: 2): 100%|██████████| 25/25 [00:01<00:00, 24.37it/s]\n",
      "Generating walks (CPU: 3): 100%|██████████| 25/25 [00:01<00:00, 24.37it/s]\n",
      "Generating walks (CPU: 4): 100%|██████████| 25/25 [00:01<00:00, 24.44it/s]\n",
      " 52%|█████▎    | 126/240 [44:47<39:32, 20.81s/it]"
     ]
    },
    {
     "name": "stdout",
     "output_type": "stream",
     "text": [
      "[0]\n"
     ]
    },
    {
     "data": {
      "text/plain": [
       "Computing transition probabilities:   0%|          | 0/559 [00:00<?, ?it/s]"
      ],
      "application/vnd.jupyter.widget-view+json": {
       "version_major": 2,
       "version_minor": 0,
       "model_id": "a5bbc1d95bd5464794a380bc247c3cfb"
      }
     },
     "metadata": {},
     "output_type": "display_data"
    },
    {
     "name": "stderr",
     "output_type": "stream",
     "text": [
      "Generating walks (CPU: 1): 100%|██████████| 25/25 [00:00<00:00, 25.47it/s]\n",
      "Generating walks (CPU: 2): 100%|██████████| 25/25 [00:00<00:00, 25.50it/s]\n",
      "Generating walks (CPU: 3): 100%|██████████| 25/25 [00:00<00:00, 25.63it/s]\n",
      "Generating walks (CPU: 4): 100%|██████████| 25/25 [00:00<00:00, 25.87it/s]\n",
      " 53%|█████▎    | 127/240 [45:08<39:20, 20.89s/it]"
     ]
    },
    {
     "name": "stdout",
     "output_type": "stream",
     "text": [
      "[0]\n"
     ]
    },
    {
     "data": {
      "text/plain": [
       "Computing transition probabilities:   0%|          | 0/559 [00:00<?, ?it/s]"
      ],
      "application/vnd.jupyter.widget-view+json": {
       "version_major": 2,
       "version_minor": 0,
       "model_id": "aceff05c4a124919922e8bb892358a8e"
      }
     },
     "metadata": {},
     "output_type": "display_data"
    },
    {
     "name": "stderr",
     "output_type": "stream",
     "text": [
      "Generating walks (CPU: 1): 100%|██████████| 25/25 [00:01<00:00, 21.39it/s]\n",
      "Generating walks (CPU: 2): 100%|██████████| 25/25 [00:01<00:00, 21.55it/s]\n",
      "Generating walks (CPU: 3): 100%|██████████| 25/25 [00:01<00:00, 23.09it/s]\n",
      "Generating walks (CPU: 4): 100%|██████████| 25/25 [00:01<00:00, 24.56it/s]\n",
      " 53%|█████▎    | 128/240 [45:31<40:13, 21.55s/it]"
     ]
    },
    {
     "name": "stdout",
     "output_type": "stream",
     "text": [
      "[1]\n"
     ]
    },
    {
     "data": {
      "text/plain": [
       "Computing transition probabilities:   0%|          | 0/559 [00:00<?, ?it/s]"
      ],
      "application/vnd.jupyter.widget-view+json": {
       "version_major": 2,
       "version_minor": 0,
       "model_id": "71a3e9cd726b408e80e80c6e10c0a10f"
      }
     },
     "metadata": {},
     "output_type": "display_data"
    },
    {
     "name": "stderr",
     "output_type": "stream",
     "text": [
      "Generating walks (CPU: 1): 100%|██████████| 25/25 [00:01<00:00, 22.90it/s]\n",
      "Generating walks (CPU: 2): 100%|██████████| 25/25 [00:01<00:00, 22.22it/s]\n",
      "Generating walks (CPU: 3): 100%|██████████| 25/25 [00:01<00:00, 22.74it/s]\n",
      "Generating walks (CPU: 4): 100%|██████████| 25/25 [00:01<00:00, 23.33it/s]\n",
      " 54%|█████▍    | 129/240 [45:51<39:13, 21.20s/it]"
     ]
    },
    {
     "name": "stdout",
     "output_type": "stream",
     "text": [
      "[1]\n"
     ]
    },
    {
     "data": {
      "text/plain": [
       "Computing transition probabilities:   0%|          | 0/559 [00:00<?, ?it/s]"
      ],
      "application/vnd.jupyter.widget-view+json": {
       "version_major": 2,
       "version_minor": 0,
       "model_id": "6e62c74aed134db7bd30e8b89735d6a3"
      }
     },
     "metadata": {},
     "output_type": "display_data"
    },
    {
     "name": "stderr",
     "output_type": "stream",
     "text": [
      "Generating walks (CPU: 1): 100%|██████████| 25/25 [00:00<00:00, 25.14it/s]\n",
      "Generating walks (CPU: 2): 100%|██████████| 25/25 [00:00<00:00, 25.33it/s]\n",
      "Generating walks (CPU: 3): 100%|██████████| 25/25 [00:00<00:00, 25.47it/s]\n",
      "Generating walks (CPU: 4): 100%|██████████| 25/25 [00:00<00:00, 25.30it/s]\n",
      " 54%|█████▍    | 130/240 [46:11<38:03, 20.76s/it]"
     ]
    },
    {
     "name": "stdout",
     "output_type": "stream",
     "text": [
      "[0]\n"
     ]
    },
    {
     "data": {
      "text/plain": [
       "Computing transition probabilities:   0%|          | 0/559 [00:00<?, ?it/s]"
      ],
      "application/vnd.jupyter.widget-view+json": {
       "version_major": 2,
       "version_minor": 0,
       "model_id": "5ba169ffc2a847d6a28503cf0662e3b2"
      }
     },
     "metadata": {},
     "output_type": "display_data"
    },
    {
     "name": "stderr",
     "output_type": "stream",
     "text": [
      "Generating walks (CPU: 1): 100%|██████████| 25/25 [00:01<00:00, 23.64it/s]\n",
      "Generating walks (CPU: 2): 100%|██████████| 25/25 [00:01<00:00, 23.75it/s]\n",
      "Generating walks (CPU: 3): 100%|██████████| 25/25 [00:01<00:00, 23.33it/s]\n",
      "Generating walks (CPU: 4): 100%|██████████| 25/25 [00:01<00:00, 24.41it/s]\n",
      " 55%|█████▍    | 131/240 [46:29<36:22, 20.03s/it]"
     ]
    },
    {
     "name": "stdout",
     "output_type": "stream",
     "text": [
      "[0]\n"
     ]
    },
    {
     "data": {
      "text/plain": [
       "Computing transition probabilities:   0%|          | 0/559 [00:00<?, ?it/s]"
      ],
      "application/vnd.jupyter.widget-view+json": {
       "version_major": 2,
       "version_minor": 0,
       "model_id": "338d2508a77d439a8985de401b5987e6"
      }
     },
     "metadata": {},
     "output_type": "display_data"
    },
    {
     "name": "stderr",
     "output_type": "stream",
     "text": [
      "Generating walks (CPU: 1): 100%|██████████| 25/25 [00:00<00:00, 25.21it/s]\n",
      "Generating walks (CPU: 2): 100%|██████████| 25/25 [00:00<00:00, 25.23it/s]\n",
      "Generating walks (CPU: 3): 100%|██████████| 25/25 [00:00<00:00, 25.25it/s]\n",
      "Generating walks (CPU: 4): 100%|██████████| 25/25 [00:00<00:00, 25.33it/s]\n",
      " 55%|█████▌    | 132/240 [46:49<35:39, 19.81s/it]"
     ]
    },
    {
     "name": "stdout",
     "output_type": "stream",
     "text": [
      "[0]\n"
     ]
    },
    {
     "data": {
      "text/plain": [
       "Computing transition probabilities:   0%|          | 0/559 [00:00<?, ?it/s]"
      ],
      "application/vnd.jupyter.widget-view+json": {
       "version_major": 2,
       "version_minor": 0,
       "model_id": "cc4b9a3e6b0845c68b5f77aa1dd96cbd"
      }
     },
     "metadata": {},
     "output_type": "display_data"
    },
    {
     "name": "stderr",
     "output_type": "stream",
     "text": [
      "Generating walks (CPU: 1): 100%|██████████| 25/25 [00:00<00:00, 25.27it/s]\n",
      "Generating walks (CPU: 2): 100%|██████████| 25/25 [00:00<00:00, 25.34it/s]\n",
      "Generating walks (CPU: 3): 100%|██████████| 25/25 [00:00<00:00, 25.34it/s]\n",
      "Generating walks (CPU: 4): 100%|██████████| 25/25 [00:00<00:00, 25.72it/s]\n",
      " 55%|█████▌    | 133/240 [47:08<35:05, 19.68s/it]"
     ]
    },
    {
     "name": "stdout",
     "output_type": "stream",
     "text": [
      "[0]\n"
     ]
    },
    {
     "data": {
      "text/plain": [
       "Computing transition probabilities:   0%|          | 0/559 [00:00<?, ?it/s]"
      ],
      "application/vnd.jupyter.widget-view+json": {
       "version_major": 2,
       "version_minor": 0,
       "model_id": "78150886a0dc4e2486a4b6fd710a39dc"
      }
     },
     "metadata": {},
     "output_type": "display_data"
    },
    {
     "name": "stderr",
     "output_type": "stream",
     "text": [
      "Generating walks (CPU: 1): 100%|██████████| 25/25 [00:00<00:00, 25.08it/s]\n",
      "Generating walks (CPU: 2): 100%|██████████| 25/25 [00:00<00:00, 25.18it/s]\n",
      "Generating walks (CPU: 3): 100%|██████████| 25/25 [00:00<00:00, 25.23it/s]\n",
      "Generating walks (CPU: 4): 100%|██████████| 25/25 [00:00<00:00, 25.36it/s]\n",
      " 56%|█████▌    | 134/240 [47:28<34:50, 19.72s/it]"
     ]
    },
    {
     "name": "stdout",
     "output_type": "stream",
     "text": [
      "[0]\n"
     ]
    },
    {
     "data": {
      "text/plain": [
       "Computing transition probabilities:   0%|          | 0/559 [00:00<?, ?it/s]"
      ],
      "application/vnd.jupyter.widget-view+json": {
       "version_major": 2,
       "version_minor": 0,
       "model_id": "3a77382e55514471921af3cfcc038c92"
      }
     },
     "metadata": {},
     "output_type": "display_data"
    },
    {
     "name": "stderr",
     "output_type": "stream",
     "text": [
      "Generating walks (CPU: 1): 100%|██████████| 25/25 [00:01<00:00, 24.99it/s]\n",
      "Generating walks (CPU: 2): 100%|██████████| 25/25 [00:01<00:00, 24.77it/s]\n",
      "Generating walks (CPU: 3): 100%|██████████| 25/25 [00:00<00:00, 25.33it/s]\n",
      "Generating walks (CPU: 4): 100%|██████████| 25/25 [00:00<00:00, 25.42it/s]\n",
      " 56%|█████▋    | 135/240 [47:48<34:51, 19.92s/it]"
     ]
    },
    {
     "name": "stdout",
     "output_type": "stream",
     "text": [
      "[0]\n"
     ]
    },
    {
     "data": {
      "text/plain": [
       "Computing transition probabilities:   0%|          | 0/559 [00:00<?, ?it/s]"
      ],
      "application/vnd.jupyter.widget-view+json": {
       "version_major": 2,
       "version_minor": 0,
       "model_id": "e3b67a8d2b5f47c0b7cd839a5a188854"
      }
     },
     "metadata": {},
     "output_type": "display_data"
    },
    {
     "name": "stderr",
     "output_type": "stream",
     "text": [
      "Generating walks (CPU: 1): 100%|██████████| 25/25 [00:00<00:00, 25.07it/s]\n",
      "Generating walks (CPU: 2): 100%|██████████| 25/25 [00:00<00:00, 25.13it/s]\n",
      "Generating walks (CPU: 3): 100%|██████████| 25/25 [00:00<00:00, 25.22it/s]\n",
      "Generating walks (CPU: 4): 100%|██████████| 25/25 [00:00<00:00, 25.33it/s]\n",
      " 57%|█████▋    | 136/240 [48:07<33:52, 19.54s/it]"
     ]
    },
    {
     "name": "stdout",
     "output_type": "stream",
     "text": [
      "[0]\n"
     ]
    },
    {
     "data": {
      "text/plain": [
       "Computing transition probabilities:   0%|          | 0/559 [00:00<?, ?it/s]"
      ],
      "application/vnd.jupyter.widget-view+json": {
       "version_major": 2,
       "version_minor": 0,
       "model_id": "04dfdec65296483daf24f330e62ccb10"
      }
     },
     "metadata": {},
     "output_type": "display_data"
    },
    {
     "name": "stderr",
     "output_type": "stream",
     "text": [
      "Generating walks (CPU: 1): 100%|██████████| 25/25 [00:00<00:00, 25.04it/s]\n",
      "Generating walks (CPU: 2): 100%|██████████| 25/25 [00:00<00:00, 25.02it/s]\n",
      "Generating walks (CPU: 3): 100%|██████████| 25/25 [00:00<00:00, 25.19it/s]\n",
      "Generating walks (CPU: 4): 100%|██████████| 25/25 [00:00<00:00, 25.44it/s]\n",
      " 57%|█████▋    | 137/240 [48:26<33:33, 19.55s/it]"
     ]
    },
    {
     "name": "stdout",
     "output_type": "stream",
     "text": [
      "[0]\n"
     ]
    },
    {
     "data": {
      "text/plain": [
       "Computing transition probabilities:   0%|          | 0/559 [00:00<?, ?it/s]"
      ],
      "application/vnd.jupyter.widget-view+json": {
       "version_major": 2,
       "version_minor": 0,
       "model_id": "8e37fed94b694f05bebb1928f44f6050"
      }
     },
     "metadata": {},
     "output_type": "display_data"
    },
    {
     "name": "stderr",
     "output_type": "stream",
     "text": [
      "Generating walks (CPU: 1): 100%|██████████| 25/25 [00:00<00:00, 25.23it/s]\n",
      "Generating walks (CPU: 2): 100%|██████████| 25/25 [00:00<00:00, 25.06it/s]\n",
      "Generating walks (CPU: 3): 100%|██████████| 25/25 [00:00<00:00, 25.29it/s]\n",
      "Generating walks (CPU: 4): 100%|██████████| 25/25 [00:00<00:00, 25.38it/s]\n",
      " 57%|█████▊    | 138/240 [48:47<33:40, 19.81s/it]"
     ]
    },
    {
     "name": "stdout",
     "output_type": "stream",
     "text": [
      "[1]\n"
     ]
    },
    {
     "data": {
      "text/plain": [
       "Computing transition probabilities:   0%|          | 0/559 [00:00<?, ?it/s]"
      ],
      "application/vnd.jupyter.widget-view+json": {
       "version_major": 2,
       "version_minor": 0,
       "model_id": "7db1bbe3119840079dc429c9507dab85"
      }
     },
     "metadata": {},
     "output_type": "display_data"
    },
    {
     "name": "stderr",
     "output_type": "stream",
     "text": [
      "Generating walks (CPU: 1): 100%|██████████| 25/25 [00:01<00:00, 24.75it/s]\n",
      "Generating walks (CPU: 2): 100%|██████████| 25/25 [00:01<00:00, 24.66it/s]\n",
      "Generating walks (CPU: 3): 100%|██████████| 25/25 [00:01<00:00, 24.73it/s]\n",
      "Generating walks (CPU: 4): 100%|██████████| 25/25 [00:01<00:00, 24.90it/s]\n",
      " 58%|█████▊    | 139/240 [49:05<32:35, 19.36s/it]"
     ]
    },
    {
     "name": "stdout",
     "output_type": "stream",
     "text": [
      "[0]\n"
     ]
    },
    {
     "data": {
      "text/plain": [
       "Computing transition probabilities:   0%|          | 0/559 [00:00<?, ?it/s]"
      ],
      "application/vnd.jupyter.widget-view+json": {
       "version_major": 2,
       "version_minor": 0,
       "model_id": "004045979d0a44f39757a380423bb3e8"
      }
     },
     "metadata": {},
     "output_type": "display_data"
    },
    {
     "name": "stderr",
     "output_type": "stream",
     "text": [
      "Generating walks (CPU: 1): 100%|██████████| 25/25 [00:01<00:00, 24.82it/s]\n",
      "Generating walks (CPU: 2): 100%|██████████| 25/25 [00:00<00:00, 25.42it/s]\n",
      "Generating walks (CPU: 3): 100%|██████████| 25/25 [00:00<00:00, 25.46it/s]\n",
      "Generating walks (CPU: 4): 100%|██████████| 25/25 [00:01<00:00, 24.42it/s]\n",
      " 58%|█████▊    | 140/240 [49:26<33:10, 19.90s/it]"
     ]
    },
    {
     "name": "stdout",
     "output_type": "stream",
     "text": [
      "[0]\n"
     ]
    },
    {
     "data": {
      "text/plain": [
       "Computing transition probabilities:   0%|          | 0/559 [00:00<?, ?it/s]"
      ],
      "application/vnd.jupyter.widget-view+json": {
       "version_major": 2,
       "version_minor": 0,
       "model_id": "945a57a86ccb4113b1031f6e271b37d4"
      }
     },
     "metadata": {},
     "output_type": "display_data"
    },
    {
     "name": "stderr",
     "output_type": "stream",
     "text": [
      "Generating walks (CPU: 1): 100%|██████████| 25/25 [00:01<00:00, 23.17it/s]\n",
      "Generating walks (CPU: 2): 100%|██████████| 25/25 [00:01<00:00, 23.23it/s]\n",
      "Generating walks (CPU: 3): 100%|██████████| 25/25 [00:01<00:00, 22.80it/s]\n",
      "Generating walks (CPU: 4): 100%|██████████| 25/25 [00:01<00:00, 21.99it/s]\n",
      " 59%|█████▉    | 141/240 [49:47<32:56, 19.97s/it]"
     ]
    },
    {
     "name": "stdout",
     "output_type": "stream",
     "text": [
      "[0]\n"
     ]
    },
    {
     "data": {
      "text/plain": [
       "Computing transition probabilities:   0%|          | 0/559 [00:00<?, ?it/s]"
      ],
      "application/vnd.jupyter.widget-view+json": {
       "version_major": 2,
       "version_minor": 0,
       "model_id": "868ebcbbb0a24f9bb46bf70064d91696"
      }
     },
     "metadata": {},
     "output_type": "display_data"
    },
    {
     "name": "stderr",
     "output_type": "stream",
     "text": [
      "Generating walks (CPU: 1): 100%|██████████| 25/25 [00:00<00:00, 25.15it/s]\n",
      "Generating walks (CPU: 2): 100%|██████████| 25/25 [00:00<00:00, 25.43it/s]\n",
      "Generating walks (CPU: 3): 100%|██████████| 25/25 [00:00<00:00, 25.40it/s]\n",
      "Generating walks (CPU: 4): 100%|██████████| 25/25 [00:00<00:00, 25.48it/s]\n",
      " 59%|█████▉    | 142/240 [50:08<33:20, 20.41s/it]"
     ]
    },
    {
     "name": "stdout",
     "output_type": "stream",
     "text": [
      "[0]\n"
     ]
    },
    {
     "data": {
      "text/plain": [
       "Computing transition probabilities:   0%|          | 0/559 [00:00<?, ?it/s]"
      ],
      "application/vnd.jupyter.widget-view+json": {
       "version_major": 2,
       "version_minor": 0,
       "model_id": "a019c4b178ef457799fffd165c22753f"
      }
     },
     "metadata": {},
     "output_type": "display_data"
    },
    {
     "name": "stderr",
     "output_type": "stream",
     "text": [
      "Generating walks (CPU: 1): 100%|██████████| 25/25 [00:00<00:00, 25.24it/s]\n",
      "Generating walks (CPU: 2): 100%|██████████| 25/25 [00:00<00:00, 25.50it/s]\n",
      "Generating walks (CPU: 3): 100%|██████████| 25/25 [00:00<00:00, 25.48it/s]\n",
      "Generating walks (CPU: 4): 100%|██████████| 25/25 [00:00<00:00, 25.73it/s]\n",
      " 60%|█████▉    | 143/240 [50:27<32:28, 20.09s/it]"
     ]
    },
    {
     "name": "stdout",
     "output_type": "stream",
     "text": [
      "[0]\n"
     ]
    },
    {
     "data": {
      "text/plain": [
       "Computing transition probabilities:   0%|          | 0/559 [00:00<?, ?it/s]"
      ],
      "application/vnd.jupyter.widget-view+json": {
       "version_major": 2,
       "version_minor": 0,
       "model_id": "85d65956c80441639032af23d32c81a3"
      }
     },
     "metadata": {},
     "output_type": "display_data"
    },
    {
     "name": "stderr",
     "output_type": "stream",
     "text": [
      "Generating walks (CPU: 1): 100%|██████████| 25/25 [00:00<00:00, 25.11it/s]\n",
      "Generating walks (CPU: 2): 100%|██████████| 25/25 [00:00<00:00, 25.16it/s]\n",
      "Generating walks (CPU: 3): 100%|██████████| 25/25 [00:01<00:00, 24.84it/s]\n",
      "Generating walks (CPU: 4): 100%|██████████| 25/25 [00:00<00:00, 25.57it/s]\n",
      " 60%|██████    | 144/240 [50:49<33:08, 20.71s/it]"
     ]
    },
    {
     "name": "stdout",
     "output_type": "stream",
     "text": [
      "[0]\n"
     ]
    },
    {
     "data": {
      "text/plain": [
       "Computing transition probabilities:   0%|          | 0/559 [00:00<?, ?it/s]"
      ],
      "application/vnd.jupyter.widget-view+json": {
       "version_major": 2,
       "version_minor": 0,
       "model_id": "0a2b30ab599a44c797464d62e47fedb2"
      }
     },
     "metadata": {},
     "output_type": "display_data"
    },
    {
     "name": "stderr",
     "output_type": "stream",
     "text": [
      "Generating walks (CPU: 1): 100%|██████████| 25/25 [00:01<00:00, 23.38it/s]\n",
      "Generating walks (CPU: 2): 100%|██████████| 25/25 [00:01<00:00, 24.23it/s]\n",
      "Generating walks (CPU: 3): 100%|██████████| 25/25 [00:01<00:00, 24.40it/s]\n",
      "Generating walks (CPU: 4): 100%|██████████| 25/25 [00:01<00:00, 24.64it/s]\n",
      " 60%|██████    | 145/240 [51:10<32:28, 20.51s/it]"
     ]
    },
    {
     "name": "stdout",
     "output_type": "stream",
     "text": [
      "[0]\n"
     ]
    },
    {
     "data": {
      "text/plain": [
       "Computing transition probabilities:   0%|          | 0/559 [00:00<?, ?it/s]"
      ],
      "application/vnd.jupyter.widget-view+json": {
       "version_major": 2,
       "version_minor": 0,
       "model_id": "f10d90d61c6c4742b36314f3efadec15"
      }
     },
     "metadata": {},
     "output_type": "display_data"
    },
    {
     "name": "stderr",
     "output_type": "stream",
     "text": [
      "Generating walks (CPU: 1): 100%|██████████| 25/25 [00:00<00:00, 25.03it/s]\n",
      "Generating walks (CPU: 2): 100%|██████████| 25/25 [00:00<00:00, 25.14it/s]\n",
      "Generating walks (CPU: 3): 100%|██████████| 25/25 [00:00<00:00, 25.04it/s]\n",
      "Generating walks (CPU: 4): 100%|██████████| 25/25 [00:00<00:00, 25.40it/s]\n",
      " 61%|██████    | 146/240 [51:31<32:45, 20.91s/it]"
     ]
    },
    {
     "name": "stdout",
     "output_type": "stream",
     "text": [
      "[1]\n"
     ]
    },
    {
     "data": {
      "text/plain": [
       "Computing transition probabilities:   0%|          | 0/559 [00:00<?, ?it/s]"
      ],
      "application/vnd.jupyter.widget-view+json": {
       "version_major": 2,
       "version_minor": 0,
       "model_id": "e3c08ac0ff16474b932fe91bfbcce769"
      }
     },
     "metadata": {},
     "output_type": "display_data"
    },
    {
     "name": "stderr",
     "output_type": "stream",
     "text": [
      "Generating walks (CPU: 1): 100%|██████████| 25/25 [00:01<00:00, 24.83it/s]\n",
      "Generating walks (CPU: 2): 100%|██████████| 25/25 [00:01<00:00, 23.88it/s]\n",
      "Generating walks (CPU: 3): 100%|██████████| 25/25 [00:01<00:00, 23.81it/s]\n",
      "Generating walks (CPU: 4): 100%|██████████| 25/25 [00:01<00:00, 23.90it/s]\n",
      " 61%|██████▏   | 147/240 [51:52<32:27, 20.95s/it]"
     ]
    },
    {
     "name": "stdout",
     "output_type": "stream",
     "text": [
      "[0]\n"
     ]
    },
    {
     "data": {
      "text/plain": [
       "Computing transition probabilities:   0%|          | 0/559 [00:00<?, ?it/s]"
      ],
      "application/vnd.jupyter.widget-view+json": {
       "version_major": 2,
       "version_minor": 0,
       "model_id": "13c0b398ee0f4686a87455034161ab18"
      }
     },
     "metadata": {},
     "output_type": "display_data"
    },
    {
     "name": "stderr",
     "output_type": "stream",
     "text": [
      "Generating walks (CPU: 1): 100%|██████████| 25/25 [00:00<00:00, 25.30it/s]\n",
      "Generating walks (CPU: 2): 100%|██████████| 25/25 [00:00<00:00, 25.51it/s]\n",
      "Generating walks (CPU: 3): 100%|██████████| 25/25 [00:00<00:00, 25.51it/s]\n",
      "Generating walks (CPU: 4): 100%|██████████| 25/25 [00:00<00:00, 25.57it/s]\n",
      " 62%|██████▏   | 148/240 [52:14<32:25, 21.15s/it]"
     ]
    },
    {
     "name": "stdout",
     "output_type": "stream",
     "text": [
      "[0]\n"
     ]
    },
    {
     "data": {
      "text/plain": [
       "Computing transition probabilities:   0%|          | 0/559 [00:00<?, ?it/s]"
      ],
      "application/vnd.jupyter.widget-view+json": {
       "version_major": 2,
       "version_minor": 0,
       "model_id": "b5285f823cae43abba3491b75f0ef3d7"
      }
     },
     "metadata": {},
     "output_type": "display_data"
    },
    {
     "name": "stderr",
     "output_type": "stream",
     "text": [
      "Generating walks (CPU: 1): 100%|██████████| 25/25 [00:01<00:00, 24.55it/s]\n",
      "Generating walks (CPU: 2): 100%|██████████| 25/25 [00:01<00:00, 24.58it/s]\n",
      "Generating walks (CPU: 3): 100%|██████████| 25/25 [00:01<00:00, 24.61it/s]\n",
      "Generating walks (CPU: 4): 100%|██████████| 25/25 [00:00<00:00, 25.49it/s]\n",
      " 62%|██████▏   | 149/240 [52:34<31:45, 20.94s/it]"
     ]
    },
    {
     "name": "stdout",
     "output_type": "stream",
     "text": [
      "[0]\n"
     ]
    },
    {
     "data": {
      "text/plain": [
       "Computing transition probabilities:   0%|          | 0/559 [00:00<?, ?it/s]"
      ],
      "application/vnd.jupyter.widget-view+json": {
       "version_major": 2,
       "version_minor": 0,
       "model_id": "38ce49ad09244db09ba1894d6cdf8ed4"
      }
     },
     "metadata": {},
     "output_type": "display_data"
    },
    {
     "name": "stderr",
     "output_type": "stream",
     "text": [
      "Generating walks (CPU: 1): 100%|██████████| 25/25 [00:00<00:00, 25.23it/s]\n",
      "Generating walks (CPU: 2): 100%|██████████| 25/25 [00:01<00:00, 24.38it/s]\n",
      "Generating walks (CPU: 3): 100%|██████████| 25/25 [00:00<00:00, 25.30it/s]\n",
      "Generating walks (CPU: 4): 100%|██████████| 25/25 [00:00<00:00, 25.38it/s]\n",
      " 62%|██████▎   | 150/240 [52:55<31:17, 20.86s/it]"
     ]
    },
    {
     "name": "stdout",
     "output_type": "stream",
     "text": [
      "[0]\n"
     ]
    },
    {
     "data": {
      "text/plain": [
       "Computing transition probabilities:   0%|          | 0/559 [00:00<?, ?it/s]"
      ],
      "application/vnd.jupyter.widget-view+json": {
       "version_major": 2,
       "version_minor": 0,
       "model_id": "bb0a0608564b49f4ac06256ddb08acd1"
      }
     },
     "metadata": {},
     "output_type": "display_data"
    },
    {
     "name": "stderr",
     "output_type": "stream",
     "text": [
      "Generating walks (CPU: 1): 100%|██████████| 25/25 [00:01<00:00, 22.92it/s]\n",
      "Generating walks (CPU: 2): 100%|██████████| 25/25 [00:01<00:00, 23.76it/s]\n",
      "Generating walks (CPU: 3): 100%|██████████| 25/25 [00:01<00:00, 24.41it/s]\n",
      "Generating walks (CPU: 4): 100%|██████████| 25/25 [00:01<00:00, 24.76it/s]\n",
      " 63%|██████▎   | 151/240 [53:15<30:26, 20.52s/it]"
     ]
    },
    {
     "name": "stdout",
     "output_type": "stream",
     "text": [
      "[0]\n"
     ]
    },
    {
     "data": {
      "text/plain": [
       "Computing transition probabilities:   0%|          | 0/559 [00:00<?, ?it/s]"
      ],
      "application/vnd.jupyter.widget-view+json": {
       "version_major": 2,
       "version_minor": 0,
       "model_id": "39bc7b3d030c4920adb0313e17e19e0e"
      }
     },
     "metadata": {},
     "output_type": "display_data"
    },
    {
     "name": "stderr",
     "output_type": "stream",
     "text": [
      "Generating walks (CPU: 1): 100%|██████████| 25/25 [00:00<00:00, 25.44it/s]\n",
      "Generating walks (CPU: 2): 100%|██████████| 25/25 [00:00<00:00, 25.54it/s]\n",
      "Generating walks (CPU: 3): 100%|██████████| 25/25 [00:00<00:00, 25.66it/s]\n",
      "Generating walks (CPU: 4): 100%|██████████| 25/25 [00:00<00:00, 25.81it/s]\n",
      " 63%|██████▎   | 152/240 [53:34<29:39, 20.22s/it]"
     ]
    },
    {
     "name": "stdout",
     "output_type": "stream",
     "text": [
      "[0]\n"
     ]
    },
    {
     "data": {
      "text/plain": [
       "Computing transition probabilities:   0%|          | 0/559 [00:00<?, ?it/s]"
      ],
      "application/vnd.jupyter.widget-view+json": {
       "version_major": 2,
       "version_minor": 0,
       "model_id": "d6eedc980d7b4b2191265f1a4310e0aa"
      }
     },
     "metadata": {},
     "output_type": "display_data"
    },
    {
     "name": "stderr",
     "output_type": "stream",
     "text": [
      "Generating walks (CPU: 1): 100%|██████████| 25/25 [00:00<00:00, 25.49it/s]\n",
      "Generating walks (CPU: 2): 100%|██████████| 25/25 [00:00<00:00, 25.32it/s]\n",
      "Generating walks (CPU: 3): 100%|██████████| 25/25 [00:00<00:00, 25.65it/s]\n",
      "Generating walks (CPU: 4): 100%|██████████| 25/25 [00:00<00:00, 25.79it/s]\n",
      " 64%|██████▍   | 153/240 [53:54<29:11, 20.14s/it]"
     ]
    },
    {
     "name": "stdout",
     "output_type": "stream",
     "text": [
      "[0]\n"
     ]
    },
    {
     "data": {
      "text/plain": [
       "Computing transition probabilities:   0%|          | 0/559 [00:00<?, ?it/s]"
      ],
      "application/vnd.jupyter.widget-view+json": {
       "version_major": 2,
       "version_minor": 0,
       "model_id": "7db6a5f23874433f994de2679d4f1f44"
      }
     },
     "metadata": {},
     "output_type": "display_data"
    },
    {
     "name": "stderr",
     "output_type": "stream",
     "text": [
      "Generating walks (CPU: 1): 100%|██████████| 25/25 [00:00<00:00, 25.40it/s]\n",
      "Generating walks (CPU: 2): 100%|██████████| 25/25 [00:00<00:00, 25.39it/s]\n",
      "Generating walks (CPU: 3): 100%|██████████| 25/25 [00:00<00:00, 25.50it/s]\n",
      "Generating walks (CPU: 4): 100%|██████████| 25/25 [00:00<00:00, 25.67it/s]\n",
      " 64%|██████▍   | 154/240 [54:14<28:49, 20.11s/it]"
     ]
    },
    {
     "name": "stdout",
     "output_type": "stream",
     "text": [
      "[0]\n"
     ]
    },
    {
     "data": {
      "text/plain": [
       "Computing transition probabilities:   0%|          | 0/559 [00:00<?, ?it/s]"
      ],
      "application/vnd.jupyter.widget-view+json": {
       "version_major": 2,
       "version_minor": 0,
       "model_id": "7cd8c36f3b9a49dcac94641bbef525ee"
      }
     },
     "metadata": {},
     "output_type": "display_data"
    },
    {
     "name": "stderr",
     "output_type": "stream",
     "text": [
      "Generating walks (CPU: 1): 100%|██████████| 25/25 [00:00<00:00, 25.17it/s]\n",
      "Generating walks (CPU: 2): 100%|██████████| 25/25 [00:00<00:00, 25.45it/s]\n",
      "Generating walks (CPU: 3): 100%|██████████| 25/25 [00:00<00:00, 25.44it/s]\n",
      "Generating walks (CPU: 4): 100%|██████████| 25/25 [00:00<00:00, 25.83it/s]\n",
      " 65%|██████▍   | 155/240 [54:35<28:36, 20.19s/it]"
     ]
    },
    {
     "name": "stdout",
     "output_type": "stream",
     "text": [
      "[0]\n"
     ]
    },
    {
     "data": {
      "text/plain": [
       "Computing transition probabilities:   0%|          | 0/559 [00:00<?, ?it/s]"
      ],
      "application/vnd.jupyter.widget-view+json": {
       "version_major": 2,
       "version_minor": 0,
       "model_id": "9fdda92c601142da9c7529c08716e9bc"
      }
     },
     "metadata": {},
     "output_type": "display_data"
    },
    {
     "name": "stderr",
     "output_type": "stream",
     "text": [
      "Generating walks (CPU: 1): 100%|██████████| 25/25 [00:00<00:00, 25.46it/s]\n",
      "Generating walks (CPU: 2): 100%|██████████| 25/25 [00:00<00:00, 25.48it/s]\n",
      "Generating walks (CPU: 3): 100%|██████████| 25/25 [00:00<00:00, 25.61it/s]\n",
      "Generating walks (CPU: 4): 100%|██████████| 25/25 [00:00<00:00, 25.80it/s]\n",
      " 65%|██████▌   | 156/240 [54:54<28:05, 20.06s/it]"
     ]
    },
    {
     "name": "stdout",
     "output_type": "stream",
     "text": [
      "[0]\n"
     ]
    },
    {
     "data": {
      "text/plain": [
       "Computing transition probabilities:   0%|          | 0/559 [00:00<?, ?it/s]"
      ],
      "application/vnd.jupyter.widget-view+json": {
       "version_major": 2,
       "version_minor": 0,
       "model_id": "35df2a65436c45aeb4e607742dbda198"
      }
     },
     "metadata": {},
     "output_type": "display_data"
    },
    {
     "name": "stderr",
     "output_type": "stream",
     "text": [
      "Generating walks (CPU: 1): 100%|██████████| 25/25 [00:00<00:00, 25.34it/s]\n",
      "Generating walks (CPU: 2): 100%|██████████| 25/25 [00:00<00:00, 25.50it/s]\n",
      "Generating walks (CPU: 3): 100%|██████████| 25/25 [00:00<00:00, 25.50it/s]\n",
      "Generating walks (CPU: 4): 100%|██████████| 25/25 [00:00<00:00, 25.85it/s]\n",
      " 65%|██████▌   | 157/240 [55:13<27:17, 19.73s/it]"
     ]
    },
    {
     "name": "stdout",
     "output_type": "stream",
     "text": [
      "[0]\n"
     ]
    },
    {
     "data": {
      "text/plain": [
       "Computing transition probabilities:   0%|          | 0/559 [00:00<?, ?it/s]"
      ],
      "application/vnd.jupyter.widget-view+json": {
       "version_major": 2,
       "version_minor": 0,
       "model_id": "0215e33db72f4d21aba7724e66f1a9ff"
      }
     },
     "metadata": {},
     "output_type": "display_data"
    },
    {
     "name": "stderr",
     "output_type": "stream",
     "text": [
      "Generating walks (CPU: 1): 100%|██████████| 25/25 [00:00<00:00, 25.32it/s]\n",
      "Generating walks (CPU: 2): 100%|██████████| 25/25 [00:00<00:00, 25.65it/s]\n",
      "Generating walks (CPU: 3): 100%|██████████| 25/25 [00:00<00:00, 25.60it/s]\n",
      "Generating walks (CPU: 4): 100%|██████████| 25/25 [00:00<00:00, 25.74it/s]\n",
      " 66%|██████▌   | 158/240 [55:33<26:59, 19.75s/it]"
     ]
    },
    {
     "name": "stdout",
     "output_type": "stream",
     "text": [
      "[0]\n"
     ]
    },
    {
     "data": {
      "text/plain": [
       "Computing transition probabilities:   0%|          | 0/559 [00:00<?, ?it/s]"
      ],
      "application/vnd.jupyter.widget-view+json": {
       "version_major": 2,
       "version_minor": 0,
       "model_id": "e00ded1ab3ae4a958ee25203c6bbaed1"
      }
     },
     "metadata": {},
     "output_type": "display_data"
    },
    {
     "name": "stderr",
     "output_type": "stream",
     "text": [
      "Generating walks (CPU: 1): 100%|██████████| 25/25 [00:00<00:00, 25.44it/s]\n",
      "Generating walks (CPU: 2): 100%|██████████| 25/25 [00:00<00:00, 25.64it/s]\n",
      "Generating walks (CPU: 3): 100%|██████████| 25/25 [00:00<00:00, 25.65it/s]\n",
      "Generating walks (CPU: 4): 100%|██████████| 25/25 [00:00<00:00, 25.71it/s]\n",
      " 66%|██████▋   | 159/240 [55:52<26:07, 19.35s/it]"
     ]
    },
    {
     "name": "stdout",
     "output_type": "stream",
     "text": [
      "[0]\n"
     ]
    },
    {
     "data": {
      "text/plain": [
       "Computing transition probabilities:   0%|          | 0/559 [00:00<?, ?it/s]"
      ],
      "application/vnd.jupyter.widget-view+json": {
       "version_major": 2,
       "version_minor": 0,
       "model_id": "862dc68d720c4bc4a01f0ce7aab6b379"
      }
     },
     "metadata": {},
     "output_type": "display_data"
    },
    {
     "name": "stderr",
     "output_type": "stream",
     "text": [
      "Generating walks (CPU: 1): 100%|██████████| 25/25 [00:00<00:00, 25.36it/s]\n",
      "Generating walks (CPU: 2): 100%|██████████| 25/25 [00:00<00:00, 25.44it/s]\n",
      "Generating walks (CPU: 3): 100%|██████████| 25/25 [00:00<00:00, 25.51it/s]\n",
      "Generating walks (CPU: 4): 100%|██████████| 25/25 [00:00<00:00, 25.77it/s]\n",
      " 67%|██████▋   | 160/240 [56:11<25:55, 19.45s/it]"
     ]
    },
    {
     "name": "stdout",
     "output_type": "stream",
     "text": [
      "[0]\n"
     ]
    },
    {
     "data": {
      "text/plain": [
       "Computing transition probabilities:   0%|          | 0/559 [00:00<?, ?it/s]"
      ],
      "application/vnd.jupyter.widget-view+json": {
       "version_major": 2,
       "version_minor": 0,
       "model_id": "5caaf4bdb2804a7a8e755dbe2d7fcb52"
      }
     },
     "metadata": {},
     "output_type": "display_data"
    },
    {
     "name": "stderr",
     "output_type": "stream",
     "text": [
      "Generating walks (CPU: 1): 100%|██████████| 25/25 [00:00<00:00, 25.44it/s]\n",
      "Generating walks (CPU: 2): 100%|██████████| 25/25 [00:00<00:00, 25.51it/s]\n",
      "Generating walks (CPU: 3): 100%|██████████| 25/25 [00:00<00:00, 25.64it/s]\n",
      "Generating walks (CPU: 4): 100%|██████████| 25/25 [00:00<00:00, 25.77it/s]\n",
      " 67%|██████▋   | 161/240 [56:31<25:44, 19.55s/it]"
     ]
    },
    {
     "name": "stdout",
     "output_type": "stream",
     "text": [
      "[0]\n"
     ]
    },
    {
     "data": {
      "text/plain": [
       "Computing transition probabilities:   0%|          | 0/559 [00:00<?, ?it/s]"
      ],
      "application/vnd.jupyter.widget-view+json": {
       "version_major": 2,
       "version_minor": 0,
       "model_id": "53683c2add384bb6a2eb9f1ca87f15a8"
      }
     },
     "metadata": {},
     "output_type": "display_data"
    },
    {
     "name": "stderr",
     "output_type": "stream",
     "text": [
      "Generating walks (CPU: 1): 100%|██████████| 25/25 [00:01<00:00, 24.68it/s]\n",
      "Generating walks (CPU: 2): 100%|██████████| 25/25 [00:01<00:00, 24.85it/s]\n",
      "Generating walks (CPU: 3): 100%|██████████| 25/25 [00:00<00:00, 25.05it/s]\n",
      "Generating walks (CPU: 4): 100%|██████████| 25/25 [00:01<00:00, 24.91it/s]\n",
      " 68%|██████▊   | 162/240 [56:52<26:02, 20.03s/it]"
     ]
    },
    {
     "name": "stdout",
     "output_type": "stream",
     "text": [
      "[0]\n"
     ]
    },
    {
     "data": {
      "text/plain": [
       "Computing transition probabilities:   0%|          | 0/559 [00:00<?, ?it/s]"
      ],
      "application/vnd.jupyter.widget-view+json": {
       "version_major": 2,
       "version_minor": 0,
       "model_id": "b3a4289347134cc685be467890d82d07"
      }
     },
     "metadata": {},
     "output_type": "display_data"
    },
    {
     "name": "stderr",
     "output_type": "stream",
     "text": [
      "Generating walks (CPU: 1): 100%|██████████| 25/25 [00:00<00:00, 25.36it/s]\n",
      "Generating walks (CPU: 2): 100%|██████████| 25/25 [00:00<00:00, 25.44it/s]\n",
      "Generating walks (CPU: 3): 100%|██████████| 25/25 [00:00<00:00, 25.65it/s]\n",
      "Generating walks (CPU: 4): 100%|██████████| 25/25 [00:00<00:00, 25.86it/s]\n",
      " 68%|██████▊   | 163/240 [57:12<25:27, 19.84s/it]"
     ]
    },
    {
     "name": "stdout",
     "output_type": "stream",
     "text": [
      "[0]\n"
     ]
    },
    {
     "data": {
      "text/plain": [
       "Computing transition probabilities:   0%|          | 0/559 [00:00<?, ?it/s]"
      ],
      "application/vnd.jupyter.widget-view+json": {
       "version_major": 2,
       "version_minor": 0,
       "model_id": "b2e7933f317d43b3aa533cb862d37b44"
      }
     },
     "metadata": {},
     "output_type": "display_data"
    },
    {
     "name": "stderr",
     "output_type": "stream",
     "text": [
      "Generating walks (CPU: 1): 100%|██████████| 25/25 [00:01<00:00, 24.61it/s]\n",
      "Generating walks (CPU: 2): 100%|██████████| 25/25 [00:01<00:00, 24.34it/s]\n",
      "Generating walks (CPU: 3): 100%|██████████| 25/25 [00:01<00:00, 24.36it/s]\n",
      "Generating walks (CPU: 4): 100%|██████████| 25/25 [00:00<00:00, 25.25it/s]\n",
      " 68%|██████▊   | 164/240 [57:33<25:34, 20.19s/it]"
     ]
    },
    {
     "name": "stdout",
     "output_type": "stream",
     "text": [
      "[0]\n"
     ]
    },
    {
     "data": {
      "text/plain": [
       "Computing transition probabilities:   0%|          | 0/559 [00:00<?, ?it/s]"
      ],
      "application/vnd.jupyter.widget-view+json": {
       "version_major": 2,
       "version_minor": 0,
       "model_id": "71fd56903050414fa66a48709b63f596"
      }
     },
     "metadata": {},
     "output_type": "display_data"
    },
    {
     "name": "stderr",
     "output_type": "stream",
     "text": [
      "Generating walks (CPU: 1): 100%|██████████| 25/25 [00:00<00:00, 25.09it/s]\n",
      "Generating walks (CPU: 2): 100%|██████████| 25/25 [00:00<00:00, 25.01it/s]\n",
      "Generating walks (CPU: 3): 100%|██████████| 25/25 [00:00<00:00, 25.44it/s]\n",
      "Generating walks (CPU: 4): 100%|██████████| 25/25 [00:00<00:00, 25.57it/s]\n",
      " 69%|██████▉   | 165/240 [57:53<25:25, 20.35s/it]"
     ]
    },
    {
     "name": "stdout",
     "output_type": "stream",
     "text": [
      "[0]\n"
     ]
    },
    {
     "data": {
      "text/plain": [
       "Computing transition probabilities:   0%|          | 0/559 [00:00<?, ?it/s]"
      ],
      "application/vnd.jupyter.widget-view+json": {
       "version_major": 2,
       "version_minor": 0,
       "model_id": "de2acd46b9364040994d30b3b87cd3f1"
      }
     },
     "metadata": {},
     "output_type": "display_data"
    },
    {
     "name": "stderr",
     "output_type": "stream",
     "text": [
      "Generating walks (CPU: 1): 100%|██████████| 25/25 [00:01<00:00, 23.49it/s]\n",
      "Generating walks (CPU: 2): 100%|██████████| 25/25 [00:00<00:00, 25.12it/s]\n",
      "Generating walks (CPU: 3): 100%|██████████| 25/25 [00:00<00:00, 25.07it/s]\n",
      "Generating walks (CPU: 4): 100%|██████████| 25/25 [00:00<00:00, 25.49it/s]\n",
      " 69%|██████▉   | 166/240 [58:14<25:09, 20.41s/it]"
     ]
    },
    {
     "name": "stdout",
     "output_type": "stream",
     "text": [
      "[0]\n"
     ]
    },
    {
     "data": {
      "text/plain": [
       "Computing transition probabilities:   0%|          | 0/559 [00:00<?, ?it/s]"
      ],
      "application/vnd.jupyter.widget-view+json": {
       "version_major": 2,
       "version_minor": 0,
       "model_id": "8224e9f2d90647c4849386dcca9c41a2"
      }
     },
     "metadata": {},
     "output_type": "display_data"
    },
    {
     "name": "stderr",
     "output_type": "stream",
     "text": [
      "Generating walks (CPU: 1): 100%|██████████| 25/25 [00:00<00:00, 25.17it/s]\n",
      "Generating walks (CPU: 2): 100%|██████████| 25/25 [00:01<00:00, 24.97it/s]\n",
      "Generating walks (CPU: 3): 100%|██████████| 25/25 [00:00<00:00, 25.25it/s]\n",
      "Generating walks (CPU: 4): 100%|██████████| 25/25 [00:00<00:00, 25.36it/s]\n",
      " 70%|██████▉   | 167/240 [58:34<24:52, 20.44s/it]"
     ]
    },
    {
     "name": "stdout",
     "output_type": "stream",
     "text": [
      "[0]\n"
     ]
    },
    {
     "data": {
      "text/plain": [
       "Computing transition probabilities:   0%|          | 0/559 [00:00<?, ?it/s]"
      ],
      "application/vnd.jupyter.widget-view+json": {
       "version_major": 2,
       "version_minor": 0,
       "model_id": "021c077eb72140e19de371a16000a0b7"
      }
     },
     "metadata": {},
     "output_type": "display_data"
    },
    {
     "name": "stderr",
     "output_type": "stream",
     "text": [
      "Generating walks (CPU: 1): 100%|██████████| 25/25 [00:01<00:00, 24.31it/s]\n",
      "Generating walks (CPU: 2): 100%|██████████| 25/25 [00:01<00:00, 24.26it/s]\n",
      "Generating walks (CPU: 3): 100%|██████████| 25/25 [00:01<00:00, 24.16it/s]\n",
      "Generating walks (CPU: 4): 100%|██████████| 25/25 [00:01<00:00, 23.90it/s]\n",
      " 70%|███████   | 168/240 [58:55<24:41, 20.57s/it]"
     ]
    },
    {
     "name": "stdout",
     "output_type": "stream",
     "text": [
      "[0]\n"
     ]
    },
    {
     "data": {
      "text/plain": [
       "Computing transition probabilities:   0%|          | 0/559 [00:00<?, ?it/s]"
      ],
      "application/vnd.jupyter.widget-view+json": {
       "version_major": 2,
       "version_minor": 0,
       "model_id": "713e4aa2b12f4fda888fc2b0e3ddcb02"
      }
     },
     "metadata": {},
     "output_type": "display_data"
    },
    {
     "name": "stderr",
     "output_type": "stream",
     "text": [
      "Generating walks (CPU: 1): 100%|██████████| 25/25 [00:00<00:00, 25.11it/s]\n",
      "Generating walks (CPU: 2): 100%|██████████| 25/25 [00:00<00:00, 25.37it/s]\n",
      "Generating walks (CPU: 3): 100%|██████████| 25/25 [00:00<00:00, 25.44it/s]\n",
      "Generating walks (CPU: 4): 100%|██████████| 25/25 [00:00<00:00, 25.49it/s]\n",
      " 70%|███████   | 169/240 [59:17<24:45, 20.92s/it]"
     ]
    },
    {
     "name": "stdout",
     "output_type": "stream",
     "text": [
      "[0]\n"
     ]
    },
    {
     "data": {
      "text/plain": [
       "Computing transition probabilities:   0%|          | 0/559 [00:00<?, ?it/s]"
      ],
      "application/vnd.jupyter.widget-view+json": {
       "version_major": 2,
       "version_minor": 0,
       "model_id": "f0d8cdef744f4dbc8d214656d2ee023b"
      }
     },
     "metadata": {},
     "output_type": "display_data"
    },
    {
     "name": "stderr",
     "output_type": "stream",
     "text": [
      "Generating walks (CPU: 1): 100%|██████████| 25/25 [00:00<00:00, 25.42it/s]\n",
      "Generating walks (CPU: 2): 100%|██████████| 25/25 [00:00<00:00, 25.53it/s]\n",
      "Generating walks (CPU: 3): 100%|██████████| 25/25 [00:00<00:00, 25.52it/s]\n",
      "Generating walks (CPU: 4): 100%|██████████| 25/25 [00:00<00:00, 25.71it/s]\n",
      " 71%|███████   | 170/240 [59:38<24:22, 20.89s/it]"
     ]
    },
    {
     "name": "stdout",
     "output_type": "stream",
     "text": [
      "[0]\n"
     ]
    },
    {
     "data": {
      "text/plain": [
       "Computing transition probabilities:   0%|          | 0/559 [00:00<?, ?it/s]"
      ],
      "application/vnd.jupyter.widget-view+json": {
       "version_major": 2,
       "version_minor": 0,
       "model_id": "01c899dc151d4ae2a9783ec4ad8662ce"
      }
     },
     "metadata": {},
     "output_type": "display_data"
    },
    {
     "name": "stderr",
     "output_type": "stream",
     "text": [
      "Generating walks (CPU: 1): 100%|██████████| 25/25 [00:01<00:00, 24.63it/s]\n",
      "Generating walks (CPU: 2): 100%|██████████| 25/25 [00:01<00:00, 24.66it/s]\n",
      "Generating walks (CPU: 3): 100%|██████████| 25/25 [00:00<00:00, 25.33it/s]\n",
      "Generating walks (CPU: 4): 100%|██████████| 25/25 [00:00<00:00, 25.63it/s]\n",
      " 71%|███████▏  | 171/240 [59:59<24:00, 20.88s/it]"
     ]
    },
    {
     "name": "stdout",
     "output_type": "stream",
     "text": [
      "[0]\n"
     ]
    },
    {
     "data": {
      "text/plain": [
       "Computing transition probabilities:   0%|          | 0/559 [00:00<?, ?it/s]"
      ],
      "application/vnd.jupyter.widget-view+json": {
       "version_major": 2,
       "version_minor": 0,
       "model_id": "9ba4a76763ed46c6a4d0e81bb2cffce0"
      }
     },
     "metadata": {},
     "output_type": "display_data"
    },
    {
     "name": "stderr",
     "output_type": "stream",
     "text": [
      "Generating walks (CPU: 1): 100%|██████████| 25/25 [00:01<00:00, 24.90it/s]\n",
      "Generating walks (CPU: 2): 100%|██████████| 25/25 [00:00<00:00, 25.11it/s]\n",
      "Generating walks (CPU: 3): 100%|██████████| 25/25 [00:00<00:00, 25.39it/s]\n",
      "Generating walks (CPU: 4): 100%|██████████| 25/25 [00:00<00:00, 25.70it/s]\n",
      " 72%|███████▏  | 172/240 [1:00:18<23:00, 20.30s/it]"
     ]
    },
    {
     "name": "stdout",
     "output_type": "stream",
     "text": [
      "[0]\n"
     ]
    },
    {
     "data": {
      "text/plain": [
       "Computing transition probabilities:   0%|          | 0/559 [00:00<?, ?it/s]"
      ],
      "application/vnd.jupyter.widget-view+json": {
       "version_major": 2,
       "version_minor": 0,
       "model_id": "6d6113a98a4340abbce3c8d4971b6624"
      }
     },
     "metadata": {},
     "output_type": "display_data"
    },
    {
     "name": "stderr",
     "output_type": "stream",
     "text": [
      "Generating walks (CPU: 1): 100%|██████████| 25/25 [00:01<00:00, 24.97it/s]\n",
      "Generating walks (CPU: 2): 100%|██████████| 25/25 [00:01<00:00, 24.02it/s]\n",
      "Generating walks (CPU: 3): 100%|██████████| 25/25 [00:01<00:00, 24.03it/s]\n",
      "Generating walks (CPU: 4): 100%|██████████| 25/25 [00:01<00:00, 24.19it/s]\n",
      " 72%|███████▏  | 173/240 [1:00:40<23:16, 20.85s/it]"
     ]
    },
    {
     "name": "stdout",
     "output_type": "stream",
     "text": [
      "[0]\n"
     ]
    },
    {
     "data": {
      "text/plain": [
       "Computing transition probabilities:   0%|          | 0/559 [00:00<?, ?it/s]"
      ],
      "application/vnd.jupyter.widget-view+json": {
       "version_major": 2,
       "version_minor": 0,
       "model_id": "946c50239d1a4258bfe57ccb25958841"
      }
     },
     "metadata": {},
     "output_type": "display_data"
    },
    {
     "name": "stderr",
     "output_type": "stream",
     "text": [
      "Generating walks (CPU: 1): 100%|██████████| 25/25 [00:00<00:00, 25.05it/s]\n",
      "Generating walks (CPU: 2): 100%|██████████| 25/25 [00:01<00:00, 24.99it/s]\n",
      "Generating walks (CPU: 3): 100%|██████████| 25/25 [00:00<00:00, 25.29it/s]\n",
      "Generating walks (CPU: 4): 100%|██████████| 25/25 [00:00<00:00, 25.38it/s]\n",
      " 72%|███████▎  | 174/240 [1:01:01<23:06, 21.01s/it]"
     ]
    },
    {
     "name": "stdout",
     "output_type": "stream",
     "text": [
      "[0]\n"
     ]
    },
    {
     "data": {
      "text/plain": [
       "Computing transition probabilities:   0%|          | 0/559 [00:00<?, ?it/s]"
      ],
      "application/vnd.jupyter.widget-view+json": {
       "version_major": 2,
       "version_minor": 0,
       "model_id": "b2b415b71fc94a339e42f7506907e11f"
      }
     },
     "metadata": {},
     "output_type": "display_data"
    },
    {
     "name": "stderr",
     "output_type": "stream",
     "text": [
      "Generating walks (CPU: 1): 100%|██████████| 25/25 [00:00<00:00, 25.11it/s]\n",
      "Generating walks (CPU: 2): 100%|██████████| 25/25 [00:00<00:00, 25.04it/s]\n",
      "Generating walks (CPU: 3): 100%|██████████| 25/25 [00:00<00:00, 25.07it/s]\n",
      "Generating walks (CPU: 4): 100%|██████████| 25/25 [00:00<00:00, 25.40it/s]\n",
      " 73%|███████▎  | 175/240 [1:01:22<22:50, 21.09s/it]"
     ]
    },
    {
     "name": "stdout",
     "output_type": "stream",
     "text": [
      "[0]\n"
     ]
    },
    {
     "data": {
      "text/plain": [
       "Computing transition probabilities:   0%|          | 0/559 [00:00<?, ?it/s]"
      ],
      "application/vnd.jupyter.widget-view+json": {
       "version_major": 2,
       "version_minor": 0,
       "model_id": "032885313b25458e99b33194b2d7ec20"
      }
     },
     "metadata": {},
     "output_type": "display_data"
    },
    {
     "name": "stderr",
     "output_type": "stream",
     "text": [
      "Generating walks (CPU: 1): 100%|██████████| 25/25 [00:00<00:00, 25.02it/s]\n",
      "Generating walks (CPU: 2): 100%|██████████| 25/25 [00:00<00:00, 25.01it/s]\n",
      "Generating walks (CPU: 3): 100%|██████████| 25/25 [00:01<00:00, 24.79it/s]\n",
      "Generating walks (CPU: 4): 100%|██████████| 25/25 [00:00<00:00, 25.01it/s]\n",
      " 73%|███████▎  | 176/240 [1:01:44<22:39, 21.25s/it]"
     ]
    },
    {
     "name": "stdout",
     "output_type": "stream",
     "text": [
      "[0]\n"
     ]
    },
    {
     "data": {
      "text/plain": [
       "Computing transition probabilities:   0%|          | 0/559 [00:00<?, ?it/s]"
      ],
      "application/vnd.jupyter.widget-view+json": {
       "version_major": 2,
       "version_minor": 0,
       "model_id": "5c9ca31cb5bc4308ab5bc05190492bb7"
      }
     },
     "metadata": {},
     "output_type": "display_data"
    },
    {
     "name": "stderr",
     "output_type": "stream",
     "text": [
      "Generating walks (CPU: 1): 100%|██████████| 25/25 [00:01<00:00, 22.51it/s]\n",
      "Generating walks (CPU: 2): 100%|██████████| 25/25 [00:01<00:00, 22.48it/s]\n",
      "Generating walks (CPU: 3): 100%|██████████| 25/25 [00:01<00:00, 23.18it/s]\n",
      "Generating walks (CPU: 4): 100%|██████████| 25/25 [00:01<00:00, 24.76it/s]\n",
      " 74%|███████▍  | 177/240 [1:02:05<22:20, 21.27s/it]"
     ]
    },
    {
     "name": "stdout",
     "output_type": "stream",
     "text": [
      "[0]\n"
     ]
    },
    {
     "data": {
      "text/plain": [
       "Computing transition probabilities:   0%|          | 0/559 [00:00<?, ?it/s]"
      ],
      "application/vnd.jupyter.widget-view+json": {
       "version_major": 2,
       "version_minor": 0,
       "model_id": "a1cc4c180ee34576a9a29bc4ad4737ed"
      }
     },
     "metadata": {},
     "output_type": "display_data"
    },
    {
     "name": "stderr",
     "output_type": "stream",
     "text": [
      "Generating walks (CPU: 1): 100%|██████████| 25/25 [00:01<00:00, 24.81it/s]\n",
      "Generating walks (CPU: 2): 100%|██████████| 25/25 [00:00<00:00, 25.15it/s]\n",
      "Generating walks (CPU: 3): 100%|██████████| 25/25 [00:00<00:00, 25.27it/s]\n",
      "Generating walks (CPU: 4): 100%|██████████| 25/25 [00:00<00:00, 25.68it/s]\n",
      " 74%|███████▍  | 178/240 [1:02:27<21:59, 21.29s/it]"
     ]
    },
    {
     "name": "stdout",
     "output_type": "stream",
     "text": [
      "[0]\n"
     ]
    },
    {
     "data": {
      "text/plain": [
       "Computing transition probabilities:   0%|          | 0/559 [00:00<?, ?it/s]"
      ],
      "application/vnd.jupyter.widget-view+json": {
       "version_major": 2,
       "version_minor": 0,
       "model_id": "ab947bfd79cd48648332da44622d0bd0"
      }
     },
     "metadata": {},
     "output_type": "display_data"
    },
    {
     "name": "stderr",
     "output_type": "stream",
     "text": [
      "Generating walks (CPU: 1): 100%|██████████| 25/25 [00:00<00:00, 25.30it/s]\n",
      "Generating walks (CPU: 2): 100%|██████████| 25/25 [00:00<00:00, 25.09it/s]\n",
      "Generating walks (CPU: 3): 100%|██████████| 25/25 [00:01<00:00, 24.22it/s]\n",
      "Generating walks (CPU: 4): 100%|██████████| 25/25 [00:01<00:00, 24.94it/s]\n",
      " 75%|███████▍  | 179/240 [1:02:47<21:26, 21.09s/it]"
     ]
    },
    {
     "name": "stdout",
     "output_type": "stream",
     "text": [
      "[0]\n"
     ]
    },
    {
     "data": {
      "text/plain": [
       "Computing transition probabilities:   0%|          | 0/559 [00:00<?, ?it/s]"
      ],
      "application/vnd.jupyter.widget-view+json": {
       "version_major": 2,
       "version_minor": 0,
       "model_id": "70bf07f5860f449c9262fc51d4dd379f"
      }
     },
     "metadata": {},
     "output_type": "display_data"
    },
    {
     "name": "stderr",
     "output_type": "stream",
     "text": [
      "Generating walks (CPU: 1): 100%|██████████| 25/25 [00:01<00:00, 24.97it/s]\n",
      "Generating walks (CPU: 2): 100%|██████████| 25/25 [00:00<00:00, 25.28it/s]\n",
      "Generating walks (CPU: 3): 100%|██████████| 25/25 [00:00<00:00, 25.25it/s]\n",
      "Generating walks (CPU: 4): 100%|██████████| 25/25 [00:00<00:00, 25.49it/s]\n",
      " 75%|███████▌  | 180/240 [1:03:08<21:02, 21.03s/it]"
     ]
    },
    {
     "name": "stdout",
     "output_type": "stream",
     "text": [
      "[0]\n"
     ]
    },
    {
     "data": {
      "text/plain": [
       "Computing transition probabilities:   0%|          | 0/559 [00:00<?, ?it/s]"
      ],
      "application/vnd.jupyter.widget-view+json": {
       "version_major": 2,
       "version_minor": 0,
       "model_id": "a47a76077854402cb6fa4757ad06385c"
      }
     },
     "metadata": {},
     "output_type": "display_data"
    },
    {
     "name": "stderr",
     "output_type": "stream",
     "text": [
      "Generating walks (CPU: 1): 100%|██████████| 25/25 [00:00<00:00, 25.03it/s]\n",
      "Generating walks (CPU: 2): 100%|██████████| 25/25 [00:00<00:00, 25.28it/s]\n",
      "Generating walks (CPU: 3): 100%|██████████| 25/25 [00:00<00:00, 25.56it/s]\n",
      "Generating walks (CPU: 4): 100%|██████████| 25/25 [00:00<00:00, 25.66it/s]\n",
      " 75%|███████▌  | 181/240 [1:03:31<21:09, 21.51s/it]"
     ]
    },
    {
     "name": "stdout",
     "output_type": "stream",
     "text": [
      "[0]\n"
     ]
    },
    {
     "data": {
      "text/plain": [
       "Computing transition probabilities:   0%|          | 0/559 [00:00<?, ?it/s]"
      ],
      "application/vnd.jupyter.widget-view+json": {
       "version_major": 2,
       "version_minor": 0,
       "model_id": "d7b71b309727498c993c756f9fddb9f0"
      }
     },
     "metadata": {},
     "output_type": "display_data"
    },
    {
     "name": "stderr",
     "output_type": "stream",
     "text": [
      "Generating walks (CPU: 1): 100%|██████████| 25/25 [00:01<00:00, 24.97it/s]\n",
      "Generating walks (CPU: 2): 100%|██████████| 25/25 [00:00<00:00, 25.27it/s]\n",
      "Generating walks (CPU: 3): 100%|██████████| 25/25 [00:00<00:00, 25.03it/s]\n",
      "Generating walks (CPU: 4): 100%|██████████| 25/25 [00:00<00:00, 25.64it/s]\n",
      " 76%|███████▌  | 182/240 [1:03:52<20:33, 21.27s/it]"
     ]
    },
    {
     "name": "stdout",
     "output_type": "stream",
     "text": [
      "[0]\n"
     ]
    },
    {
     "data": {
      "text/plain": [
       "Computing transition probabilities:   0%|          | 0/559 [00:00<?, ?it/s]"
      ],
      "application/vnd.jupyter.widget-view+json": {
       "version_major": 2,
       "version_minor": 0,
       "model_id": "dc96b95d38b24ecbabd5b2624e83d0b0"
      }
     },
     "metadata": {},
     "output_type": "display_data"
    },
    {
     "name": "stderr",
     "output_type": "stream",
     "text": [
      "Generating walks (CPU: 1): 100%|██████████| 25/25 [00:00<00:00, 25.46it/s]\n",
      "Generating walks (CPU: 2): 100%|██████████| 25/25 [00:00<00:00, 25.39it/s]\n",
      "Generating walks (CPU: 3): 100%|██████████| 25/25 [00:00<00:00, 25.27it/s]\n",
      "Generating walks (CPU: 4): 100%|██████████| 25/25 [00:00<00:00, 25.67it/s]\n",
      " 76%|███████▋  | 183/240 [1:04:12<19:49, 20.87s/it]"
     ]
    },
    {
     "name": "stdout",
     "output_type": "stream",
     "text": [
      "[0]\n"
     ]
    },
    {
     "data": {
      "text/plain": [
       "Computing transition probabilities:   0%|          | 0/559 [00:00<?, ?it/s]"
      ],
      "application/vnd.jupyter.widget-view+json": {
       "version_major": 2,
       "version_minor": 0,
       "model_id": "b65878033d824bd3a1f29e93ca5d9c5e"
      }
     },
     "metadata": {},
     "output_type": "display_data"
    },
    {
     "name": "stderr",
     "output_type": "stream",
     "text": [
      "Generating walks (CPU: 1): 100%|██████████| 25/25 [00:01<00:00, 24.96it/s]\n",
      "Generating walks (CPU: 2): 100%|██████████| 25/25 [00:00<00:00, 25.11it/s]\n",
      "Generating walks (CPU: 3): 100%|██████████| 25/25 [00:00<00:00, 25.18it/s]\n",
      "Generating walks (CPU: 4): 100%|██████████| 25/25 [00:00<00:00, 25.72it/s]\n",
      " 77%|███████▋  | 184/240 [1:04:33<19:39, 21.06s/it]"
     ]
    },
    {
     "name": "stdout",
     "output_type": "stream",
     "text": [
      "[0]\n"
     ]
    },
    {
     "data": {
      "text/plain": [
       "Computing transition probabilities:   0%|          | 0/559 [00:00<?, ?it/s]"
      ],
      "application/vnd.jupyter.widget-view+json": {
       "version_major": 2,
       "version_minor": 0,
       "model_id": "7dadc0fb1d3e48e58c3e09455d04a740"
      }
     },
     "metadata": {},
     "output_type": "display_data"
    },
    {
     "name": "stderr",
     "output_type": "stream",
     "text": [
      "Generating walks (CPU: 1): 100%|██████████| 25/25 [00:01<00:00, 24.79it/s]\n",
      "Generating walks (CPU: 2): 100%|██████████| 25/25 [00:01<00:00, 25.00it/s]\n",
      "Generating walks (CPU: 3): 100%|██████████| 25/25 [00:00<00:00, 25.13it/s]\n",
      "Generating walks (CPU: 4): 100%|██████████| 25/25 [00:01<00:00, 24.99it/s]\n",
      " 77%|███████▋  | 185/240 [1:04:54<19:23, 21.15s/it]"
     ]
    },
    {
     "name": "stdout",
     "output_type": "stream",
     "text": [
      "[0]\n"
     ]
    },
    {
     "data": {
      "text/plain": [
       "Computing transition probabilities:   0%|          | 0/559 [00:00<?, ?it/s]"
      ],
      "application/vnd.jupyter.widget-view+json": {
       "version_major": 2,
       "version_minor": 0,
       "model_id": "d811ea93154d41b0a08b7ceb628e4da3"
      }
     },
     "metadata": {},
     "output_type": "display_data"
    },
    {
     "name": "stderr",
     "output_type": "stream",
     "text": [
      "Generating walks (CPU: 1): 100%|██████████| 25/25 [00:01<00:00, 23.18it/s]\n",
      "Generating walks (CPU: 2): 100%|██████████| 25/25 [00:01<00:00, 23.00it/s]\n",
      "Generating walks (CPU: 3): 100%|██████████| 25/25 [00:01<00:00, 23.62it/s]\n",
      "Generating walks (CPU: 4): 100%|██████████| 25/25 [00:01<00:00, 25.00it/s]\n",
      " 78%|███████▊  | 186/240 [1:05:17<19:28, 21.64s/it]"
     ]
    },
    {
     "name": "stdout",
     "output_type": "stream",
     "text": [
      "[0]\n"
     ]
    },
    {
     "data": {
      "text/plain": [
       "Computing transition probabilities:   0%|          | 0/559 [00:00<?, ?it/s]"
      ],
      "application/vnd.jupyter.widget-view+json": {
       "version_major": 2,
       "version_minor": 0,
       "model_id": "b976ac78be8f42148a5a29d429e5c3a7"
      }
     },
     "metadata": {},
     "output_type": "display_data"
    },
    {
     "name": "stderr",
     "output_type": "stream",
     "text": [
      "Generating walks (CPU: 1): 100%|██████████| 25/25 [00:01<00:00, 24.91it/s]\n",
      "Generating walks (CPU: 2): 100%|██████████| 25/25 [00:01<00:00, 24.96it/s]\n",
      "Generating walks (CPU: 3): 100%|██████████| 25/25 [00:00<00:00, 25.14it/s]\n",
      "Generating walks (CPU: 4): 100%|██████████| 25/25 [00:00<00:00, 25.50it/s]\n",
      " 78%|███████▊  | 187/240 [1:05:37<18:31, 20.97s/it]"
     ]
    },
    {
     "name": "stdout",
     "output_type": "stream",
     "text": [
      "[0]\n"
     ]
    },
    {
     "data": {
      "text/plain": [
       "Computing transition probabilities:   0%|          | 0/559 [00:00<?, ?it/s]"
      ],
      "application/vnd.jupyter.widget-view+json": {
       "version_major": 2,
       "version_minor": 0,
       "model_id": "d2f704e9396e4131920f1dc0d3639a36"
      }
     },
     "metadata": {},
     "output_type": "display_data"
    },
    {
     "name": "stderr",
     "output_type": "stream",
     "text": [
      "Generating walks (CPU: 1): 100%|██████████| 25/25 [00:00<00:00, 25.09it/s]\n",
      "Generating walks (CPU: 2): 100%|██████████| 25/25 [00:01<00:00, 24.58it/s]\n",
      "Generating walks (CPU: 3): 100%|██████████| 25/25 [00:01<00:00, 24.64it/s]\n",
      "Generating walks (CPU: 4): 100%|██████████| 25/25 [00:01<00:00, 24.67it/s]\n",
      " 78%|███████▊  | 188/240 [1:05:58<18:20, 21.16s/it]"
     ]
    },
    {
     "name": "stdout",
     "output_type": "stream",
     "text": [
      "[0]\n"
     ]
    },
    {
     "data": {
      "text/plain": [
       "Computing transition probabilities:   0%|          | 0/559 [00:00<?, ?it/s]"
      ],
      "application/vnd.jupyter.widget-view+json": {
       "version_major": 2,
       "version_minor": 0,
       "model_id": "7170f8a74a344c9fb2d49814c2ba8d40"
      }
     },
     "metadata": {},
     "output_type": "display_data"
    },
    {
     "name": "stderr",
     "output_type": "stream",
     "text": [
      "Generating walks (CPU: 1): 100%|██████████| 25/25 [00:00<00:00, 25.10it/s]\n",
      "Generating walks (CPU: 2): 100%|██████████| 25/25 [00:00<00:00, 25.37it/s]\n",
      "Generating walks (CPU: 3): 100%|██████████| 25/25 [00:00<00:00, 25.34it/s]\n",
      "Generating walks (CPU: 4): 100%|██████████| 25/25 [00:00<00:00, 25.57it/s]\n",
      " 79%|███████▉  | 189/240 [1:06:18<17:34, 20.67s/it]"
     ]
    },
    {
     "name": "stdout",
     "output_type": "stream",
     "text": [
      "[0]\n"
     ]
    },
    {
     "data": {
      "text/plain": [
       "Computing transition probabilities:   0%|          | 0/559 [00:00<?, ?it/s]"
      ],
      "application/vnd.jupyter.widget-view+json": {
       "version_major": 2,
       "version_minor": 0,
       "model_id": "e877cfdad76d4fa98e83de4f32101219"
      }
     },
     "metadata": {},
     "output_type": "display_data"
    },
    {
     "name": "stderr",
     "output_type": "stream",
     "text": [
      "Generating walks (CPU: 1): 100%|██████████| 25/25 [00:01<00:00, 23.16it/s]\n",
      "Generating walks (CPU: 2): 100%|██████████| 25/25 [00:01<00:00, 23.50it/s]\n",
      "Generating walks (CPU: 3): 100%|██████████| 25/25 [00:01<00:00, 23.61it/s]\n",
      "Generating walks (CPU: 4): 100%|██████████| 25/25 [00:01<00:00, 24.00it/s]\n",
      " 79%|███████▉  | 190/240 [1:06:37<16:45, 20.12s/it]"
     ]
    },
    {
     "name": "stdout",
     "output_type": "stream",
     "text": [
      "[0]\n"
     ]
    },
    {
     "data": {
      "text/plain": [
       "Computing transition probabilities:   0%|          | 0/559 [00:00<?, ?it/s]"
      ],
      "application/vnd.jupyter.widget-view+json": {
       "version_major": 2,
       "version_minor": 0,
       "model_id": "bcad5990a7e342278d7b34f869211126"
      }
     },
     "metadata": {},
     "output_type": "display_data"
    },
    {
     "name": "stderr",
     "output_type": "stream",
     "text": [
      "Generating walks (CPU: 1): 100%|██████████| 25/25 [00:01<00:00, 22.36it/s]\n",
      "Generating walks (CPU: 2): 100%|██████████| 25/25 [00:01<00:00, 24.41it/s]\n",
      "Generating walks (CPU: 3): 100%|██████████| 25/25 [00:01<00:00, 24.70it/s]\n",
      "Generating walks (CPU: 4): 100%|██████████| 25/25 [00:01<00:00, 24.83it/s]\n",
      " 80%|███████▉  | 191/240 [1:06:55<16:06, 19.72s/it]"
     ]
    },
    {
     "name": "stdout",
     "output_type": "stream",
     "text": [
      "[0]\n"
     ]
    },
    {
     "data": {
      "text/plain": [
       "Computing transition probabilities:   0%|          | 0/559 [00:00<?, ?it/s]"
      ],
      "application/vnd.jupyter.widget-view+json": {
       "version_major": 2,
       "version_minor": 0,
       "model_id": "0c90b518267043ae9f44677107c4f741"
      }
     },
     "metadata": {},
     "output_type": "display_data"
    },
    {
     "name": "stderr",
     "output_type": "stream",
     "text": [
      "Generating walks (CPU: 1): 100%|██████████| 25/25 [00:01<00:00, 23.31it/s]\n",
      "Generating walks (CPU: 2): 100%|██████████| 25/25 [00:01<00:00, 23.26it/s]\n",
      "Generating walks (CPU: 3): 100%|██████████| 25/25 [00:01<00:00, 23.24it/s]\n",
      "Generating walks (CPU: 4): 100%|██████████| 25/25 [00:01<00:00, 23.59it/s]\n",
      " 80%|████████  | 192/240 [1:07:20<16:58, 21.21s/it]"
     ]
    },
    {
     "name": "stdout",
     "output_type": "stream",
     "text": [
      "[0]\n"
     ]
    },
    {
     "data": {
      "text/plain": [
       "Computing transition probabilities:   0%|          | 0/559 [00:00<?, ?it/s]"
      ],
      "application/vnd.jupyter.widget-view+json": {
       "version_major": 2,
       "version_minor": 0,
       "model_id": "e4474568fe5743cab8f91f9e1271fc3b"
      }
     },
     "metadata": {},
     "output_type": "display_data"
    },
    {
     "name": "stderr",
     "output_type": "stream",
     "text": [
      "Generating walks (CPU: 1): 100%|██████████| 25/25 [00:01<00:00, 24.98it/s]\n",
      "Generating walks (CPU: 2): 100%|██████████| 25/25 [00:00<00:00, 25.16it/s]\n",
      "Generating walks (CPU: 3): 100%|██████████| 25/25 [00:00<00:00, 25.25it/s]\n",
      "Generating walks (CPU: 4): 100%|██████████| 25/25 [00:00<00:00, 25.48it/s]\n",
      " 80%|████████  | 193/240 [1:07:42<16:45, 21.39s/it]"
     ]
    },
    {
     "name": "stdout",
     "output_type": "stream",
     "text": [
      "[0]\n"
     ]
    },
    {
     "data": {
      "text/plain": [
       "Computing transition probabilities:   0%|          | 0/559 [00:00<?, ?it/s]"
      ],
      "application/vnd.jupyter.widget-view+json": {
       "version_major": 2,
       "version_minor": 0,
       "model_id": "e13ce64f5d4046adac25c69270a29d7d"
      }
     },
     "metadata": {},
     "output_type": "display_data"
    },
    {
     "name": "stderr",
     "output_type": "stream",
     "text": [
      "Generating walks (CPU: 1): 100%|██████████| 25/25 [00:00<00:00, 25.05it/s]\n",
      "Generating walks (CPU: 2): 100%|██████████| 25/25 [00:00<00:00, 25.16it/s]\n",
      "Generating walks (CPU: 3): 100%|██████████| 25/25 [00:00<00:00, 25.26it/s]\n",
      "Generating walks (CPU: 4): 100%|██████████| 25/25 [00:00<00:00, 25.52it/s]\n",
      " 81%|████████  | 194/240 [1:08:06<17:02, 22.24s/it]"
     ]
    },
    {
     "name": "stdout",
     "output_type": "stream",
     "text": [
      "[0]\n"
     ]
    },
    {
     "data": {
      "text/plain": [
       "Computing transition probabilities:   0%|          | 0/559 [00:00<?, ?it/s]"
      ],
      "application/vnd.jupyter.widget-view+json": {
       "version_major": 2,
       "version_minor": 0,
       "model_id": "7e9f35bc139a49b7acf7a8a0638930dd"
      }
     },
     "metadata": {},
     "output_type": "display_data"
    },
    {
     "name": "stderr",
     "output_type": "stream",
     "text": [
      "Generating walks (CPU: 1): 100%|██████████| 25/25 [00:01<00:00, 20.69it/s]\n",
      "Generating walks (CPU: 2): 100%|██████████| 25/25 [00:01<00:00, 19.42it/s]\n",
      "Generating walks (CPU: 3): 100%|██████████| 25/25 [00:01<00:00, 20.20it/s]\n",
      "Generating walks (CPU: 4): 100%|██████████| 25/25 [00:01<00:00, 21.89it/s]\n",
      " 81%|████████▏ | 195/240 [1:08:25<16:02, 21.38s/it]"
     ]
    },
    {
     "name": "stdout",
     "output_type": "stream",
     "text": [
      "[0]\n"
     ]
    },
    {
     "data": {
      "text/plain": [
       "Computing transition probabilities:   0%|          | 0/559 [00:00<?, ?it/s]"
      ],
      "application/vnd.jupyter.widget-view+json": {
       "version_major": 2,
       "version_minor": 0,
       "model_id": "5b71523c194d48b793c1532a3fe6fa83"
      }
     },
     "metadata": {},
     "output_type": "display_data"
    },
    {
     "name": "stderr",
     "output_type": "stream",
     "text": [
      "Generating walks (CPU: 1): 100%|██████████| 25/25 [00:01<00:00, 24.20it/s]\n",
      "Generating walks (CPU: 2): 100%|██████████| 25/25 [00:01<00:00, 24.20it/s]\n",
      "Generating walks (CPU: 3): 100%|██████████| 25/25 [00:01<00:00, 24.52it/s]\n",
      "Generating walks (CPU: 4): 100%|██████████| 25/25 [00:00<00:00, 25.06it/s]\n",
      " 82%|████████▏ | 196/240 [1:08:44<15:08, 20.65s/it]"
     ]
    },
    {
     "name": "stdout",
     "output_type": "stream",
     "text": [
      "[0]\n"
     ]
    },
    {
     "data": {
      "text/plain": [
       "Computing transition probabilities:   0%|          | 0/559 [00:00<?, ?it/s]"
      ],
      "application/vnd.jupyter.widget-view+json": {
       "version_major": 2,
       "version_minor": 0,
       "model_id": "bf38921eea8a42e39d7c30f44957754c"
      }
     },
     "metadata": {},
     "output_type": "display_data"
    },
    {
     "name": "stderr",
     "output_type": "stream",
     "text": [
      "Generating walks (CPU: 1): 100%|██████████| 25/25 [00:01<00:00, 21.82it/s]\n",
      "Generating walks (CPU: 2): 100%|██████████| 25/25 [00:01<00:00, 21.84it/s]\n",
      "Generating walks (CPU: 3): 100%|██████████| 25/25 [00:01<00:00, 23.04it/s]\n",
      "Generating walks (CPU: 4): 100%|██████████| 25/25 [00:01<00:00, 23.72it/s]\n",
      " 82%|████████▏ | 197/240 [1:09:04<14:34, 20.34s/it]"
     ]
    },
    {
     "name": "stdout",
     "output_type": "stream",
     "text": [
      "[0]\n"
     ]
    },
    {
     "data": {
      "text/plain": [
       "Computing transition probabilities:   0%|          | 0/559 [00:00<?, ?it/s]"
      ],
      "application/vnd.jupyter.widget-view+json": {
       "version_major": 2,
       "version_minor": 0,
       "model_id": "0cf4ffb70a4941d4b9312ae74d97fc8b"
      }
     },
     "metadata": {},
     "output_type": "display_data"
    },
    {
     "name": "stderr",
     "output_type": "stream",
     "text": [
      "Generating walks (CPU: 1): 100%|██████████| 25/25 [00:01<00:00, 22.89it/s]\n",
      "Generating walks (CPU: 2): 100%|██████████| 25/25 [00:01<00:00, 22.97it/s]\n",
      "Generating walks (CPU: 3): 100%|██████████| 25/25 [00:01<00:00, 23.18it/s]\n",
      "Generating walks (CPU: 4): 100%|██████████| 25/25 [00:01<00:00, 24.38it/s]\n",
      " 82%|████████▎ | 198/240 [1:09:23<14:02, 20.07s/it]"
     ]
    },
    {
     "name": "stdout",
     "output_type": "stream",
     "text": [
      "[0]\n"
     ]
    },
    {
     "data": {
      "text/plain": [
       "Computing transition probabilities:   0%|          | 0/559 [00:00<?, ?it/s]"
      ],
      "application/vnd.jupyter.widget-view+json": {
       "version_major": 2,
       "version_minor": 0,
       "model_id": "4bb3522fa12b4f8b94064b2c16e88236"
      }
     },
     "metadata": {},
     "output_type": "display_data"
    },
    {
     "name": "stderr",
     "output_type": "stream",
     "text": [
      "Generating walks (CPU: 1): 100%|██████████| 25/25 [00:01<00:00, 22.56it/s]\n",
      "Generating walks (CPU: 2): 100%|██████████| 25/25 [00:01<00:00, 22.93it/s]\n",
      "Generating walks (CPU: 3): 100%|██████████| 25/25 [00:01<00:00, 23.10it/s]\n",
      "Generating walks (CPU: 4): 100%|██████████| 25/25 [00:01<00:00, 23.70it/s]\n",
      " 83%|████████▎ | 199/240 [1:09:43<13:38, 19.97s/it]"
     ]
    },
    {
     "name": "stdout",
     "output_type": "stream",
     "text": [
      "[0]\n"
     ]
    },
    {
     "data": {
      "text/plain": [
       "Computing transition probabilities:   0%|          | 0/559 [00:00<?, ?it/s]"
      ],
      "application/vnd.jupyter.widget-view+json": {
       "version_major": 2,
       "version_minor": 0,
       "model_id": "5f8a4a98370d4e56b2cc8ecaa659aded"
      }
     },
     "metadata": {},
     "output_type": "display_data"
    },
    {
     "name": "stderr",
     "output_type": "stream",
     "text": [
      "Generating walks (CPU: 1): 100%|██████████| 25/25 [00:01<00:00, 22.11it/s]\n",
      "Generating walks (CPU: 2): 100%|██████████| 25/25 [00:01<00:00, 22.03it/s]\n",
      "Generating walks (CPU: 3): 100%|██████████| 25/25 [00:01<00:00, 22.21it/s]\n",
      "Generating walks (CPU: 4): 100%|██████████| 25/25 [00:01<00:00, 23.39it/s]\n",
      " 83%|████████▎ | 200/240 [1:10:03<13:15, 19.90s/it]"
     ]
    },
    {
     "name": "stdout",
     "output_type": "stream",
     "text": [
      "[0]\n"
     ]
    },
    {
     "data": {
      "text/plain": [
       "Computing transition probabilities:   0%|          | 0/559 [00:00<?, ?it/s]"
      ],
      "application/vnd.jupyter.widget-view+json": {
       "version_major": 2,
       "version_minor": 0,
       "model_id": "2256bf0af1ff452c88b9c8120cea89a0"
      }
     },
     "metadata": {},
     "output_type": "display_data"
    },
    {
     "name": "stderr",
     "output_type": "stream",
     "text": [
      "Generating walks (CPU: 1): 100%|██████████| 25/25 [00:01<00:00, 22.75it/s]\n",
      "Generating walks (CPU: 2): 100%|██████████| 25/25 [00:01<00:00, 22.63it/s]\n",
      "Generating walks (CPU: 3): 100%|██████████| 25/25 [00:01<00:00, 23.41it/s]\n",
      "Generating walks (CPU: 4): 100%|██████████| 25/25 [00:01<00:00, 24.40it/s]\n",
      " 84%|████████▍ | 201/240 [1:10:23<12:52, 19.81s/it]"
     ]
    },
    {
     "name": "stdout",
     "output_type": "stream",
     "text": [
      "[0]\n"
     ]
    },
    {
     "data": {
      "text/plain": [
       "Computing transition probabilities:   0%|          | 0/559 [00:00<?, ?it/s]"
      ],
      "application/vnd.jupyter.widget-view+json": {
       "version_major": 2,
       "version_minor": 0,
       "model_id": "89923816686040369568b085ebcfcc69"
      }
     },
     "metadata": {},
     "output_type": "display_data"
    },
    {
     "name": "stderr",
     "output_type": "stream",
     "text": [
      "Generating walks (CPU: 1): 100%|██████████| 25/25 [00:01<00:00, 22.24it/s]\n",
      "Generating walks (CPU: 2): 100%|██████████| 25/25 [00:01<00:00, 22.40it/s]\n",
      "Generating walks (CPU: 3): 100%|██████████| 25/25 [00:01<00:00, 23.11it/s]\n",
      "Generating walks (CPU: 4): 100%|██████████| 25/25 [00:01<00:00, 23.82it/s]\n",
      " 84%|████████▍ | 202/240 [1:10:43<12:37, 19.93s/it]"
     ]
    },
    {
     "name": "stdout",
     "output_type": "stream",
     "text": [
      "[0]\n"
     ]
    },
    {
     "data": {
      "text/plain": [
       "Computing transition probabilities:   0%|          | 0/559 [00:00<?, ?it/s]"
      ],
      "application/vnd.jupyter.widget-view+json": {
       "version_major": 2,
       "version_minor": 0,
       "model_id": "f62580b3dd8a4f4fb93a6a800a8de536"
      }
     },
     "metadata": {},
     "output_type": "display_data"
    },
    {
     "name": "stderr",
     "output_type": "stream",
     "text": [
      "Generating walks (CPU: 1): 100%|██████████| 25/25 [00:01<00:00, 23.26it/s]\n",
      "Generating walks (CPU: 2): 100%|██████████| 25/25 [00:01<00:00, 23.30it/s]\n",
      "Generating walks (CPU: 3): 100%|██████████| 25/25 [00:01<00:00, 23.19it/s]\n",
      "Generating walks (CPU: 4): 100%|██████████| 25/25 [00:01<00:00, 23.98it/s]\n",
      " 85%|████████▍ | 203/240 [1:11:03<12:22, 20.06s/it]"
     ]
    },
    {
     "name": "stdout",
     "output_type": "stream",
     "text": [
      "[0]\n"
     ]
    },
    {
     "data": {
      "text/plain": [
       "Computing transition probabilities:   0%|          | 0/559 [00:00<?, ?it/s]"
      ],
      "application/vnd.jupyter.widget-view+json": {
       "version_major": 2,
       "version_minor": 0,
       "model_id": "7c1c1a20d81e4cccb7764efb10b4be73"
      }
     },
     "metadata": {},
     "output_type": "display_data"
    },
    {
     "name": "stderr",
     "output_type": "stream",
     "text": [
      "Generating walks (CPU: 1): 100%|██████████| 25/25 [00:01<00:00, 22.88it/s]\n",
      "Generating walks (CPU: 2): 100%|██████████| 25/25 [00:01<00:00, 22.51it/s]\n",
      "Generating walks (CPU: 3): 100%|██████████| 25/25 [00:01<00:00, 22.36it/s]\n",
      "Generating walks (CPU: 4): 100%|██████████| 25/25 [00:01<00:00, 23.30it/s]\n",
      " 85%|████████▌ | 204/240 [1:11:23<12:01, 20.03s/it]"
     ]
    },
    {
     "name": "stdout",
     "output_type": "stream",
     "text": [
      "[1]\n"
     ]
    },
    {
     "data": {
      "text/plain": [
       "Computing transition probabilities:   0%|          | 0/559 [00:00<?, ?it/s]"
      ],
      "application/vnd.jupyter.widget-view+json": {
       "version_major": 2,
       "version_minor": 0,
       "model_id": "e2372578a4bf4451bdacdabfb7ffd689"
      }
     },
     "metadata": {},
     "output_type": "display_data"
    },
    {
     "name": "stderr",
     "output_type": "stream",
     "text": [
      "Generating walks (CPU: 1): 100%|██████████| 25/25 [00:01<00:00, 22.48it/s]\n",
      "Generating walks (CPU: 2): 100%|██████████| 25/25 [00:01<00:00, 22.32it/s]\n",
      "Generating walks (CPU: 3): 100%|██████████| 25/25 [00:01<00:00, 22.23it/s]\n",
      "Generating walks (CPU: 4): 100%|██████████| 25/25 [00:01<00:00, 23.99it/s]\n",
      " 85%|████████▌ | 205/240 [1:11:42<11:33, 19.82s/it]"
     ]
    },
    {
     "name": "stdout",
     "output_type": "stream",
     "text": [
      "[0]\n"
     ]
    },
    {
     "data": {
      "text/plain": [
       "Computing transition probabilities:   0%|          | 0/559 [00:00<?, ?it/s]"
      ],
      "application/vnd.jupyter.widget-view+json": {
       "version_major": 2,
       "version_minor": 0,
       "model_id": "607b210c912f487bae1b36e42eb280f0"
      }
     },
     "metadata": {},
     "output_type": "display_data"
    },
    {
     "name": "stderr",
     "output_type": "stream",
     "text": [
      "Generating walks (CPU: 1): 100%|██████████| 25/25 [00:01<00:00, 22.74it/s]\n",
      "Generating walks (CPU: 2): 100%|██████████| 25/25 [00:01<00:00, 22.15it/s]\n",
      "Generating walks (CPU: 3): 100%|██████████| 25/25 [00:01<00:00, 22.49it/s]\n",
      "Generating walks (CPU: 4): 100%|██████████| 25/25 [00:01<00:00, 23.44it/s]\n",
      " 86%|████████▌ | 206/240 [1:12:02<11:10, 19.71s/it]"
     ]
    },
    {
     "name": "stdout",
     "output_type": "stream",
     "text": [
      "[0]\n"
     ]
    },
    {
     "data": {
      "text/plain": [
       "Computing transition probabilities:   0%|          | 0/559 [00:00<?, ?it/s]"
      ],
      "application/vnd.jupyter.widget-view+json": {
       "version_major": 2,
       "version_minor": 0,
       "model_id": "dc601b492f864a6983a6b29597934acf"
      }
     },
     "metadata": {},
     "output_type": "display_data"
    },
    {
     "name": "stderr",
     "output_type": "stream",
     "text": [
      "Generating walks (CPU: 1): 100%|██████████| 25/25 [00:01<00:00, 22.80it/s]\n",
      "Generating walks (CPU: 2): 100%|██████████| 25/25 [00:01<00:00, 22.71it/s]\n",
      "Generating walks (CPU: 3): 100%|██████████| 25/25 [00:01<00:00, 23.12it/s]\n",
      "Generating walks (CPU: 4): 100%|██████████| 25/25 [00:01<00:00, 24.02it/s]\n",
      " 86%|████████▋ | 207/240 [1:12:22<10:50, 19.72s/it]"
     ]
    },
    {
     "name": "stdout",
     "output_type": "stream",
     "text": [
      "[0]\n"
     ]
    },
    {
     "data": {
      "text/plain": [
       "Computing transition probabilities:   0%|          | 0/559 [00:00<?, ?it/s]"
      ],
      "application/vnd.jupyter.widget-view+json": {
       "version_major": 2,
       "version_minor": 0,
       "model_id": "63073fe5a5da4edf8b39d756892881f3"
      }
     },
     "metadata": {},
     "output_type": "display_data"
    },
    {
     "name": "stderr",
     "output_type": "stream",
     "text": [
      "Generating walks (CPU: 1): 100%|██████████| 25/25 [00:01<00:00, 21.12it/s]\n",
      "Generating walks (CPU: 2): 100%|██████████| 25/25 [00:01<00:00, 20.91it/s]\n",
      "Generating walks (CPU: 3): 100%|██████████| 25/25 [00:01<00:00, 22.21it/s]\n",
      "Generating walks (CPU: 4): 100%|██████████| 25/25 [00:01<00:00, 23.46it/s]\n",
      " 87%|████████▋ | 208/240 [1:12:42<10:36, 19.88s/it]"
     ]
    },
    {
     "name": "stdout",
     "output_type": "stream",
     "text": [
      "[0]\n"
     ]
    },
    {
     "data": {
      "text/plain": [
       "Computing transition probabilities:   0%|          | 0/559 [00:00<?, ?it/s]"
      ],
      "application/vnd.jupyter.widget-view+json": {
       "version_major": 2,
       "version_minor": 0,
       "model_id": "78b1969d94ca4b4aa55de4ac45b31195"
      }
     },
     "metadata": {},
     "output_type": "display_data"
    },
    {
     "name": "stderr",
     "output_type": "stream",
     "text": [
      "Generating walks (CPU: 1): 100%|██████████| 25/25 [00:01<00:00, 23.49it/s]\n",
      "Generating walks (CPU: 2): 100%|██████████| 25/25 [00:01<00:00, 23.14it/s]\n",
      "Generating walks (CPU: 3): 100%|██████████| 25/25 [00:01<00:00, 23.12it/s]\n",
      "Generating walks (CPU: 4): 100%|██████████| 25/25 [00:01<00:00, 24.08it/s]\n",
      " 87%|████████▋ | 209/240 [1:13:01<10:09, 19.65s/it]"
     ]
    },
    {
     "name": "stdout",
     "output_type": "stream",
     "text": [
      "[0]\n"
     ]
    },
    {
     "data": {
      "text/plain": [
       "Computing transition probabilities:   0%|          | 0/559 [00:00<?, ?it/s]"
      ],
      "application/vnd.jupyter.widget-view+json": {
       "version_major": 2,
       "version_minor": 0,
       "model_id": "7946ebf5dc49480e8933445d86f6ee9e"
      }
     },
     "metadata": {},
     "output_type": "display_data"
    },
    {
     "name": "stderr",
     "output_type": "stream",
     "text": [
      "Generating walks (CPU: 1): 100%|██████████| 25/25 [00:01<00:00, 23.56it/s]\n",
      "Generating walks (CPU: 2): 100%|██████████| 25/25 [00:01<00:00, 22.75it/s]\n",
      "Generating walks (CPU: 3): 100%|██████████| 25/25 [00:01<00:00, 23.11it/s]\n",
      "Generating walks (CPU: 4): 100%|██████████| 25/25 [00:01<00:00, 24.02it/s]\n",
      " 88%|████████▊ | 210/240 [1:13:20<09:44, 19.47s/it]"
     ]
    },
    {
     "name": "stdout",
     "output_type": "stream",
     "text": [
      "[0]\n"
     ]
    },
    {
     "data": {
      "text/plain": [
       "Computing transition probabilities:   0%|          | 0/559 [00:00<?, ?it/s]"
      ],
      "application/vnd.jupyter.widget-view+json": {
       "version_major": 2,
       "version_minor": 0,
       "model_id": "d4fff602712a4a3eac144664b6ee569a"
      }
     },
     "metadata": {},
     "output_type": "display_data"
    },
    {
     "name": "stderr",
     "output_type": "stream",
     "text": [
      "Generating walks (CPU: 1): 100%|██████████| 25/25 [00:01<00:00, 22.40it/s]\n",
      "Generating walks (CPU: 2): 100%|██████████| 25/25 [00:01<00:00, 22.93it/s]\n",
      "Generating walks (CPU: 3): 100%|██████████| 25/25 [00:01<00:00, 23.62it/s]\n",
      "Generating walks (CPU: 4): 100%|██████████| 25/25 [00:01<00:00, 24.74it/s]\n",
      " 88%|████████▊ | 211/240 [1:13:39<09:22, 19.40s/it]"
     ]
    },
    {
     "name": "stdout",
     "output_type": "stream",
     "text": [
      "[0]\n"
     ]
    },
    {
     "data": {
      "text/plain": [
       "Computing transition probabilities:   0%|          | 0/559 [00:00<?, ?it/s]"
      ],
      "application/vnd.jupyter.widget-view+json": {
       "version_major": 2,
       "version_minor": 0,
       "model_id": "c9bf48c8ad57464bafc0ec75b3757499"
      }
     },
     "metadata": {},
     "output_type": "display_data"
    },
    {
     "name": "stderr",
     "output_type": "stream",
     "text": [
      "Generating walks (CPU: 1): 100%|██████████| 25/25 [00:01<00:00, 23.40it/s]\n",
      "Generating walks (CPU: 2): 100%|██████████| 25/25 [00:01<00:00, 23.31it/s]\n",
      "Generating walks (CPU: 3): 100%|██████████| 25/25 [00:01<00:00, 23.62it/s]\n",
      "Generating walks (CPU: 4): 100%|██████████| 25/25 [00:01<00:00, 24.25it/s]\n",
      " 88%|████████▊ | 212/240 [1:13:58<09:01, 19.35s/it]"
     ]
    },
    {
     "name": "stdout",
     "output_type": "stream",
     "text": [
      "[0]\n"
     ]
    },
    {
     "data": {
      "text/plain": [
       "Computing transition probabilities:   0%|          | 0/559 [00:00<?, ?it/s]"
      ],
      "application/vnd.jupyter.widget-view+json": {
       "version_major": 2,
       "version_minor": 0,
       "model_id": "c8fdcb7b177647b49ef05c41308987c9"
      }
     },
     "metadata": {},
     "output_type": "display_data"
    },
    {
     "name": "stderr",
     "output_type": "stream",
     "text": [
      "Generating walks (CPU: 1): 100%|██████████| 25/25 [00:01<00:00, 22.86it/s]\n",
      "Generating walks (CPU: 2): 100%|██████████| 25/25 [00:01<00:00, 22.48it/s]\n",
      "Generating walks (CPU: 3): 100%|██████████| 25/25 [00:01<00:00, 22.50it/s]\n",
      "Generating walks (CPU: 4): 100%|██████████| 25/25 [00:01<00:00, 23.28it/s]\n",
      " 89%|████████▉ | 213/240 [1:14:18<08:44, 19.43s/it]"
     ]
    },
    {
     "name": "stdout",
     "output_type": "stream",
     "text": [
      "[0]\n"
     ]
    },
    {
     "data": {
      "text/plain": [
       "Computing transition probabilities:   0%|          | 0/559 [00:00<?, ?it/s]"
      ],
      "application/vnd.jupyter.widget-view+json": {
       "version_major": 2,
       "version_minor": 0,
       "model_id": "40668aabdb264815a40a7a9bdf5b272c"
      }
     },
     "metadata": {},
     "output_type": "display_data"
    },
    {
     "name": "stderr",
     "output_type": "stream",
     "text": [
      "Generating walks (CPU: 1): 100%|██████████| 25/25 [00:01<00:00, 22.42it/s]\n",
      "Generating walks (CPU: 2): 100%|██████████| 25/25 [00:01<00:00, 22.31it/s]\n",
      "Generating walks (CPU: 3): 100%|██████████| 25/25 [00:01<00:00, 22.13it/s]\n",
      "Generating walks (CPU: 4): 100%|██████████| 25/25 [00:01<00:00, 22.65it/s]\n",
      " 89%|████████▉ | 214/240 [1:14:38<08:31, 19.68s/it]"
     ]
    },
    {
     "name": "stdout",
     "output_type": "stream",
     "text": [
      "[0]\n"
     ]
    },
    {
     "data": {
      "text/plain": [
       "Computing transition probabilities:   0%|          | 0/559 [00:00<?, ?it/s]"
      ],
      "application/vnd.jupyter.widget-view+json": {
       "version_major": 2,
       "version_minor": 0,
       "model_id": "e823b92537fd4409ba61887fbcc52295"
      }
     },
     "metadata": {},
     "output_type": "display_data"
    },
    {
     "name": "stderr",
     "output_type": "stream",
     "text": [
      "Generating walks (CPU: 1): 100%|██████████| 25/25 [00:01<00:00, 22.80it/s]\n",
      "Generating walks (CPU: 2): 100%|██████████| 25/25 [00:01<00:00, 22.18it/s]\n",
      "Generating walks (CPU: 3): 100%|██████████| 25/25 [00:01<00:00, 22.71it/s]\n",
      "Generating walks (CPU: 4): 100%|██████████| 25/25 [00:01<00:00, 23.34it/s]\n",
      " 90%|████████▉ | 215/240 [1:14:59<08:16, 19.88s/it]"
     ]
    },
    {
     "name": "stdout",
     "output_type": "stream",
     "text": [
      "[1]\n"
     ]
    },
    {
     "data": {
      "text/plain": [
       "Computing transition probabilities:   0%|          | 0/559 [00:00<?, ?it/s]"
      ],
      "application/vnd.jupyter.widget-view+json": {
       "version_major": 2,
       "version_minor": 0,
       "model_id": "e28b637cab7a469fa5c2815840ce9e2d"
      }
     },
     "metadata": {},
     "output_type": "display_data"
    },
    {
     "name": "stderr",
     "output_type": "stream",
     "text": [
      "Generating walks (CPU: 1): 100%|██████████| 25/25 [00:01<00:00, 23.83it/s]\n",
      "Generating walks (CPU: 2): 100%|██████████| 25/25 [00:01<00:00, 24.11it/s]\n",
      "Generating walks (CPU: 3): 100%|██████████| 25/25 [00:01<00:00, 24.33it/s]\n",
      "Generating walks (CPU: 4): 100%|██████████| 25/25 [00:00<00:00, 25.36it/s]\n",
      " 90%|█████████ | 216/240 [1:15:23<08:26, 21.10s/it]"
     ]
    },
    {
     "name": "stdout",
     "output_type": "stream",
     "text": [
      "[1]\n"
     ]
    },
    {
     "data": {
      "text/plain": [
       "Computing transition probabilities:   0%|          | 0/559 [00:00<?, ?it/s]"
      ],
      "application/vnd.jupyter.widget-view+json": {
       "version_major": 2,
       "version_minor": 0,
       "model_id": "d309bac29b634bec8c2eb00c5f484fc5"
      }
     },
     "metadata": {},
     "output_type": "display_data"
    },
    {
     "name": "stderr",
     "output_type": "stream",
     "text": [
      "Generating walks (CPU: 1): 100%|██████████| 25/25 [00:01<00:00, 24.83it/s]\n",
      "Generating walks (CPU: 2): 100%|██████████| 25/25 [00:01<00:00, 24.92it/s]\n",
      "Generating walks (CPU: 3): 100%|██████████| 25/25 [00:00<00:00, 25.15it/s]\n",
      "Generating walks (CPU: 4): 100%|██████████| 25/25 [00:00<00:00, 25.29it/s]\n",
      " 90%|█████████ | 217/240 [1:15:45<08:15, 21.56s/it]"
     ]
    },
    {
     "name": "stdout",
     "output_type": "stream",
     "text": [
      "[0]\n"
     ]
    },
    {
     "data": {
      "text/plain": [
       "Computing transition probabilities:   0%|          | 0/559 [00:00<?, ?it/s]"
      ],
      "application/vnd.jupyter.widget-view+json": {
       "version_major": 2,
       "version_minor": 0,
       "model_id": "ae43d0cfed1d4d68a3f94aa3f78db5ea"
      }
     },
     "metadata": {},
     "output_type": "display_data"
    },
    {
     "name": "stderr",
     "output_type": "stream",
     "text": [
      "Generating walks (CPU: 1): 100%|██████████| 25/25 [00:01<00:00, 24.95it/s]\n",
      "Generating walks (CPU: 2): 100%|██████████| 25/25 [00:01<00:00, 24.92it/s]\n",
      "Generating walks (CPU: 3): 100%|██████████| 25/25 [00:00<00:00, 25.10it/s]\n",
      "Generating walks (CPU: 4): 100%|██████████| 25/25 [00:00<00:00, 25.33it/s]\n",
      " 91%|█████████ | 218/240 [1:16:07<07:53, 21.54s/it]"
     ]
    },
    {
     "name": "stdout",
     "output_type": "stream",
     "text": [
      "[0]\n"
     ]
    },
    {
     "data": {
      "text/plain": [
       "Computing transition probabilities:   0%|          | 0/559 [00:00<?, ?it/s]"
      ],
      "application/vnd.jupyter.widget-view+json": {
       "version_major": 2,
       "version_minor": 0,
       "model_id": "455d7c20c6c14430b47c596319f8f387"
      }
     },
     "metadata": {},
     "output_type": "display_data"
    },
    {
     "name": "stderr",
     "output_type": "stream",
     "text": [
      "Generating walks (CPU: 1): 100%|██████████| 25/25 [00:00<00:00, 25.03it/s]\n",
      "Generating walks (CPU: 2): 100%|██████████| 25/25 [00:00<00:00, 25.04it/s]\n",
      "Generating walks (CPU: 3): 100%|██████████| 25/25 [00:00<00:00, 25.14it/s]\n",
      "Generating walks (CPU: 4): 100%|██████████| 25/25 [00:00<00:00, 25.35it/s]\n",
      " 91%|█████████▏| 219/240 [1:16:29<07:36, 21.72s/it]"
     ]
    },
    {
     "name": "stdout",
     "output_type": "stream",
     "text": [
      "[0]\n"
     ]
    },
    {
     "data": {
      "text/plain": [
       "Computing transition probabilities:   0%|          | 0/559 [00:00<?, ?it/s]"
      ],
      "application/vnd.jupyter.widget-view+json": {
       "version_major": 2,
       "version_minor": 0,
       "model_id": "6fe17ef14911433bb9caa2691effc755"
      }
     },
     "metadata": {},
     "output_type": "display_data"
    },
    {
     "name": "stderr",
     "output_type": "stream",
     "text": [
      "Generating walks (CPU: 1): 100%|██████████| 25/25 [00:01<00:00, 24.63it/s]\n",
      "Generating walks (CPU: 2): 100%|██████████| 25/25 [00:01<00:00, 24.84it/s]\n",
      "Generating walks (CPU: 3): 100%|██████████| 25/25 [00:01<00:00, 24.99it/s]\n",
      "Generating walks (CPU: 4): 100%|██████████| 25/25 [00:00<00:00, 25.48it/s]\n",
      " 92%|█████████▏| 220/240 [1:16:52<07:23, 22.15s/it]"
     ]
    },
    {
     "name": "stdout",
     "output_type": "stream",
     "text": [
      "[0]\n"
     ]
    },
    {
     "data": {
      "text/plain": [
       "Computing transition probabilities:   0%|          | 0/559 [00:00<?, ?it/s]"
      ],
      "application/vnd.jupyter.widget-view+json": {
       "version_major": 2,
       "version_minor": 0,
       "model_id": "d9d643d822b441f5b280634cdeff8f1d"
      }
     },
     "metadata": {},
     "output_type": "display_data"
    },
    {
     "name": "stderr",
     "output_type": "stream",
     "text": [
      "Generating walks (CPU: 1): 100%|██████████| 25/25 [00:00<00:00, 25.02it/s]\n",
      "Generating walks (CPU: 2): 100%|██████████| 25/25 [00:00<00:00, 25.00it/s]\n",
      "Generating walks (CPU: 3): 100%|██████████| 25/25 [00:00<00:00, 25.13it/s]\n",
      "Generating walks (CPU: 4): 100%|██████████| 25/25 [00:00<00:00, 25.38it/s]\n",
      " 92%|█████████▏| 221/240 [1:17:16<07:09, 22.62s/it]"
     ]
    },
    {
     "name": "stdout",
     "output_type": "stream",
     "text": [
      "[1]\n"
     ]
    },
    {
     "data": {
      "text/plain": [
       "Computing transition probabilities:   0%|          | 0/559 [00:00<?, ?it/s]"
      ],
      "application/vnd.jupyter.widget-view+json": {
       "version_major": 2,
       "version_minor": 0,
       "model_id": "7fb743566ec341aa8e8340945f61dfca"
      }
     },
     "metadata": {},
     "output_type": "display_data"
    },
    {
     "name": "stderr",
     "output_type": "stream",
     "text": [
      "Generating walks (CPU: 1): 100%|██████████| 25/25 [00:01<00:00, 24.93it/s]\n",
      "Generating walks (CPU: 2): 100%|██████████| 25/25 [00:01<00:00, 24.96it/s]\n",
      "Generating walks (CPU: 3): 100%|██████████| 25/25 [00:00<00:00, 25.21it/s]\n",
      "Generating walks (CPU: 4): 100%|██████████| 25/25 [00:00<00:00, 25.55it/s]\n",
      " 92%|█████████▎| 222/240 [1:17:37<06:40, 22.24s/it]"
     ]
    },
    {
     "name": "stdout",
     "output_type": "stream",
     "text": [
      "[0]\n"
     ]
    },
    {
     "data": {
      "text/plain": [
       "Computing transition probabilities:   0%|          | 0/559 [00:00<?, ?it/s]"
      ],
      "application/vnd.jupyter.widget-view+json": {
       "version_major": 2,
       "version_minor": 0,
       "model_id": "f8100dc3c1ee4c96b9882c38424f3977"
      }
     },
     "metadata": {},
     "output_type": "display_data"
    },
    {
     "name": "stderr",
     "output_type": "stream",
     "text": [
      "Generating walks (CPU: 1): 100%|██████████| 25/25 [00:01<00:00, 24.95it/s]\n",
      "Generating walks (CPU: 2): 100%|██████████| 25/25 [00:01<00:00, 24.98it/s]\n",
      "Generating walks (CPU: 3): 100%|██████████| 25/25 [00:00<00:00, 25.11it/s]\n",
      "Generating walks (CPU: 4): 100%|██████████| 25/25 [00:00<00:00, 25.38it/s]\n",
      " 93%|█████████▎| 223/240 [1:17:59<06:14, 22.02s/it]"
     ]
    },
    {
     "name": "stdout",
     "output_type": "stream",
     "text": [
      "[1]\n"
     ]
    },
    {
     "data": {
      "text/plain": [
       "Computing transition probabilities:   0%|          | 0/559 [00:00<?, ?it/s]"
      ],
      "application/vnd.jupyter.widget-view+json": {
       "version_major": 2,
       "version_minor": 0,
       "model_id": "49e7933b147f4a609c49ebb05ceea7a6"
      }
     },
     "metadata": {},
     "output_type": "display_data"
    },
    {
     "name": "stderr",
     "output_type": "stream",
     "text": [
      "Generating walks (CPU: 1): 100%|██████████| 25/25 [00:01<00:00, 24.75it/s]\n",
      "Generating walks (CPU: 2): 100%|██████████| 25/25 [00:01<00:00, 24.92it/s]\n",
      "Generating walks (CPU: 3): 100%|██████████| 25/25 [00:00<00:00, 25.09it/s]\n",
      "Generating walks (CPU: 4): 100%|██████████| 25/25 [00:00<00:00, 25.34it/s]\n",
      " 93%|█████████▎| 224/240 [1:18:22<06:00, 22.51s/it]"
     ]
    },
    {
     "name": "stdout",
     "output_type": "stream",
     "text": [
      "[1]\n"
     ]
    },
    {
     "data": {
      "text/plain": [
       "Computing transition probabilities:   0%|          | 0/559 [00:00<?, ?it/s]"
      ],
      "application/vnd.jupyter.widget-view+json": {
       "version_major": 2,
       "version_minor": 0,
       "model_id": "d15af4466ded4042ac60c4c1dfd19689"
      }
     },
     "metadata": {},
     "output_type": "display_data"
    },
    {
     "name": "stderr",
     "output_type": "stream",
     "text": [
      "Generating walks (CPU: 1): 100%|██████████| 25/25 [00:00<00:00, 25.07it/s]\n",
      "Generating walks (CPU: 2): 100%|██████████| 25/25 [00:01<00:00, 24.88it/s]\n",
      "Generating walks (CPU: 3): 100%|██████████| 25/25 [00:00<00:00, 25.17it/s]\n",
      "Generating walks (CPU: 4): 100%|██████████| 25/25 [00:00<00:00, 25.35it/s]\n",
      " 94%|█████████▍| 225/240 [1:18:45<05:38, 22.58s/it]"
     ]
    },
    {
     "name": "stdout",
     "output_type": "stream",
     "text": [
      "[0]\n"
     ]
    },
    {
     "data": {
      "text/plain": [
       "Computing transition probabilities:   0%|          | 0/559 [00:00<?, ?it/s]"
      ],
      "application/vnd.jupyter.widget-view+json": {
       "version_major": 2,
       "version_minor": 0,
       "model_id": "26076da6df1f488089b7cc47192552be"
      }
     },
     "metadata": {},
     "output_type": "display_data"
    },
    {
     "name": "stderr",
     "output_type": "stream",
     "text": [
      "Generating walks (CPU: 1): 100%|██████████| 25/25 [00:01<00:00, 21.97it/s]\n",
      "Generating walks (CPU: 2): 100%|██████████| 25/25 [00:01<00:00, 23.47it/s]\n",
      "Generating walks (CPU: 3): 100%|██████████| 25/25 [00:01<00:00, 23.64it/s]\n",
      "Generating walks (CPU: 4): 100%|██████████| 25/25 [00:01<00:00, 24.62it/s]\n",
      " 94%|█████████▍| 226/240 [1:19:09<05:20, 22.90s/it]"
     ]
    },
    {
     "name": "stdout",
     "output_type": "stream",
     "text": [
      "[0]\n"
     ]
    },
    {
     "data": {
      "text/plain": [
       "Computing transition probabilities:   0%|          | 0/559 [00:00<?, ?it/s]"
      ],
      "application/vnd.jupyter.widget-view+json": {
       "version_major": 2,
       "version_minor": 0,
       "model_id": "b30b212dc58140c0a5af2fd98b03ec51"
      }
     },
     "metadata": {},
     "output_type": "display_data"
    },
    {
     "name": "stderr",
     "output_type": "stream",
     "text": [
      "Generating walks (CPU: 1): 100%|██████████| 25/25 [00:00<00:00, 25.19it/s]\n",
      "Generating walks (CPU: 2): 100%|██████████| 25/25 [00:00<00:00, 25.18it/s]\n",
      "Generating walks (CPU: 3): 100%|██████████| 25/25 [00:00<00:00, 25.44it/s]\n",
      "Generating walks (CPU: 4): 100%|██████████| 25/25 [00:00<00:00, 25.67it/s]\n",
      " 95%|█████████▍| 227/240 [1:19:34<05:08, 23.73s/it]"
     ]
    },
    {
     "name": "stdout",
     "output_type": "stream",
     "text": [
      "[0]\n"
     ]
    },
    {
     "data": {
      "text/plain": [
       "Computing transition probabilities:   0%|          | 0/559 [00:00<?, ?it/s]"
      ],
      "application/vnd.jupyter.widget-view+json": {
       "version_major": 2,
       "version_minor": 0,
       "model_id": "87c7d3dfcf4f49d3a6ac72c568513d2f"
      }
     },
     "metadata": {},
     "output_type": "display_data"
    },
    {
     "name": "stderr",
     "output_type": "stream",
     "text": [
      "Generating walks (CPU: 1): 100%|██████████| 25/25 [00:01<00:00, 24.68it/s]\n",
      "Generating walks (CPU: 2): 100%|██████████| 25/25 [00:01<00:00, 24.87it/s]\n",
      "Generating walks (CPU: 3): 100%|██████████| 25/25 [00:00<00:00, 25.04it/s]\n",
      "Generating walks (CPU: 4): 100%|██████████| 25/25 [00:00<00:00, 25.19it/s]\n",
      " 95%|█████████▌| 228/240 [1:20:02<04:57, 24.77s/it]"
     ]
    },
    {
     "name": "stdout",
     "output_type": "stream",
     "text": [
      "[0]\n"
     ]
    },
    {
     "data": {
      "text/plain": [
       "Computing transition probabilities:   0%|          | 0/559 [00:00<?, ?it/s]"
      ],
      "application/vnd.jupyter.widget-view+json": {
       "version_major": 2,
       "version_minor": 0,
       "model_id": "1222505ed7744a398cd1a3778715f15b"
      }
     },
     "metadata": {},
     "output_type": "display_data"
    },
    {
     "name": "stderr",
     "output_type": "stream",
     "text": [
      "Generating walks (CPU: 1): 100%|██████████| 25/25 [00:01<00:00, 23.36it/s]\n",
      "Generating walks (CPU: 2): 100%|██████████| 25/25 [00:01<00:00, 24.43it/s]\n",
      "Generating walks (CPU: 3): 100%|██████████| 25/25 [00:01<00:00, 24.74it/s]\n",
      "Generating walks (CPU: 4): 100%|██████████| 25/25 [00:00<00:00, 25.01it/s]\n",
      " 95%|█████████▌| 229/240 [1:20:26<04:31, 24.68s/it]"
     ]
    },
    {
     "name": "stdout",
     "output_type": "stream",
     "text": [
      "[0]\n"
     ]
    },
    {
     "data": {
      "text/plain": [
       "Computing transition probabilities:   0%|          | 0/559 [00:00<?, ?it/s]"
      ],
      "application/vnd.jupyter.widget-view+json": {
       "version_major": 2,
       "version_minor": 0,
       "model_id": "46642442637e40ee9cda211b33c3718f"
      }
     },
     "metadata": {},
     "output_type": "display_data"
    },
    {
     "name": "stderr",
     "output_type": "stream",
     "text": [
      "Generating walks (CPU: 1): 100%|██████████| 25/25 [00:00<00:00, 25.49it/s]\n",
      "Generating walks (CPU: 2): 100%|██████████| 25/25 [00:00<00:00, 25.48it/s]\n",
      "Generating walks (CPU: 3): 100%|██████████| 25/25 [00:00<00:00, 25.63it/s]\n",
      "Generating walks (CPU: 4): 100%|██████████| 25/25 [00:00<00:00, 25.56it/s]\n",
      " 96%|█████████▌| 230/240 [1:20:46<03:53, 23.31s/it]"
     ]
    },
    {
     "name": "stdout",
     "output_type": "stream",
     "text": [
      "[0]\n"
     ]
    },
    {
     "data": {
      "text/plain": [
       "Computing transition probabilities:   0%|          | 0/559 [00:00<?, ?it/s]"
      ],
      "application/vnd.jupyter.widget-view+json": {
       "version_major": 2,
       "version_minor": 0,
       "model_id": "ee06b1c29a1c43db8dc4532d8f3569fe"
      }
     },
     "metadata": {},
     "output_type": "display_data"
    },
    {
     "name": "stderr",
     "output_type": "stream",
     "text": [
      "Generating walks (CPU: 1): 100%|██████████| 25/25 [00:01<00:00, 24.51it/s]\n",
      "Generating walks (CPU: 2): 100%|██████████| 25/25 [00:01<00:00, 24.64it/s]\n",
      "Generating walks (CPU: 3): 100%|██████████| 25/25 [00:01<00:00, 24.62it/s]\n",
      "Generating walks (CPU: 4): 100%|██████████| 25/25 [00:01<00:00, 24.65it/s]\n",
      " 96%|█████████▋| 231/240 [1:21:06<03:19, 22.18s/it]"
     ]
    },
    {
     "name": "stdout",
     "output_type": "stream",
     "text": [
      "[1]\n"
     ]
    },
    {
     "data": {
      "text/plain": [
       "Computing transition probabilities:   0%|          | 0/559 [00:00<?, ?it/s]"
      ],
      "application/vnd.jupyter.widget-view+json": {
       "version_major": 2,
       "version_minor": 0,
       "model_id": "8278b0bf0f3944aebf2003bcd2f5fea6"
      }
     },
     "metadata": {},
     "output_type": "display_data"
    },
    {
     "name": "stderr",
     "output_type": "stream",
     "text": [
      "Generating walks (CPU: 1): 100%|██████████| 25/25 [00:01<00:00, 24.66it/s]\n",
      "Generating walks (CPU: 2): 100%|██████████| 25/25 [00:01<00:00, 24.99it/s]\n",
      "Generating walks (CPU: 3): 100%|██████████| 25/25 [00:00<00:00, 25.42it/s]\n",
      "Generating walks (CPU: 4): 100%|██████████| 25/25 [00:00<00:00, 25.55it/s]\n",
      " 97%|█████████▋| 232/240 [1:21:26<02:53, 21.70s/it]"
     ]
    },
    {
     "name": "stdout",
     "output_type": "stream",
     "text": [
      "[0]\n"
     ]
    },
    {
     "data": {
      "text/plain": [
       "Computing transition probabilities:   0%|          | 0/559 [00:00<?, ?it/s]"
      ],
      "application/vnd.jupyter.widget-view+json": {
       "version_major": 2,
       "version_minor": 0,
       "model_id": "afcdf27df77f4187b02464627db92dca"
      }
     },
     "metadata": {},
     "output_type": "display_data"
    },
    {
     "name": "stderr",
     "output_type": "stream",
     "text": [
      "Generating walks (CPU: 1): 100%|██████████| 25/25 [00:01<00:00, 24.32it/s]\n",
      "Generating walks (CPU: 2): 100%|██████████| 25/25 [00:01<00:00, 24.49it/s]\n",
      "Generating walks (CPU: 3): 100%|██████████| 25/25 [00:01<00:00, 24.73it/s]\n",
      "Generating walks (CPU: 4): 100%|██████████| 25/25 [00:00<00:00, 25.72it/s]\n",
      " 97%|█████████▋| 233/240 [1:21:47<02:28, 21.28s/it]"
     ]
    },
    {
     "name": "stdout",
     "output_type": "stream",
     "text": [
      "[0]\n"
     ]
    },
    {
     "data": {
      "text/plain": [
       "Computing transition probabilities:   0%|          | 0/559 [00:00<?, ?it/s]"
      ],
      "application/vnd.jupyter.widget-view+json": {
       "version_major": 2,
       "version_minor": 0,
       "model_id": "7a7a38f1c4df494b880fb3f6220f20c8"
      }
     },
     "metadata": {},
     "output_type": "display_data"
    },
    {
     "name": "stderr",
     "output_type": "stream",
     "text": [
      "Generating walks (CPU: 1): 100%|██████████| 25/25 [00:01<00:00, 24.54it/s]\n",
      "Generating walks (CPU: 2): 100%|██████████| 25/25 [00:01<00:00, 22.24it/s]\n",
      "Generating walks (CPU: 3): 100%|██████████| 25/25 [00:01<00:00, 22.95it/s]\n",
      "Generating walks (CPU: 4): 100%|██████████| 25/25 [00:01<00:00, 23.31it/s]\n",
      " 98%|█████████▊| 234/240 [1:22:08<02:07, 21.27s/it]"
     ]
    },
    {
     "name": "stdout",
     "output_type": "stream",
     "text": [
      "[0]\n"
     ]
    },
    {
     "data": {
      "text/plain": [
       "Computing transition probabilities:   0%|          | 0/559 [00:00<?, ?it/s]"
      ],
      "application/vnd.jupyter.widget-view+json": {
       "version_major": 2,
       "version_minor": 0,
       "model_id": "dd14742ba3c54ed3b0e5e063ee2fc26d"
      }
     },
     "metadata": {},
     "output_type": "display_data"
    },
    {
     "name": "stderr",
     "output_type": "stream",
     "text": [
      "Generating walks (CPU: 1): 100%|██████████| 25/25 [00:00<00:00, 25.13it/s]\n",
      "Generating walks (CPU: 2): 100%|██████████| 25/25 [00:00<00:00, 25.31it/s]\n",
      "Generating walks (CPU: 3): 100%|██████████| 25/25 [00:00<00:00, 25.37it/s]\n",
      "Generating walks (CPU: 4): 100%|██████████| 25/25 [00:00<00:00, 25.60it/s]\n",
      " 98%|█████████▊| 235/240 [1:22:28<01:45, 21.07s/it]"
     ]
    },
    {
     "name": "stdout",
     "output_type": "stream",
     "text": [
      "[0]\n"
     ]
    },
    {
     "data": {
      "text/plain": [
       "Computing transition probabilities:   0%|          | 0/559 [00:00<?, ?it/s]"
      ],
      "application/vnd.jupyter.widget-view+json": {
       "version_major": 2,
       "version_minor": 0,
       "model_id": "e4f4b2cb0f364b7fa64fb900808edeff"
      }
     },
     "metadata": {},
     "output_type": "display_data"
    },
    {
     "name": "stderr",
     "output_type": "stream",
     "text": [
      "Generating walks (CPU: 1): 100%|██████████| 25/25 [00:01<00:00, 24.82it/s]\n",
      "Generating walks (CPU: 2): 100%|██████████| 25/25 [00:01<00:00, 24.68it/s]\n",
      "Generating walks (CPU: 3): 100%|██████████| 25/25 [00:01<00:00, 24.93it/s]\n",
      "Generating walks (CPU: 4): 100%|██████████| 25/25 [00:01<00:00, 24.39it/s]\n",
      " 98%|█████████▊| 236/240 [1:22:48<01:22, 20.57s/it]"
     ]
    },
    {
     "name": "stdout",
     "output_type": "stream",
     "text": [
      "[0]\n"
     ]
    },
    {
     "data": {
      "text/plain": [
       "Computing transition probabilities:   0%|          | 0/559 [00:00<?, ?it/s]"
      ],
      "application/vnd.jupyter.widget-view+json": {
       "version_major": 2,
       "version_minor": 0,
       "model_id": "699b0a458731470099e5b88c1756e584"
      }
     },
     "metadata": {},
     "output_type": "display_data"
    },
    {
     "name": "stderr",
     "output_type": "stream",
     "text": [
      "Generating walks (CPU: 1): 100%|██████████| 25/25 [00:01<00:00, 24.82it/s]\n",
      "Generating walks (CPU: 2): 100%|██████████| 25/25 [00:01<00:00, 24.87it/s]\n",
      "Generating walks (CPU: 3): 100%|██████████| 25/25 [00:01<00:00, 24.99it/s]\n",
      "Generating walks (CPU: 4): 100%|██████████| 25/25 [00:00<00:00, 25.11it/s]\n",
      " 99%|█████████▉| 237/240 [1:23:09<01:01, 20.60s/it]"
     ]
    },
    {
     "name": "stdout",
     "output_type": "stream",
     "text": [
      "[0]\n"
     ]
    },
    {
     "data": {
      "text/plain": [
       "Computing transition probabilities:   0%|          | 0/559 [00:00<?, ?it/s]"
      ],
      "application/vnd.jupyter.widget-view+json": {
       "version_major": 2,
       "version_minor": 0,
       "model_id": "8bb3fc968fd547a0b3d285ca5fa5147d"
      }
     },
     "metadata": {},
     "output_type": "display_data"
    },
    {
     "name": "stderr",
     "output_type": "stream",
     "text": [
      "Generating walks (CPU: 1): 100%|██████████| 25/25 [00:00<00:00, 25.31it/s]\n",
      "Generating walks (CPU: 2): 100%|██████████| 25/25 [00:00<00:00, 25.42it/s]\n",
      "Generating walks (CPU: 3): 100%|██████████| 25/25 [00:00<00:00, 25.53it/s]\n",
      "Generating walks (CPU: 4): 100%|██████████| 25/25 [00:00<00:00, 25.53it/s]\n",
      " 99%|█████████▉| 238/240 [1:23:27<00:40, 20.05s/it]"
     ]
    },
    {
     "name": "stdout",
     "output_type": "stream",
     "text": [
      "[0]\n"
     ]
    },
    {
     "data": {
      "text/plain": [
       "Computing transition probabilities:   0%|          | 0/559 [00:00<?, ?it/s]"
      ],
      "application/vnd.jupyter.widget-view+json": {
       "version_major": 2,
       "version_minor": 0,
       "model_id": "43e70aea078940bfad31e2397e8f1222"
      }
     },
     "metadata": {},
     "output_type": "display_data"
    },
    {
     "name": "stderr",
     "output_type": "stream",
     "text": [
      "Generating walks (CPU: 1): 100%|██████████| 25/25 [00:00<00:00, 25.28it/s]\n",
      "Generating walks (CPU: 2): 100%|██████████| 25/25 [00:00<00:00, 25.57it/s]\n",
      "Generating walks (CPU: 3): 100%|██████████| 25/25 [00:00<00:00, 25.47it/s]\n",
      "Generating walks (CPU: 4): 100%|██████████| 25/25 [00:00<00:00, 25.72it/s]\n",
      "100%|█████████▉| 239/240 [1:23:46<00:19, 19.56s/it]"
     ]
    },
    {
     "name": "stdout",
     "output_type": "stream",
     "text": [
      "[0]\n"
     ]
    },
    {
     "data": {
      "text/plain": [
       "Computing transition probabilities:   0%|          | 0/559 [00:00<?, ?it/s]"
      ],
      "application/vnd.jupyter.widget-view+json": {
       "version_major": 2,
       "version_minor": 0,
       "model_id": "12cd9867c9c64237910df32a1b936b8b"
      }
     },
     "metadata": {},
     "output_type": "display_data"
    },
    {
     "name": "stderr",
     "output_type": "stream",
     "text": [
      "Generating walks (CPU: 1): 100%|██████████| 25/25 [00:00<00:00, 25.36it/s]\n",
      "Generating walks (CPU: 2): 100%|██████████| 25/25 [00:00<00:00, 25.48it/s]\n",
      "Generating walks (CPU: 3): 100%|██████████| 25/25 [00:00<00:00, 25.68it/s]\n",
      "Generating walks (CPU: 4): 100%|██████████| 25/25 [00:00<00:00, 25.78it/s]\n",
      "100%|██████████| 240/240 [1:24:05<00:00, 21.02s/it]"
     ]
    },
    {
     "name": "stdout",
     "output_type": "stream",
     "text": [
      "[0]\n"
     ]
    },
    {
     "name": "stderr",
     "output_type": "stream",
     "text": [
      "\n"
     ]
    }
   ],
   "execution_count": 78
  },
  {
   "metadata": {
    "ExecuteTime": {
     "end_time": "2024-12-15T13:51:44.250190Z",
     "start_time": "2024-12-15T13:51:44.235772Z"
    }
   },
   "cell_type": "code",
   "source": [
    "from sklearn.metrics import balanced_accuracy_score, f1_score, precision_score, recall_score\n",
    "\n",
    "print(f\"Balanced accuracy: {balanced_accuracy_score(gt, preds)}\")\n",
    "print(f\"F1-score: {f1_score(gt, preds)}\")\n",
    "print(f\"Precision: {precision_score(gt, preds)}\")\n",
    "print(f\"Recall: {recall_score(gt, preds)}\")"
   ],
   "id": "224eda62a6246464",
   "outputs": [
    {
     "name": "stdout",
     "output_type": "stream",
     "text": [
      "Balanced accuracy: 0.4653919886994249\n",
      "F1-score: 0.05333333333333334\n",
      "Precision: 0.09090909090909091\n",
      "Recall: 0.03773584905660377\n"
     ]
    }
   ],
   "execution_count": 81
  }
 ],
 "metadata": {
  "kernelspec": {
   "display_name": "Python 3",
   "language": "python",
   "name": "python3"
  },
  "language_info": {
   "codemirror_mode": {
    "name": "ipython",
    "version": 2
   },
   "file_extension": ".py",
   "mimetype": "text/x-python",
   "name": "python",
   "nbconvert_exporter": "python",
   "pygments_lexer": "ipython2",
   "version": "2.7.6"
  }
 },
 "nbformat": 4,
 "nbformat_minor": 5
}
